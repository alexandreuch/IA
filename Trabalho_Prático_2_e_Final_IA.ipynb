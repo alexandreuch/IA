{
  "nbformat": 4,
  "nbformat_minor": 0,
  "metadata": {
    "colab": {
      "provenance": [],
      "collapsed_sections": [
        "Zu_GMU2-c1c1",
        "MKpMq64yc-46",
        "aiUPlnrKdVXm",
        "Ti9eUEzNeFd9",
        "nhK76dKFx_Su",
        "Q1p0TtFnx8m3",
        "XLr_HJ6E6rbx",
        "awHZIn5u_-Na",
        "Xj0Sa7ora5MC",
        "ICV3vJOmk47s",
        "Hx1TD0EwmJMh",
        "B94R1zIOvhj1",
        "eXi68VDL1N28",
        "fxtLagq23Mlx",
        "G9CIbLf4gZxI",
        "LSt7MPml00SI",
        "8bSoSrorjk_h",
        "GA9a0L6Tohzg",
        "qnLZA0jSmVP8",
        "fJ-P2KU3muF8",
        "6vYu4Tt8m8H3",
        "Gkx1f2QJnD7c",
        "YmSZkynanMpM"
      ]
    },
    "kernelspec": {
      "name": "python3",
      "display_name": "Python 3"
    },
    "language_info": {
      "name": "python"
    },
    "accelerator": "GPU",
    "gpuClass": "standard"
  },
  "cells": [
    {
      "cell_type": "markdown",
      "source": [
        "# **Implementação Trabalho Prático IA**\n",
        "\n",
        "\n",
        "*   Odalisio Leite da Silva Neto\n",
        "*   Vinícius Patrício Medeiros \n",
        "*   Luiza Paula M. Leão\n",
        "*   Rodrigo G. Printes\n",
        "*   Victor G. Cavalcante \n",
        "*   Daniel Santiago da Silva \n",
        "*   André Luiz Miranda Brandão \n",
        "*   Victor G. Cavalcante\n",
        "\n",
        "\n"
      ],
      "metadata": {
        "id": "jXCpMO2Bcdwi"
      }
    },
    {
      "cell_type": "markdown",
      "source": [
        "# Instalações Necessárias"
      ],
      "metadata": {
        "id": "Zu_GMU2-c1c1"
      }
    },
    {
      "cell_type": "code",
      "source": [
        "!pip install keras-rectified-adam\n",
        "!pip install gdown"
      ],
      "metadata": {
        "colab": {
          "base_uri": "https://localhost:8080/"
        },
        "id": "zYl4clTGcrST",
        "outputId": "13716837-8d6c-4f4c-dddf-e2d676c407d2"
      },
      "execution_count": null,
      "outputs": [
        {
          "output_type": "stream",
          "name": "stdout",
          "text": [
            "Collecting keras-rectified-adam\n",
            "  Downloading keras-rectified-adam-0.20.0.tar.gz (7.0 kB)\n",
            "  Preparing metadata (setup.py) ... \u001b[?25l-\b \bdone\n",
            "\u001b[?25hRequirement already satisfied: numpy in ./anaconda3/lib/python3.9/site-packages (from keras-rectified-adam) (1.23.4)\n",
            "Requirement already satisfied: Keras in ./anaconda3/lib/python3.9/site-packages (from keras-rectified-adam) (2.10.0)\n",
            "Building wheels for collected packages: keras-rectified-adam\n",
            "  Building wheel for keras-rectified-adam (setup.py) ... \u001b[?25l-\b \bdone\n",
            "\u001b[?25h  Created wheel for keras-rectified-adam: filename=keras_rectified_adam-0.20.0-py3-none-any.whl size=8256 sha256=cf0be304e0ee409398a651c839aca16db7590a058dc2f4bb0a5a6fb47e877203\n",
            "  Stored in directory: /home/impactlab1/.cache/pip/wheels/24/94/84/addb144608f138b885a2a9f6830b110293290cc5c1befc0d3e\n",
            "Successfully built keras-rectified-adam\n",
            "Installing collected packages: keras-rectified-adam\n",
            "Successfully installed keras-rectified-adam-0.20.0\n",
            "Collecting gdown\n",
            "  Downloading gdown-4.6.4-py3-none-any.whl (14 kB)\n",
            "Requirement already satisfied: filelock in ./anaconda3/lib/python3.9/site-packages (from gdown) (3.8.0)\n",
            "Requirement already satisfied: requests[socks] in ./anaconda3/lib/python3.9/site-packages (from gdown) (2.21.0)\n",
            "Requirement already satisfied: six in ./anaconda3/lib/python3.9/site-packages (from gdown) (1.12.0)\n",
            "Requirement already satisfied: beautifulsoup4 in ./anaconda3/lib/python3.9/site-packages (from gdown) (4.11.1)\n",
            "Requirement already satisfied: tqdm in ./anaconda3/lib/python3.9/site-packages (from gdown) (4.64.1)\n",
            "Requirement already satisfied: soupsieve>1.2 in ./anaconda3/lib/python3.9/site-packages (from beautifulsoup4->gdown) (2.3.2.post1)\n",
            "Requirement already satisfied: urllib3<1.25,>=1.21.1 in ./anaconda3/lib/python3.9/site-packages (from requests[socks]->gdown) (1.24.3)\n",
            "Requirement already satisfied: idna<2.9,>=2.5 in ./anaconda3/lib/python3.9/site-packages (from requests[socks]->gdown) (2.8)\n",
            "Requirement already satisfied: chardet<3.1.0,>=3.0.2 in ./anaconda3/lib/python3.9/site-packages (from requests[socks]->gdown) (3.0.4)\n",
            "Requirement already satisfied: certifi>=2017.4.17 in ./anaconda3/lib/python3.9/site-packages (from requests[socks]->gdown) (2022.9.24)\n",
            "Requirement already satisfied: PySocks!=1.5.7,>=1.5.6 in ./anaconda3/lib/python3.9/site-packages (from requests[socks]->gdown) (1.7.1)\n",
            "Installing collected packages: gdown\n",
            "Successfully installed gdown-4.6.4\n"
          ]
        }
      ]
    },
    {
      "cell_type": "markdown",
      "source": [
        "# Bibliotecas"
      ],
      "metadata": {
        "id": "MKpMq64yc-46"
      }
    },
    {
      "cell_type": "code",
      "source": [
        "import pandas as pd\n",
        "from tqdm import tqdm\n",
        "import numpy as np\n",
        "import matplotlib.pyplot as plt\n",
        "import warnings\n",
        "warnings.filterwarnings('ignore')"
      ],
      "metadata": {
        "id": "fBPMHMzCdA8z"
      },
      "execution_count": null,
      "outputs": []
    },
    {
      "cell_type": "code",
      "source": [
        "import keras \n",
        "from keras.models import Sequential, Model\n",
        "from keras.layers import Dense, Input, concatenate\n",
        "from keras.losses import binary_crossentropy\n",
        "from tensorflow.keras.utils import plot_model\n",
        "from tensorflow.keras import applications\n",
        "from keras_radam import RAdam\n",
        "from sklearn.model_selection import LeaveOneOut, KFold\n",
        "import tensorflow as tf\n",
        "from tensorflow import keras\n",
        "from tensorflow.keras.utils import plot_model\n",
        "from tensorflow.keras import layers\n",
        "       "
      ],
      "metadata": {
        "id": "MstQ2V6odHPh",
        "colab": {
          "base_uri": "https://localhost:8080/"
        },
        "outputId": "212d2d1c-f509-4946-8488-91f0e0efdd97"
      },
      "execution_count": null,
      "outputs": [
        {
          "output_type": "stream",
          "name": "stderr",
          "text": [
            "2023-02-28 20:22:14.810029: I tensorflow/core/platform/cpu_feature_guard.cc:193] This TensorFlow binary is optimized with oneAPI Deep Neural Network Library (oneDNN) to use the following CPU instructions in performance-critical operations:  SSE4.1 SSE4.2 AVX AVX2 AVX512F AVX512_VNNI FMA\n",
            "To enable them in other operations, rebuild TensorFlow with the appropriate compiler flags.\n",
            "2023-02-28 20:22:14.877499: I tensorflow/core/util/util.cc:169] oneDNN custom operations are on. You may see slightly different numerical results due to floating-point round-off errors from different computation orders. To turn them off, set the environment variable `TF_ENABLE_ONEDNN_OPTS=0`.\n"
          ]
        }
      ]
    },
    {
      "cell_type": "code",
      "source": [
        "seed_value=13\n",
        "\n",
        "# 1. Set `PYTHONHASHSEED` environment variable at a fixed value\n",
        "import os\n",
        "os.environ['PYTHONHASHSEED']=str(seed_value)\n",
        "\n",
        "# 2. Set `python` built-in pseudo-random generator at a fixed value\n",
        "import random\n",
        "random.seed(seed_value)\n",
        "\n",
        "# 3. Set `numpy` pseudo-random generator at a fixed value\n",
        "import numpy as np\n",
        "np.random.seed(seed_value)\n",
        "\n",
        "# 4. Set `tensorflow` pseudo-random generator at a fixed value\n",
        "import tensorflow as tf\n",
        "tf.random.set_seed(seed_value)\n",
        "     "
      ],
      "metadata": {
        "id": "jrgIgT9PdRQN"
      },
      "execution_count": null,
      "outputs": []
    },
    {
      "cell_type": "markdown",
      "source": [
        "# Conjunto de Dados"
      ],
      "metadata": {
        "id": "aiUPlnrKdVXm"
      }
    },
    {
      "cell_type": "markdown",
      "source": [
        "Baixando dataset"
      ],
      "metadata": {
        "id": "lC7_itvL7L2K"
      }
    },
    {
      "cell_type": "code",
      "source": [
        "!gdown https://drive.google.com/uc?id=1Y133LvvxdrB9bnBUsPgZanqEVp0C38LJ"
      ],
      "metadata": {
        "colab": {
          "base_uri": "https://localhost:8080/"
        },
        "id": "1gEllK0k7LV1",
        "outputId": "63f9816f-b670-406f-eb93-1bbf1d9e23cb"
      },
      "execution_count": null,
      "outputs": [
        {
          "output_type": "stream",
          "name": "stdout",
          "text": [
            "Downloading...\r\n",
            "From: https://drive.google.com/uc?id=1Y133LvvxdrB9bnBUsPgZanqEVp0C38LJ\r\n",
            "To: /home/impactlab1/trains-transformed.csv\r\n",
            "\r  0%|                                               | 0.00/1.93k [00:00<?, ?B/s]\r100%|██████████████████████████████████████| 1.93k/1.93k [00:00<00:00, 2.75MB/s]\r\n"
          ]
        }
      ]
    },
    {
      "cell_type": "code",
      "source": [
        "data = pd.read_csv(\"trains-transformed.csv\")\n",
        "data"
      ],
      "metadata": {
        "id": "IR6DXRl3dUpp",
        "outputId": "52b8a035-3dff-4b18-e3fd-9f0f0e8b6fa0",
        "colab": {
          "base_uri": "https://localhost:8080/",
          "height": 412
        }
      },
      "execution_count": null,
      "outputs": [
        {
          "output_type": "execute_result",
          "data": {
            "text/plain": [
              "   Number_of_cars  Number_of_different_loads  num_wheels1 length1      shape1  \\\n",
              "0               5                          4            2    long    openrect   \n",
              "1               4                          3            2   short     ushaped   \n",
              "2               4                          2            2   short    openrect   \n",
              "3               5                          2            2   short    opentrap   \n",
              "4               4                          3            2   short  dblopnrect   \n",
              "5               3                          2            2    long  closedrect   \n",
              "6               4                          2            2   short  dblopnrect   \n",
              "7               3                          2            3    long  closedrect   \n",
              "8               5                          2            2   short    opentrap   \n",
              "9               3                          1            2   short     ushaped   \n",
              "\n",
              "   num_loads1 load_shape1  num_wheels2 length2      shape2  ...  \\\n",
              "0           3  rectanglod            2   short    slopetop  ...   \n",
              "1           1   trianglod            2   short    opentrap  ...   \n",
              "2           1   circlelod            2   short     hexagon  ...   \n",
              "3           1   trianglod            2   short  dblopnrect  ...   \n",
              "4           1   trianglod            3    long  closedrect  ...   \n",
              "5           3   circlelod            2   short    openrect  ...   \n",
              "6           1   circlelod            2   short     ushaped  ...   \n",
              "7           1  rectanglod            2   short     ushaped  ...   \n",
              "8           1   circlelod            2    long   jaggedtop  ...   \n",
              "9           1  rectanglod            2    long    openrect  ...   \n",
              "\n",
              "   Rectangle_next_to_triangle Rectangle_next_to_hexagon  \\\n",
              "0                           1                         0   \n",
              "1                           1                         0   \n",
              "2                           0                         0   \n",
              "3                           1                         0   \n",
              "4                           1                         0   \n",
              "5                           0                         0   \n",
              "6                           0                         0   \n",
              "7                           0                         0   \n",
              "8                           0                         0   \n",
              "9                           0                         0   \n",
              "\n",
              "  Rectangle_next_to_circle Triangle_next_to_triangle Triangle_next_to_hexagon  \\\n",
              "0                        0                         0                        1   \n",
              "1                        1                         0                        0   \n",
              "2                        0                         1                        0   \n",
              "3                        0                         1                        0   \n",
              "4                        1                         0                        0   \n",
              "5                        0                         0                        0   \n",
              "6                        0                         0                        0   \n",
              "7                        1                         0                        0   \n",
              "8                        1                         0                        0   \n",
              "9                        0                         0                        0   \n",
              "\n",
              "  Triangle_next_to_circle Hexagon_next_to_hexagon Hexagon_next_to_circle  \\\n",
              "0                       0                       0                      1   \n",
              "1                       0                       0                      0   \n",
              "2                       1                       0                      0   \n",
              "3                       0                       0                      0   \n",
              "4                       0                       0                      0   \n",
              "5                       1                       0                      0   \n",
              "6                       1                       0                      0   \n",
              "7                       0                       0                      0   \n",
              "8                       0                       0                      0   \n",
              "9                       0                       0                      0   \n",
              "\n",
              "  Circle_next_to_circle Class_attribute  \n",
              "0                     0            east  \n",
              "1                     0            east  \n",
              "2                     0            east  \n",
              "3                     0            east  \n",
              "4                     0            east  \n",
              "5                     0            west  \n",
              "6                     0            west  \n",
              "7                     0            west  \n",
              "8                     0            west  \n",
              "9                     0            west  \n",
              "\n",
              "[10 rows x 33 columns]"
            ],
            "text/html": [
              "<div>\n",
              "<style scoped>\n",
              "    .dataframe tbody tr th:only-of-type {\n",
              "        vertical-align: middle;\n",
              "    }\n",
              "\n",
              "    .dataframe tbody tr th {\n",
              "        vertical-align: top;\n",
              "    }\n",
              "\n",
              "    .dataframe thead th {\n",
              "        text-align: right;\n",
              "    }\n",
              "</style>\n",
              "<table border=\"1\" class=\"dataframe\">\n",
              "  <thead>\n",
              "    <tr style=\"text-align: right;\">\n",
              "      <th></th>\n",
              "      <th>Number_of_cars</th>\n",
              "      <th>Number_of_different_loads</th>\n",
              "      <th>num_wheels1</th>\n",
              "      <th>length1</th>\n",
              "      <th>shape1</th>\n",
              "      <th>num_loads1</th>\n",
              "      <th>load_shape1</th>\n",
              "      <th>num_wheels2</th>\n",
              "      <th>length2</th>\n",
              "      <th>shape2</th>\n",
              "      <th>...</th>\n",
              "      <th>Rectangle_next_to_triangle</th>\n",
              "      <th>Rectangle_next_to_hexagon</th>\n",
              "      <th>Rectangle_next_to_circle</th>\n",
              "      <th>Triangle_next_to_triangle</th>\n",
              "      <th>Triangle_next_to_hexagon</th>\n",
              "      <th>Triangle_next_to_circle</th>\n",
              "      <th>Hexagon_next_to_hexagon</th>\n",
              "      <th>Hexagon_next_to_circle</th>\n",
              "      <th>Circle_next_to_circle</th>\n",
              "      <th>Class_attribute</th>\n",
              "    </tr>\n",
              "  </thead>\n",
              "  <tbody>\n",
              "    <tr>\n",
              "      <th>0</th>\n",
              "      <td>5</td>\n",
              "      <td>4</td>\n",
              "      <td>2</td>\n",
              "      <td>long</td>\n",
              "      <td>openrect</td>\n",
              "      <td>3</td>\n",
              "      <td>rectanglod</td>\n",
              "      <td>2</td>\n",
              "      <td>short</td>\n",
              "      <td>slopetop</td>\n",
              "      <td>...</td>\n",
              "      <td>1</td>\n",
              "      <td>0</td>\n",
              "      <td>0</td>\n",
              "      <td>0</td>\n",
              "      <td>1</td>\n",
              "      <td>0</td>\n",
              "      <td>0</td>\n",
              "      <td>1</td>\n",
              "      <td>0</td>\n",
              "      <td>east</td>\n",
              "    </tr>\n",
              "    <tr>\n",
              "      <th>1</th>\n",
              "      <td>4</td>\n",
              "      <td>3</td>\n",
              "      <td>2</td>\n",
              "      <td>short</td>\n",
              "      <td>ushaped</td>\n",
              "      <td>1</td>\n",
              "      <td>trianglod</td>\n",
              "      <td>2</td>\n",
              "      <td>short</td>\n",
              "      <td>opentrap</td>\n",
              "      <td>...</td>\n",
              "      <td>1</td>\n",
              "      <td>0</td>\n",
              "      <td>1</td>\n",
              "      <td>0</td>\n",
              "      <td>0</td>\n",
              "      <td>0</td>\n",
              "      <td>0</td>\n",
              "      <td>0</td>\n",
              "      <td>0</td>\n",
              "      <td>east</td>\n",
              "    </tr>\n",
              "    <tr>\n",
              "      <th>2</th>\n",
              "      <td>4</td>\n",
              "      <td>2</td>\n",
              "      <td>2</td>\n",
              "      <td>short</td>\n",
              "      <td>openrect</td>\n",
              "      <td>1</td>\n",
              "      <td>circlelod</td>\n",
              "      <td>2</td>\n",
              "      <td>short</td>\n",
              "      <td>hexagon</td>\n",
              "      <td>...</td>\n",
              "      <td>0</td>\n",
              "      <td>0</td>\n",
              "      <td>0</td>\n",
              "      <td>1</td>\n",
              "      <td>0</td>\n",
              "      <td>1</td>\n",
              "      <td>0</td>\n",
              "      <td>0</td>\n",
              "      <td>0</td>\n",
              "      <td>east</td>\n",
              "    </tr>\n",
              "    <tr>\n",
              "      <th>3</th>\n",
              "      <td>5</td>\n",
              "      <td>2</td>\n",
              "      <td>2</td>\n",
              "      <td>short</td>\n",
              "      <td>opentrap</td>\n",
              "      <td>1</td>\n",
              "      <td>trianglod</td>\n",
              "      <td>2</td>\n",
              "      <td>short</td>\n",
              "      <td>dblopnrect</td>\n",
              "      <td>...</td>\n",
              "      <td>1</td>\n",
              "      <td>0</td>\n",
              "      <td>0</td>\n",
              "      <td>1</td>\n",
              "      <td>0</td>\n",
              "      <td>0</td>\n",
              "      <td>0</td>\n",
              "      <td>0</td>\n",
              "      <td>0</td>\n",
              "      <td>east</td>\n",
              "    </tr>\n",
              "    <tr>\n",
              "      <th>4</th>\n",
              "      <td>4</td>\n",
              "      <td>3</td>\n",
              "      <td>2</td>\n",
              "      <td>short</td>\n",
              "      <td>dblopnrect</td>\n",
              "      <td>1</td>\n",
              "      <td>trianglod</td>\n",
              "      <td>3</td>\n",
              "      <td>long</td>\n",
              "      <td>closedrect</td>\n",
              "      <td>...</td>\n",
              "      <td>1</td>\n",
              "      <td>0</td>\n",
              "      <td>1</td>\n",
              "      <td>0</td>\n",
              "      <td>0</td>\n",
              "      <td>0</td>\n",
              "      <td>0</td>\n",
              "      <td>0</td>\n",
              "      <td>0</td>\n",
              "      <td>east</td>\n",
              "    </tr>\n",
              "    <tr>\n",
              "      <th>5</th>\n",
              "      <td>3</td>\n",
              "      <td>2</td>\n",
              "      <td>2</td>\n",
              "      <td>long</td>\n",
              "      <td>closedrect</td>\n",
              "      <td>3</td>\n",
              "      <td>circlelod</td>\n",
              "      <td>2</td>\n",
              "      <td>short</td>\n",
              "      <td>openrect</td>\n",
              "      <td>...</td>\n",
              "      <td>0</td>\n",
              "      <td>0</td>\n",
              "      <td>0</td>\n",
              "      <td>0</td>\n",
              "      <td>0</td>\n",
              "      <td>1</td>\n",
              "      <td>0</td>\n",
              "      <td>0</td>\n",
              "      <td>0</td>\n",
              "      <td>west</td>\n",
              "    </tr>\n",
              "    <tr>\n",
              "      <th>6</th>\n",
              "      <td>4</td>\n",
              "      <td>2</td>\n",
              "      <td>2</td>\n",
              "      <td>short</td>\n",
              "      <td>dblopnrect</td>\n",
              "      <td>1</td>\n",
              "      <td>circlelod</td>\n",
              "      <td>2</td>\n",
              "      <td>short</td>\n",
              "      <td>ushaped</td>\n",
              "      <td>...</td>\n",
              "      <td>0</td>\n",
              "      <td>0</td>\n",
              "      <td>0</td>\n",
              "      <td>0</td>\n",
              "      <td>0</td>\n",
              "      <td>1</td>\n",
              "      <td>0</td>\n",
              "      <td>0</td>\n",
              "      <td>0</td>\n",
              "      <td>west</td>\n",
              "    </tr>\n",
              "    <tr>\n",
              "      <th>7</th>\n",
              "      <td>3</td>\n",
              "      <td>2</td>\n",
              "      <td>3</td>\n",
              "      <td>long</td>\n",
              "      <td>closedrect</td>\n",
              "      <td>1</td>\n",
              "      <td>rectanglod</td>\n",
              "      <td>2</td>\n",
              "      <td>short</td>\n",
              "      <td>ushaped</td>\n",
              "      <td>...</td>\n",
              "      <td>0</td>\n",
              "      <td>0</td>\n",
              "      <td>1</td>\n",
              "      <td>0</td>\n",
              "      <td>0</td>\n",
              "      <td>0</td>\n",
              "      <td>0</td>\n",
              "      <td>0</td>\n",
              "      <td>0</td>\n",
              "      <td>west</td>\n",
              "    </tr>\n",
              "    <tr>\n",
              "      <th>8</th>\n",
              "      <td>5</td>\n",
              "      <td>2</td>\n",
              "      <td>2</td>\n",
              "      <td>short</td>\n",
              "      <td>opentrap</td>\n",
              "      <td>1</td>\n",
              "      <td>circlelod</td>\n",
              "      <td>2</td>\n",
              "      <td>long</td>\n",
              "      <td>jaggedtop</td>\n",
              "      <td>...</td>\n",
              "      <td>0</td>\n",
              "      <td>0</td>\n",
              "      <td>1</td>\n",
              "      <td>0</td>\n",
              "      <td>0</td>\n",
              "      <td>0</td>\n",
              "      <td>0</td>\n",
              "      <td>0</td>\n",
              "      <td>0</td>\n",
              "      <td>west</td>\n",
              "    </tr>\n",
              "    <tr>\n",
              "      <th>9</th>\n",
              "      <td>3</td>\n",
              "      <td>1</td>\n",
              "      <td>2</td>\n",
              "      <td>short</td>\n",
              "      <td>ushaped</td>\n",
              "      <td>1</td>\n",
              "      <td>rectanglod</td>\n",
              "      <td>2</td>\n",
              "      <td>long</td>\n",
              "      <td>openrect</td>\n",
              "      <td>...</td>\n",
              "      <td>0</td>\n",
              "      <td>0</td>\n",
              "      <td>0</td>\n",
              "      <td>0</td>\n",
              "      <td>0</td>\n",
              "      <td>0</td>\n",
              "      <td>0</td>\n",
              "      <td>0</td>\n",
              "      <td>0</td>\n",
              "      <td>west</td>\n",
              "    </tr>\n",
              "  </tbody>\n",
              "</table>\n",
              "<p>10 rows × 33 columns</p>\n",
              "</div>"
            ]
          },
          "metadata": {},
          "execution_count": 6
        }
      ]
    },
    {
      "cell_type": "code",
      "source": [
        "data.columns"
      ],
      "metadata": {
        "id": "5AmnlSAgdRVt",
        "colab": {
          "base_uri": "https://localhost:8080/"
        },
        "outputId": "7224d374-3ae3-476f-fae3-d117b9c3194b"
      },
      "execution_count": null,
      "outputs": [
        {
          "output_type": "execute_result",
          "data": {
            "text/plain": [
              "Index(['Number_of_cars', 'Number_of_different_loads', 'num_wheels1', 'length1',\n",
              "       'shape1', 'num_loads1', 'load_shape1', 'num_wheels2', 'length2',\n",
              "       'shape2', 'num_loads2', 'load_shape2', 'num_wheels3', 'length3',\n",
              "       'shape3', 'num_loads3', 'load_shape3', 'num_wheels4', 'length4',\n",
              "       'shape4', 'num_loads4', 'load_shape4', 'Rectangle_next_to_rectangle',\n",
              "       'Rectangle_next_to_triangle', 'Rectangle_next_to_hexagon',\n",
              "       'Rectangle_next_to_circle', 'Triangle_next_to_triangle',\n",
              "       'Triangle_next_to_hexagon', 'Triangle_next_to_circle',\n",
              "       'Hexagon_next_to_hexagon', 'Hexagon_next_to_circle',\n",
              "       'Circle_next_to_circle', 'Class_attribute'],\n",
              "      dtype='object')"
            ]
          },
          "metadata": {},
          "execution_count": 7
        }
      ]
    },
    {
      "cell_type": "code",
      "source": [
        "data.shape"
      ],
      "metadata": {
        "id": "ua3-VaMG7cIZ",
        "colab": {
          "base_uri": "https://localhost:8080/"
        },
        "outputId": "75f0fa7a-09db-4f9c-c3fe-0010f7e4ee7f"
      },
      "execution_count": null,
      "outputs": [
        {
          "output_type": "execute_result",
          "data": {
            "text/plain": [
              "(10, 33)"
            ]
          },
          "metadata": {},
          "execution_count": 8
        }
      ]
    },
    {
      "cell_type": "markdown",
      "source": [
        "# **Questão 1**"
      ],
      "metadata": {
        "id": "Ti9eUEzNeFd9"
      }
    },
    {
      "cell_type": "markdown",
      "source": [
        "## Implementação Meta-rede"
      ],
      "metadata": {
        "id": "nhK76dKFx_Su"
      }
    },
    {
      "cell_type": "code",
      "source": [
        "# modelo de classificação de trens\n",
        "# construção de cada meta-rede\n",
        "\n",
        "def metarede():\n",
        "\n",
        "  t   = Input(shape=(1,), name='t')\n",
        "  c   = Input(shape=(1,), name='c') \n",
        "  w   = Input(shape=(1,), name='w')\n",
        "  l   = Input(shape=(1,), name='l')\n",
        "  s   = Input(shape=(1,), name='s')\n",
        "  nc  = Input(shape=(1,), name='nc')\n",
        "  ls  = Input(shape=(1,), name='ls')\n",
        "  nl  = Input(shape=(1,), name='nl')\n",
        "  ncl = Input(shape=(1,), name='ncl')\n",
        "  x_crc = Input(shape=(1,), name='x_crc')\n",
        "  x_hex = Input(shape=(1,), name='x_hex')\n",
        "  x_rec = Input(shape=(1,), name='x_rec')\n",
        "  x_tri = Input(shape=(1,), name='x_tri')\n",
        "\n",
        "  # 1. num_cars(t, nc), em que t ∊ [1..10] e nc ∊ [3..5].\n",
        "  num_cars_ = concatenate([t,nc])\n",
        "  num_cars_ = Dense(20, activation='relu')(num_cars_)\n",
        "  num_cars = Dense(1, activation='sigmoid', name='num_cars')(num_cars_)\n",
        "  num_cars = Model(inputs=[t,nc], outputs=num_cars)\n",
        "\n",
        "  #2. num\\_loads(t, nl) em que t ∊ [1..10] e nl ∊ [1..4].\n",
        "  num_loads_ = concatenate([t,nl])\n",
        "  num_loads_ = Dense(20, activation='relu')(num_loads_)\n",
        "  num_loads = Dense(1, activation='sigmoid', name='num_loads')(num_loads_)\n",
        "  num_loads = Model(inputs=[t,nl], outputs=num_loads)\n",
        "\n",
        "  #3. num_wheels(t, c, w) em que t ∊ [1..10] e c ∊ [1..4] e w ∊ [2..3].\n",
        "  num_wheels_ = concatenate([t,c,w])\n",
        "  num_wheels_ = Dense(20, activation='relu')(num_wheels_)\n",
        "  num_wheels = Dense(1, activation='sigmoid', name='num_wheels')(num_wheels_)\n",
        "  num_wheels = Model(inputs=[t,c,w], outputs=num_wheels)\n",
        "\n",
        "  #4. length(t, c, l) em que t ∊ [1..10] e c ∊ [1..4] e l ∊ [-1..1](-1 denota curto e 1 longo)\n",
        "  length_ = concatenate([t,c,l])\n",
        "  length_ = Dense(20, activation='relu')(length_)\n",
        "  length = Dense(1, activation='sigmoid', name='length')(length_)\n",
        "  length = Model(inputs=[t,c,l], outputs=length)\n",
        "\n",
        "  #5.shape(t, c, s) em que t ∊ [1..10] e c ∊ [1..4] e s ∊ [1..10](um número para cada forma).\n",
        "  shape_ = concatenate([t,c,s])\n",
        "  shape_ = Dense(20, activation='relu')(shape_)\n",
        "  shape = Dense(1, activation='sigmoid', name='shape')(shape_)\n",
        "  shape = Model(inputs=[t,c,s], outputs=shape)\n",
        "\n",
        "  #6. num_cars_loads(t, c, ncl) em que t ∊ [1..10] e c ∊ [1..4] e ncl ∊ [0..3].\n",
        "  num_car_loads_ = concatenate([t,c,ncl])\n",
        "  num_car_loads_ = Dense(20, activation='relu')(num_car_loads_)\n",
        "  num_car_loads = Dense(1, activation='sigmoid', name='num_car_loads')(num_car_loads_)\n",
        "  num_car_loads = Model(inputs=[t,c,ncl], outputs=num_car_loads)\n",
        "\n",
        "  #7. load_shape(t, c, ls) em que t ∊ [1..10] e c ∊ [1..4] e ls ∊ [1..4].\n",
        "  load_shape_ = concatenate([t,c,ls])\n",
        "  load_shape_ = Dense(20, activation='relu')(load_shape_)\n",
        "  load_shape = Dense(1, activation='sigmoid', name='load_shape')(load_shape_)\n",
        "  load_shape = Model(inputs=[t,c,ls], outputs=load_shape)\n",
        "\n",
        "  #8. next_crc(t, c, x) em que t ∊ [1..10] e c ∊ [1..4] e x ∊ [-1..1], em que o vagão c do trem t tem um vagão adjacente com cargas em círculo.\n",
        "  next_crc_ = concatenate([t,c,x_crc])\n",
        "  next_crc_ = Dense(20, activation='relu')(next_crc_)\n",
        "  next_crc = Dense(1, activation='sigmoid', name='next_crc')(next_crc_)\n",
        "  next_crc = Model(inputs=[t,c,x_crc], outputs=next_crc)\n",
        "\n",
        "  #9. next_hex(t, c, x) em que t ∊ [1..10] e c ∊ [1..4] e x ∊ [-1..1], em que o vagão c do trem t tem um vagão adjacente com cargas em hexágono.\n",
        "  next_hex_ = concatenate([t,c,x_hex])\n",
        "  next_hex_ = Dense(20, activation='relu')(next_hex_)\n",
        "  next_hex = Dense(1, activation='sigmoid', name='next_hex')(next_hex_)\n",
        "  next_hex = Model(inputs=[t,c,x_hex], outputs=next_hex)\n",
        "\n",
        "  #10. next_rec(t, c, x) em que t ∊ [1..10] e c ∊ [1..4] e x ∊ [-1..1], em que o vagão c do trem t tem um vagão adjacente com cargas em retângulo.\n",
        "  next_rec_ = concatenate([t,c,x_rec])\n",
        "  next_rec_ = Dense(20, activation='relu')(next_rec_)\n",
        "  next_rec = Dense(1, activation='sigmoid', name='next_rec')(next_rec_)\n",
        "  next_rec = Model(inputs=[t,c,x_rec], outputs=next_rec)\n",
        "\n",
        "  #11.next_tri(t, c, x) em que t ∊ [1..10] e c ∊ [1..4] e x ∊ [-1..1], em que o vagão c do trem t tem um vagão adjacente com cargas em triângulo\n",
        "  next_tri_ = concatenate([t,c,x_tri])\n",
        "  next_tri_ = Dense(20, activation='relu')(next_tri_)\n",
        "  next_tri = Dense(1, activation='sigmoid', name='next_tri')(next_tri_)\n",
        "  next_tri = Model(inputs=[t,c,x_tri], outputs=next_tri)\n",
        "\n",
        "  east = concatenate([ num_cars_, num_loads_, num_wheels_,length_,shape_, num_car_loads_,\n",
        "                    load_shape_, next_crc_, next_hex_, next_rec_,next_tri_])\n",
        "  east = Dense(3, activation='relu')(east)\n",
        "  east = Dense(1, activation='sigmoid', name='east')(east)\n",
        "  east = Model(inputs=[t, c, w, l, s, nc, ls, nl, ncl, x_crc, x_hex, x_rec, x_tri], outputs=east)\n",
        "# metanet\n",
        "  metanet = Model(inputs=east.inputs, \n",
        "              outputs=[num_cars.output, num_loads.output, num_wheels.output, length.output,\n",
        "                      shape.output, num_car_loads.output, load_shape.output,next_crc.output,\n",
        "                      next_hex.output, next_rec.output, next_tri.output, east.output])\n",
        "  \n",
        "  rules = { 'num_cars': num_cars, 'num_loads': num_loads, 'num_wheels': num_wheels, \n",
        "        'length': length, 'shape': shape, 'num_car_loads': num_car_loads,\n",
        "        'load_shape': load_shape, 'next_crc': next_crc, 'next_hex': next_hex,\n",
        "        'next_rec': next_rec, 'next_tri': next_tri,}\n",
        "  return metanet, east, rules\n"
      ],
      "metadata": {
        "id": "luxs0lq4p0it"
      },
      "execution_count": null,
      "outputs": []
    },
    {
      "cell_type": "code",
      "source": [
        "metanet, east, rules =  metarede()"
      ],
      "metadata": {
        "id": "SNJWVXrCxQrl"
      },
      "execution_count": null,
      "outputs": []
    },
    {
      "cell_type": "code",
      "source": [
        "metanet.summary()"
      ],
      "metadata": {
        "id": "h9lGdQcXxaqL",
        "colab": {
          "base_uri": "https://localhost:8080/"
        },
        "outputId": "6375c5a1-4f62-4e8c-fcde-cf3d1cc9fea1"
      },
      "execution_count": null,
      "outputs": [
        {
          "output_type": "stream",
          "name": "stdout",
          "text": [
            "Model: \"model_329\"\n",
            "__________________________________________________________________________________________________\n",
            " Layer (type)                   Output Shape         Param #     Connected to                     \n",
            "==================================================================================================\n",
            " t (InputLayer)                 [(None, 1)]          0           []                               \n",
            "                                                                                                  \n",
            " nc (InputLayer)                [(None, 1)]          0           []                               \n",
            "                                                                                                  \n",
            " nl (InputLayer)                [(None, 1)]          0           []                               \n",
            "                                                                                                  \n",
            " c (InputLayer)                 [(None, 1)]          0           []                               \n",
            "                                                                                                  \n",
            " w (InputLayer)                 [(None, 1)]          0           []                               \n",
            "                                                                                                  \n",
            " l (InputLayer)                 [(None, 1)]          0           []                               \n",
            "                                                                                                  \n",
            " s (InputLayer)                 [(None, 1)]          0           []                               \n",
            "                                                                                                  \n",
            " ncl (InputLayer)               [(None, 1)]          0           []                               \n",
            "                                                                                                  \n",
            " ls (InputLayer)                [(None, 1)]          0           []                               \n",
            "                                                                                                  \n",
            " x_crc (InputLayer)             [(None, 1)]          0           []                               \n",
            "                                                                                                  \n",
            " x_hex (InputLayer)             [(None, 1)]          0           []                               \n",
            "                                                                                                  \n",
            " x_rec (InputLayer)             [(None, 1)]          0           []                               \n",
            "                                                                                                  \n",
            " x_tri (InputLayer)             [(None, 1)]          0           []                               \n",
            "                                                                                                  \n",
            " concatenate_297 (Concatenate)  (None, 2)            0           ['t[0][0]',                      \n",
            "                                                                  'nc[0][0]']                     \n",
            "                                                                                                  \n",
            " concatenate_298 (Concatenate)  (None, 2)            0           ['t[0][0]',                      \n",
            "                                                                  'nl[0][0]']                     \n",
            "                                                                                                  \n",
            " concatenate_299 (Concatenate)  (None, 3)            0           ['t[0][0]',                      \n",
            "                                                                  'c[0][0]',                      \n",
            "                                                                  'w[0][0]']                      \n",
            "                                                                                                  \n",
            " concatenate_300 (Concatenate)  (None, 3)            0           ['t[0][0]',                      \n",
            "                                                                  'c[0][0]',                      \n",
            "                                                                  'l[0][0]']                      \n",
            "                                                                                                  \n",
            " concatenate_301 (Concatenate)  (None, 3)            0           ['t[0][0]',                      \n",
            "                                                                  'c[0][0]',                      \n",
            "                                                                  's[0][0]']                      \n",
            "                                                                                                  \n",
            " concatenate_302 (Concatenate)  (None, 3)            0           ['t[0][0]',                      \n",
            "                                                                  'c[0][0]',                      \n",
            "                                                                  'ncl[0][0]']                    \n",
            "                                                                                                  \n",
            " concatenate_303 (Concatenate)  (None, 3)            0           ['t[0][0]',                      \n",
            "                                                                  'c[0][0]',                      \n",
            "                                                                  'ls[0][0]']                     \n",
            "                                                                                                  \n",
            " concatenate_304 (Concatenate)  (None, 3)            0           ['t[0][0]',                      \n",
            "                                                                  'c[0][0]',                      \n",
            "                                                                  'x_crc[0][0]']                  \n",
            "                                                                                                  \n",
            " concatenate_305 (Concatenate)  (None, 3)            0           ['t[0][0]',                      \n",
            "                                                                  'c[0][0]',                      \n",
            "                                                                  'x_hex[0][0]']                  \n",
            "                                                                                                  \n",
            " concatenate_306 (Concatenate)  (None, 3)            0           ['t[0][0]',                      \n",
            "                                                                  'c[0][0]',                      \n",
            "                                                                  'x_rec[0][0]']                  \n",
            "                                                                                                  \n",
            " concatenate_307 (Concatenate)  (None, 3)            0           ['t[0][0]',                      \n",
            "                                                                  'c[0][0]',                      \n",
            "                                                                  'x_tri[0][0]']                  \n",
            "                                                                                                  \n",
            " dense_297 (Dense)              (None, 20)           60          ['concatenate_297[0][0]']        \n",
            "                                                                                                  \n",
            " dense_298 (Dense)              (None, 20)           60          ['concatenate_298[0][0]']        \n",
            "                                                                                                  \n",
            " dense_299 (Dense)              (None, 20)           80          ['concatenate_299[0][0]']        \n",
            "                                                                                                  \n",
            " dense_300 (Dense)              (None, 20)           80          ['concatenate_300[0][0]']        \n",
            "                                                                                                  \n",
            " dense_301 (Dense)              (None, 20)           80          ['concatenate_301[0][0]']        \n",
            "                                                                                                  \n",
            " dense_302 (Dense)              (None, 20)           80          ['concatenate_302[0][0]']        \n",
            "                                                                                                  \n",
            " dense_303 (Dense)              (None, 20)           80          ['concatenate_303[0][0]']        \n",
            "                                                                                                  \n",
            " dense_304 (Dense)              (None, 20)           80          ['concatenate_304[0][0]']        \n",
            "                                                                                                  \n",
            " dense_305 (Dense)              (None, 20)           80          ['concatenate_305[0][0]']        \n",
            "                                                                                                  \n",
            " dense_306 (Dense)              (None, 20)           80          ['concatenate_306[0][0]']        \n",
            "                                                                                                  \n",
            " dense_307 (Dense)              (None, 20)           80          ['concatenate_307[0][0]']        \n",
            "                                                                                                  \n",
            " concatenate_308 (Concatenate)  (None, 220)          0           ['dense_297[0][0]',              \n",
            "                                                                  'dense_298[0][0]',              \n",
            "                                                                  'dense_299[0][0]',              \n",
            "                                                                  'dense_300[0][0]',              \n",
            "                                                                  'dense_301[0][0]',              \n",
            "                                                                  'dense_302[0][0]',              \n",
            "                                                                  'dense_303[0][0]',              \n",
            "                                                                  'dense_304[0][0]',              \n",
            "                                                                  'dense_305[0][0]',              \n",
            "                                                                  'dense_306[0][0]',              \n",
            "                                                                  'dense_307[0][0]']              \n",
            "                                                                                                  \n",
            " dense_308 (Dense)              (None, 3)            663         ['concatenate_308[0][0]']        \n",
            "                                                                                                  \n",
            " num_cars (Dense)               (None, 1)            21          ['dense_297[0][0]']              \n",
            "                                                                                                  \n",
            " num_loads (Dense)              (None, 1)            21          ['dense_298[0][0]']              \n",
            "                                                                                                  \n",
            " num_wheels (Dense)             (None, 1)            21          ['dense_299[0][0]']              \n",
            "                                                                                                  \n",
            " length (Dense)                 (None, 1)            21          ['dense_300[0][0]']              \n",
            "                                                                                                  \n",
            " shape (Dense)                  (None, 1)            21          ['dense_301[0][0]']              \n",
            "                                                                                                  \n",
            " num_car_loads (Dense)          (None, 1)            21          ['dense_302[0][0]']              \n",
            "                                                                                                  \n",
            " load_shape (Dense)             (None, 1)            21          ['dense_303[0][0]']              \n",
            "                                                                                                  \n",
            " next_crc (Dense)               (None, 1)            21          ['dense_304[0][0]']              \n",
            "                                                                                                  \n",
            " next_hex (Dense)               (None, 1)            21          ['dense_305[0][0]']              \n",
            "                                                                                                  \n",
            " next_rec (Dense)               (None, 1)            21          ['dense_306[0][0]']              \n",
            "                                                                                                  \n",
            " next_tri (Dense)               (None, 1)            21          ['dense_307[0][0]']              \n",
            "                                                                                                  \n",
            " east (Dense)                   (None, 1)            4           ['dense_308[0][0]']              \n",
            "                                                                                                  \n",
            "==================================================================================================\n",
            "Total params: 1,738\n",
            "Trainable params: 1,738\n",
            "Non-trainable params: 0\n",
            "__________________________________________________________________________________________________\n"
          ]
        }
      ]
    },
    {
      "cell_type": "code",
      "source": [
        "plot_model(metanet, show_shapes=False, show_layer_names=True)"
      ],
      "metadata": {
        "id": "DT8W503Ixj0t",
        "colab": {
          "base_uri": "https://localhost:8080/",
          "height": 275
        },
        "outputId": "c80108bb-84cf-41ff-ddd3-0aa6793f5965"
      },
      "execution_count": null,
      "outputs": [
        {
          "output_type": "execute_result",
          "data": {
            "image/png": "[encoded data removed]",
            "text/plain": [
              "<IPython.core.display.Image object>"
            ]
          },
          "metadata": {},
          "execution_count": 48
        }
      ]
    },
    {
      "cell_type": "markdown",
      "source": [
        "## Preparo do dataset"
      ],
      "metadata": {
        "id": "Q1p0TtFnx8m3"
      }
    },
    {
      "cell_type": "code",
      "source": [
        "def encode_to_int(field,top):\n",
        "  data[field].replace(top,[float(i) for i in range(len(top)-1)] + [-1] ,inplace=True)"
      ],
      "metadata": {
        "id": "732YlABB7nOW"
      },
      "execution_count": null,
      "outputs": []
    },
    {
      "cell_type": "code",
      "source": [
        "length = ['short', 'long','None']\n",
        "shape = ['closedrect', 'dblopnrect', 'ellipse', 'engine', 'hexagon','jaggedtop', 'openrect', 'opentrap', 'slopetop', 'ushaped','None']\n",
        "load_shape = ['circlelod', 'hexagonlod', 'rectanglod', 'trianglod','None']\n",
        "Class_attribute = ['west','east']\n",
        "\n",
        "for f in ['length1','length2','length3','length4']:\n",
        "  encode_to_int(f,length)\n",
        "\n",
        "for f in ['shape1','shape2','shape3','shape4']:\n",
        "  encode_to_int(f,shape)\n",
        "\n",
        "for f in ['load_shape1','load_shape2','load_shape3','load_shape4']:\n",
        "  encode_to_int(f,load_shape)\n",
        "\n",
        "for f in ['num_loads1','num_loads2','num_loads3','num_loads4']:\n",
        "  encode_to_int(f,['None'])\n",
        "\n",
        "for f in ['num_wheels1','num_wheels2','num_wheels3','num_wheels4']:\n",
        "  encode_to_int(f,['None'])\n",
        "\n",
        "\n",
        "data['Class_attribute'].replace(Class_attribute,[0,1],inplace=True)"
      ],
      "metadata": {
        "id": "zYH45Crj7pZE"
      },
      "execution_count": null,
      "outputs": []
    },
    {
      "cell_type": "code",
      "source": [
        "data = data.astype(float)\n",
        "print(data.dtypes)"
      ],
      "metadata": {
        "id": "vu5g7REM7tgP",
        "colab": {
          "base_uri": "https://localhost:8080/"
        },
        "outputId": "54f078cc-4aa8-432a-943a-303d20fb2211"
      },
      "execution_count": null,
      "outputs": [
        {
          "output_type": "stream",
          "name": "stdout",
          "text": [
            "Number_of_cars                 float64\n",
            "Number_of_different_loads      float64\n",
            "num_wheels1                    float64\n",
            "length1                        float64\n",
            "shape1                         float64\n",
            "num_loads1                     float64\n",
            "load_shape1                    float64\n",
            "num_wheels2                    float64\n",
            "length2                        float64\n",
            "shape2                         float64\n",
            "num_loads2                     float64\n",
            "load_shape2                    float64\n",
            "num_wheels3                    float64\n",
            "length3                        float64\n",
            "shape3                         float64\n",
            "num_loads3                     float64\n",
            "load_shape3                    float64\n",
            "num_wheels4                    float64\n",
            "length4                        float64\n",
            "shape4                         float64\n",
            "num_loads4                     float64\n",
            "load_shape4                    float64\n",
            "Rectangle_next_to_rectangle    float64\n",
            "Rectangle_next_to_triangle     float64\n",
            "Rectangle_next_to_hexagon      float64\n",
            "Rectangle_next_to_circle       float64\n",
            "Triangle_next_to_triangle      float64\n",
            "Triangle_next_to_hexagon       float64\n",
            "Triangle_next_to_circle        float64\n",
            "Hexagon_next_to_hexagon        float64\n",
            "Hexagon_next_to_circle         float64\n",
            "Circle_next_to_circle          float64\n",
            "Class_attribute                float64\n",
            "dtype: object\n"
          ]
        }
      ]
    },
    {
      "cell_type": "code",
      "source": [
        "df = data\n",
        "cols = [[c for c in df.columns if not(str.isdigit(c[-1])) or (str.isdigit(c[-1]) and int(c[-1])==n)] for n in range(1,5)]"
      ],
      "metadata": {
        "id": "7f_SFgAD0HEv"
      },
      "execution_count": null,
      "outputs": []
    },
    {
      "cell_type": "code",
      "source": [
        "dt = [df[col] for col in cols]"
      ],
      "metadata": {
        "id": "5cBNQxDm0SLG"
      },
      "execution_count": null,
      "outputs": []
    },
    {
      "cell_type": "code",
      "source": [
        "for c, df in enumerate(dt):\n",
        "  df.columns = [name if not str.isdigit(name[-1]) else name[:-1] for name in df.columns]\n",
        "  df['car'] = c+1\n",
        "\n",
        "dt = pd.concat(dt)\n",
        "dt.reset_index(level=0, inplace=True)\n",
        "dt['train'] = dt.pop('index')\n",
        "dt.T[0]"
      ],
      "metadata": {
        "id": "o3dlGV811A3K",
        "colab": {
          "base_uri": "https://localhost:8080/"
        },
        "outputId": "709e1ad2-a7ee-4655-92a4-6d1dbf563112"
      },
      "execution_count": null,
      "outputs": [
        {
          "output_type": "execute_result",
          "data": {
            "text/plain": [
              "Number_of_cars                 5.0\n",
              "Number_of_different_loads      4.0\n",
              "num_wheels                     2.0\n",
              "length                         1.0\n",
              "shape                          6.0\n",
              "num_loads                      3.0\n",
              "load_shape                     2.0\n",
              "Rectangle_next_to_rectangle    0.0\n",
              "Rectangle_next_to_triangle     1.0\n",
              "Rectangle_next_to_hexagon      0.0\n",
              "Rectangle_next_to_circle       0.0\n",
              "Triangle_next_to_triangle      0.0\n",
              "Triangle_next_to_hexagon       1.0\n",
              "Triangle_next_to_circle        0.0\n",
              "Hexagon_next_to_hexagon        0.0\n",
              "Hexagon_next_to_circle         1.0\n",
              "Circle_next_to_circle          0.0\n",
              "Class_attribute                1.0\n",
              "car                            1.0\n",
              "train                          0.0\n",
              "Name: 0, dtype: float64"
            ]
          },
          "metadata": {},
          "execution_count": 18
        }
      ]
    },
    {
      "cell_type": "code",
      "source": [
        "def get_att1(X):\n",
        "    t = X['train'].T\n",
        "    c = X['car'].T\n",
        "    w = X['num_wheels'].T\n",
        "    l = X['length'].T\n",
        "    s = X['shape'].T\n",
        "    nc = X['Number_of_cars'].T\n",
        "    ls = X['load_shape'].T\n",
        "    nl = X['Number_of_different_loads'].T\n",
        "    ncl = X['num_loads'].T\n",
        "    x_crc = np.sum(X[[col for col in X if col.endswith('circle')]], axis=1).T\n",
        "    x_hex = np.sum(X[[col for col in X if col.endswith('hexagon')]], axis=1).T\n",
        "    x_rec = np.sum(X[[col for col in X if col.endswith('rectangle')]], axis=1).T\n",
        "    x_tri = np.sum(X[[col for col in X if col.endswith('triangle')]], axis=1).T\n",
        "    return [t, c, w, l, s, nc, ls, nl, ncl, x_crc, x_hex, x_rec, x_tri]"
      ],
      "metadata": {
        "id": "eclYgRg06h4b"
      },
      "execution_count": null,
      "outputs": []
    },
    {
      "cell_type": "code",
      "source": [
        "def split1(data, val_train):\n",
        "    x_train = data.query(f'train != {val_train}')\n",
        "    x_test = data.query(f'train == {val_train}')\n",
        "    y_train = np.array(x_train.pop('Class_attribute'))\n",
        "    y_test = np.array(x_test.pop('Class_attribute'))\n",
        "    x_train = get_att1(x_train)\n",
        "    x_test = get_att1(x_test)\n",
        "    return x_train, x_test, np.array(y_train), np.array(y_test)"
      ],
      "metadata": {
        "id": "MW4oUJNG6odU"
      },
      "execution_count": null,
      "outputs": []
    },
    {
      "cell_type": "markdown",
      "source": [
        "## Treino do Modelo"
      ],
      "metadata": {
        "id": "XLr_HJ6E6rbx"
      }
    },
    {
      "cell_type": "code",
      "source": [
        "kf = KFold(n_splits=10, shuffle=False)\n",
        "hists = dict()\n",
        "q2_names =  [\n",
        "  'Train',\n",
        "  'Cars Accuracy',\n",
        "  'Output of flat network', \n",
        "  'Desired output', \n",
        "  'Class'\n",
        "]\n",
        "q2 = {name: [] for name in q2_names}\n",
        "\n",
        "for val_train in tqdm(range(0,10)):\n",
        "    x_train, x_test, y_train, y_test = split1(dt, val_train)\n",
        "    metanet, east, rules = metarede()\n",
        "\n",
        "    east.compile(\n",
        "      loss = binary_crossentropy, \n",
        "      optimizer =tf.keras.optimizers.Adam(learning_rate=1e-2),\n",
        "      metrics = ['mse', 'binary_accuracy'])\n",
        "    hist = east.fit(\n",
        "      x_train,\n",
        "      y_train,\n",
        "      validation_data=[x_test, y_test],\n",
        "      epochs=1000,\n",
        "      verbose=0,\n",
        "      )\n",
        "    hists[val_train] = hist\n",
        "\n",
        "    q2['Train'].append(val_train)\n",
        "    q2['Output of flat network'].append(east.predict(x_test)[0][0])\n",
        "    q2['Desired output'].append(y_test[0])\n",
        "    q2['Class'].append(Class_attribute[int(y_test[0])])"
      ],
      "metadata": {
        "id": "dVcdIPhN6tvh",
        "colab": {
          "base_uri": "https://localhost:8080/"
        },
        "outputId": "0c385e6c-3bbb-4f2f-f063-10b5bb74010d"
      },
      "execution_count": null,
      "outputs": [
        {
          "output_type": "stream",
          "name": "stderr",
          "text": [
            "\r  0%|                                                                                            | 0/10 [00:00<?, ?it/s]"
          ]
        },
        {
          "output_type": "stream",
          "name": "stdout",
          "text": [
            "1/1 [==============================] - 0s 170ms/step\n"
          ]
        },
        {
          "output_type": "stream",
          "name": "stderr",
          "text": [
            "\r 10%|████████▍                                                                           | 1/10 [00:45<06:50, 45.64s/it]"
          ]
        },
        {
          "output_type": "stream",
          "name": "stdout",
          "text": [
            "1/1 [==============================] - 0s 133ms/step\n"
          ]
        },
        {
          "output_type": "stream",
          "name": "stderr",
          "text": [
            "\r 20%|████████████████▊                                                                   | 2/10 [01:31<06:04, 45.58s/it]"
          ]
        },
        {
          "output_type": "stream",
          "name": "stdout",
          "text": [
            "1/1 [==============================] - 0s 135ms/step\n"
          ]
        },
        {
          "output_type": "stream",
          "name": "stderr",
          "text": [
            "\r 30%|█████████████████████████▏                                                          | 3/10 [02:16<05:17, 45.38s/it]"
          ]
        },
        {
          "output_type": "stream",
          "name": "stdout",
          "text": [
            "1/1 [==============================] - 0s 150ms/step\n"
          ]
        },
        {
          "output_type": "stream",
          "name": "stderr",
          "text": [
            "\r 40%|█████████████████████████████████▌                                                  | 4/10 [03:01<04:32, 45.43s/it]"
          ]
        },
        {
          "output_type": "stream",
          "name": "stdout",
          "text": [
            "WARNING:tensorflow:5 out of the last 5 calls to <function Model.make_predict_function.<locals>.predict_function at 0x7f19205a4160> triggered tf.function retracing. Tracing is expensive and the excessive number of tracings could be due to (1) creating @tf.function repeatedly in a loop, (2) passing tensors with different shapes, (3) passing Python objects instead of tensors. For (1), please define your @tf.function outside of the loop. For (2), @tf.function has reduce_retracing=True option that can avoid unnecessary retracing. For (3), please refer to https://www.tensorflow.org/guide/function#controlling_retracing and https://www.tensorflow.org/api_docs/python/tf/function for  more details.\n",
            "1/1 [==============================] - 0s 138ms/step\n"
          ]
        },
        {
          "output_type": "stream",
          "name": "stderr",
          "text": [
            "\r 50%|██████████████████████████████████████████                                          | 5/10 [03:47<03:47, 45.47s/it]"
          ]
        },
        {
          "output_type": "stream",
          "name": "stdout",
          "text": [
            "WARNING:tensorflow:6 out of the last 6 calls to <function Model.make_predict_function.<locals>.predict_function at 0x7f1920393a60> triggered tf.function retracing. Tracing is expensive and the excessive number of tracings could be due to (1) creating @tf.function repeatedly in a loop, (2) passing tensors with different shapes, (3) passing Python objects instead of tensors. For (1), please define your @tf.function outside of the loop. For (2), @tf.function has reduce_retracing=True option that can avoid unnecessary retracing. For (3), please refer to https://www.tensorflow.org/guide/function#controlling_retracing and https://www.tensorflow.org/api_docs/python/tf/function for  more details.\n",
            "1/1 [==============================] - 0s 139ms/step\n"
          ]
        },
        {
          "output_type": "stream",
          "name": "stderr",
          "text": [
            "\r 60%|██████████████████████████████████████████████████▍                                 | 6/10 [04:33<03:02, 45.72s/it]"
          ]
        },
        {
          "output_type": "stream",
          "name": "stdout",
          "text": [
            "1/1 [==============================] - 0s 135ms/step\n"
          ]
        },
        {
          "output_type": "stream",
          "name": "stderr",
          "text": [
            "\r 70%|██████████████████████████████████████████████████████████▊                         | 7/10 [05:19<02:16, 45.65s/it]"
          ]
        },
        {
          "output_type": "stream",
          "name": "stdout",
          "text": [
            "1/1 [==============================] - 0s 138ms/step\n"
          ]
        },
        {
          "output_type": "stream",
          "name": "stderr",
          "text": [
            "\r 80%|███████████████████████████████████████████████████████████████████▏                | 8/10 [06:04<01:31, 45.52s/it]"
          ]
        },
        {
          "output_type": "stream",
          "name": "stdout",
          "text": [
            "1/1 [==============================] - 0s 140ms/step\n"
          ]
        },
        {
          "output_type": "stream",
          "name": "stderr",
          "text": [
            "\r 90%|███████████████████████████████████████████████████████████████████████████▌        | 9/10 [06:49<00:45, 45.41s/it]"
          ]
        },
        {
          "output_type": "stream",
          "name": "stdout",
          "text": [
            "1/1 [==============================] - 0s 136ms/step\n"
          ]
        },
        {
          "output_type": "stream",
          "name": "stderr",
          "text": [
            "100%|███████████████████████████████████████████████████████████████████████████████████| 10/10 [07:35<00:00, 45.52s/it]\n"
          ]
        }
      ]
    },
    {
      "cell_type": "markdown",
      "source": [
        "## Resultados"
      ],
      "metadata": {
        "id": "awHZIn5u_-Na"
      }
    },
    {
      "cell_type": "code",
      "source": [
        "for i,history in enumerate(hists.values()):\n",
        "    plt.plot(history.history['binary_accuracy'], c='tab:blue')\n",
        "    plt.plot(history.history['val_binary_accuracy'], c='tab:orange')\n",
        "\n",
        "plt.title('Model Binary Accuracy')\n",
        "plt.ylabel('MSE')\n",
        "plt.xlabel('epoch')\n",
        "plt.legend(['train', 'val'], loc='upper left')\n",
        "plt.show()"
      ],
      "metadata": {
        "id": "EQX9Pubg__Gb",
        "colab": {
          "base_uri": "https://localhost:8080/",
          "height": 470
        },
        "outputId": "4915086e-855d-4a42-b3ef-ee993aac32b9"
      },
      "execution_count": null,
      "outputs": [
        {
          "output_type": "display_data",
          "data": {
            "text/plain": [
              "<Figure size 640x480 with 1 Axes>"
            ],
            "image/png": "[encoded data removed]"
          },
          "metadata": {}
        }
      ]
    },
    {
      "cell_type": "code",
      "source": [
        "q2['Cars Accuracy'] = [hists[i].history['binary_accuracy'][-1] for i in range(0,10)]\n",
        "\n",
        "t2 = pd.DataFrame.from_dict(q2).round(2)\n",
        "t2['Cars Accuracy'] = [hists[i].history['binary_accuracy'][-1] for i in range(0,10)]\n",
        "t2 = t2.reindex(columns=['Train', 'Cars Accuracy', 'Output of flat network', 'Desired output', 'Class'])\n",
        "t2"
      ],
      "metadata": {
        "id": "xh3fJrb-AICc",
        "colab": {
          "base_uri": "https://localhost:8080/",
          "height": 363
        },
        "outputId": "cd67da01-11d5-47d8-a507-d40ad357f345"
      },
      "execution_count": null,
      "outputs": [
        {
          "output_type": "execute_result",
          "data": {
            "text/plain": [
              "   Train  Cars Accuracy  Output of flat network  Desired output Class\n",
              "0      0            1.0                    1.00             1.0  east\n",
              "1      1            1.0                    1.00             1.0  east\n",
              "2      2            1.0                    1.00             1.0  east\n",
              "3      3            1.0                    1.00             1.0  east\n",
              "4      4            1.0                    0.26             1.0  east\n",
              "5      5            1.0                    0.02             0.0  west\n",
              "6      6            1.0                    0.01             0.0  west\n",
              "7      7            1.0                    0.00             0.0  west\n",
              "8      8            1.0                    0.01             0.0  west\n",
              "9      9            1.0                    0.00             0.0  west"
            ],
            "text/html": [
              "<div>\n",
              "<style scoped>\n",
              "    .dataframe tbody tr th:only-of-type {\n",
              "        vertical-align: middle;\n",
              "    }\n",
              "\n",
              "    .dataframe tbody tr th {\n",
              "        vertical-align: top;\n",
              "    }\n",
              "\n",
              "    .dataframe thead th {\n",
              "        text-align: right;\n",
              "    }\n",
              "</style>\n",
              "<table border=\"1\" class=\"dataframe\">\n",
              "  <thead>\n",
              "    <tr style=\"text-align: right;\">\n",
              "      <th></th>\n",
              "      <th>Train</th>\n",
              "      <th>Cars Accuracy</th>\n",
              "      <th>Output of flat network</th>\n",
              "      <th>Desired output</th>\n",
              "      <th>Class</th>\n",
              "    </tr>\n",
              "  </thead>\n",
              "  <tbody>\n",
              "    <tr>\n",
              "      <th>0</th>\n",
              "      <td>0</td>\n",
              "      <td>1.0</td>\n",
              "      <td>1.00</td>\n",
              "      <td>1.0</td>\n",
              "      <td>east</td>\n",
              "    </tr>\n",
              "    <tr>\n",
              "      <th>1</th>\n",
              "      <td>1</td>\n",
              "      <td>1.0</td>\n",
              "      <td>1.00</td>\n",
              "      <td>1.0</td>\n",
              "      <td>east</td>\n",
              "    </tr>\n",
              "    <tr>\n",
              "      <th>2</th>\n",
              "      <td>2</td>\n",
              "      <td>1.0</td>\n",
              "      <td>1.00</td>\n",
              "      <td>1.0</td>\n",
              "      <td>east</td>\n",
              "    </tr>\n",
              "    <tr>\n",
              "      <th>3</th>\n",
              "      <td>3</td>\n",
              "      <td>1.0</td>\n",
              "      <td>1.00</td>\n",
              "      <td>1.0</td>\n",
              "      <td>east</td>\n",
              "    </tr>\n",
              "    <tr>\n",
              "      <th>4</th>\n",
              "      <td>4</td>\n",
              "      <td>1.0</td>\n",
              "      <td>0.26</td>\n",
              "      <td>1.0</td>\n",
              "      <td>east</td>\n",
              "    </tr>\n",
              "    <tr>\n",
              "      <th>5</th>\n",
              "      <td>5</td>\n",
              "      <td>1.0</td>\n",
              "      <td>0.02</td>\n",
              "      <td>0.0</td>\n",
              "      <td>west</td>\n",
              "    </tr>\n",
              "    <tr>\n",
              "      <th>6</th>\n",
              "      <td>6</td>\n",
              "      <td>1.0</td>\n",
              "      <td>0.01</td>\n",
              "      <td>0.0</td>\n",
              "      <td>west</td>\n",
              "    </tr>\n",
              "    <tr>\n",
              "      <th>7</th>\n",
              "      <td>7</td>\n",
              "      <td>1.0</td>\n",
              "      <td>0.00</td>\n",
              "      <td>0.0</td>\n",
              "      <td>west</td>\n",
              "    </tr>\n",
              "    <tr>\n",
              "      <th>8</th>\n",
              "      <td>8</td>\n",
              "      <td>1.0</td>\n",
              "      <td>0.01</td>\n",
              "      <td>0.0</td>\n",
              "      <td>west</td>\n",
              "    </tr>\n",
              "    <tr>\n",
              "      <th>9</th>\n",
              "      <td>9</td>\n",
              "      <td>1.0</td>\n",
              "      <td>0.00</td>\n",
              "      <td>0.0</td>\n",
              "      <td>west</td>\n",
              "    </tr>\n",
              "  </tbody>\n",
              "</table>\n",
              "</div>"
            ]
          },
          "metadata": {},
          "execution_count": 34
        }
      ]
    },
    {
      "cell_type": "markdown",
      "source": [
        "# **Questão 2**"
      ],
      "metadata": {
        "id": "t2uorwooNWfX"
      }
    },
    {
      "cell_type": "markdown",
      "source": [
        "## Conjunto de dados com novos trens e predicados"
      ],
      "metadata": {
        "id": "Xj0Sa7ora5MC"
      }
    },
    {
      "cell_type": "markdown",
      "source": [
        "Download dataset"
      ],
      "metadata": {
        "id": "9XQ7XPC0bMEP"
      }
    },
    {
      "cell_type": "code",
      "source": [
        "!gdown https://drive.google.com/uc?id=1x3P-Rz4-U-PpFcPVY_l1f6iB0iW4bVPS"
      ],
      "metadata": {
        "id": "_lSo5ZugNZh4",
        "colab": {
          "base_uri": "https://localhost:8080/"
        },
        "outputId": "37702aa1-c72c-4561-a5e4-aad1db3cce68"
      },
      "execution_count": null,
      "outputs": [
        {
          "output_type": "stream",
          "name": "stdout",
          "text": [
            "Downloading...\r\n",
            "From: https://drive.google.com/uc?id=1x3P-Rz4-U-PpFcPVY_l1f6iB0iW4bVPS\r\n",
            "To: /home/impactlab1/trains-transformed-2.csv\n",
            "100%|██████████████████████████████████████| 3.61k/3.61k [00:00<00:00, 5.68MB/s]\n"
          ]
        }
      ]
    },
    {
      "cell_type": "code",
      "source": [
        "data2 = pd.read_csv(\"trains-transformed-2.csv\")"
      ],
      "metadata": {
        "id": "FemPApbtbbt3"
      },
      "execution_count": null,
      "outputs": []
    },
    {
      "cell_type": "code",
      "source": [
        "data2.columns"
      ],
      "metadata": {
        "id": "ldJ_CuSbb9Aw",
        "colab": {
          "base_uri": "https://localhost:8080/"
        },
        "outputId": "cd0e0121-df63-4fb5-d563-6ddc661e65a3"
      },
      "execution_count": null,
      "outputs": [
        {
          "output_type": "execute_result",
          "data": {
            "text/plain": [
              "Index(['Number_of_cars', 'Number_of_different_loads', 'num_jagged_top',\n",
              "       'num_cars_dif', 'num_wheels1', 'length1', 'shape1', 'num_loads1',\n",
              "       'load_shape1', 'roof_car1', 'num_wheels2', 'length2', 'shape2',\n",
              "       'num_loads2', 'load_shape2', 'roof_car2', 'num_wheels3', 'length3',\n",
              "       'shape3', 'num_loads3', 'load_shape3', 'roof_car3', 'num_wheels4',\n",
              "       'length4', 'shape4', 'num_loads4', 'load_shape4', 'roof_car4',\n",
              "       'Rectangle_next_to_rectangle', 'Rectangle_next_to_triangle',\n",
              "       'Rectangle_next_to_hexagon', 'Rectangle_next_to_circle',\n",
              "       'Triangle_next_to_triangle', 'Triangle_next_to_hexagon',\n",
              "       'Triangle_next_to_circle', 'Hexagon_next_to_hexagon',\n",
              "       'Hexagon_next_to_circle', 'Circle_next_to_circle', 'Class_attribute'],\n",
              "      dtype='object')"
            ]
          },
          "metadata": {},
          "execution_count": 23
        }
      ]
    },
    {
      "cell_type": "markdown",
      "source": [
        "Realizando processamento"
      ],
      "metadata": {
        "id": "Ghljiw5ebETm"
      }
    },
    {
      "cell_type": "code",
      "source": [
        "def encode_to_int(field,top):\n",
        "  data2[field].replace(top,[float(i) for i in range(len(top)-1)] + [-1] ,inplace=True)"
      ],
      "metadata": {
        "id": "N4qYPQpVbX6r"
      },
      "execution_count": null,
      "outputs": []
    },
    {
      "cell_type": "code",
      "source": [
        "length = ['short', 'long','None']\n",
        "roof_car = ['open','close','None']\n",
        "shape = ['closedrect', 'dblopnrect', 'ellipse', 'engine', 'hexagon','jaggedtop', 'openrect', 'opentrap', 'slopetop', 'ushaped','None']\n",
        "load_shape = ['circlelod', 'hexagonlod', 'rectanglod', 'trianglod','None']\n",
        "Class_attribute = ['west','east']\n",
        "\n",
        "for f in ['length1','length2','length3','length4']:\n",
        "  encode_to_int(f,length)\n",
        "\n",
        "for f in ['shape1','shape2','shape3','shape4']:\n",
        "  encode_to_int(f,shape)\n",
        "\n",
        "for f in ['load_shape1','load_shape2','load_shape3','load_shape4']:\n",
        "  encode_to_int(f,load_shape)\n",
        "\n",
        "for f in ['num_loads1','num_loads2','num_loads3','num_loads4']:\n",
        "  encode_to_int(f,['None'])\n",
        "\n",
        "for f in ['num_wheels1','num_wheels2','num_wheels3','num_wheels4']:\n",
        "  encode_to_int(f,['None'])\n",
        "\n",
        "for f in ['roof_car1','roof_car2','roof_car3','roof_car4']:\n",
        "  encode_to_int(f,roof_car)\n",
        "\n",
        "data2['Class_attribute'].replace(Class_attribute,[0,1],inplace=True)"
      ],
      "metadata": {
        "id": "GSycj2iIcHqg"
      },
      "execution_count": null,
      "outputs": []
    },
    {
      "cell_type": "code",
      "source": [
        "data2 = data2.astype(float)\n",
        "print(data2.dtypes)"
      ],
      "metadata": {
        "id": "gsliAdg5d7y1",
        "colab": {
          "base_uri": "https://localhost:8080/"
        },
        "outputId": "e568afcb-019b-4745-93b3-a381979390a6"
      },
      "execution_count": null,
      "outputs": [
        {
          "output_type": "stream",
          "name": "stdout",
          "text": [
            "Number_of_cars                 float64\n",
            "Number_of_different_loads      float64\n",
            "num_jagged_top                 float64\n",
            "num_cars_dif                   float64\n",
            "num_wheels1                    float64\n",
            "length1                        float64\n",
            "shape1                         float64\n",
            "num_loads1                     float64\n",
            "load_shape1                    float64\n",
            "roof_car1                      float64\n",
            "num_wheels2                    float64\n",
            "length2                        float64\n",
            "shape2                         float64\n",
            "num_loads2                     float64\n",
            "load_shape2                    float64\n",
            "roof_car2                      float64\n",
            "num_wheels3                    float64\n",
            "length3                        float64\n",
            "shape3                         float64\n",
            "num_loads3                     float64\n",
            "load_shape3                    float64\n",
            "roof_car3                      float64\n",
            "num_wheels4                    float64\n",
            "length4                        float64\n",
            "shape4                         float64\n",
            "num_loads4                     float64\n",
            "load_shape4                    float64\n",
            "roof_car4                      float64\n",
            "Rectangle_next_to_rectangle    float64\n",
            "Rectangle_next_to_triangle     float64\n",
            "Rectangle_next_to_hexagon      float64\n",
            "Rectangle_next_to_circle       float64\n",
            "Triangle_next_to_triangle      float64\n",
            "Triangle_next_to_hexagon       float64\n",
            "Triangle_next_to_circle        float64\n",
            "Hexagon_next_to_hexagon        float64\n",
            "Hexagon_next_to_circle         float64\n",
            "Circle_next_to_circle          float64\n",
            "Class_attribute                float64\n",
            "dtype: object\n"
          ]
        }
      ]
    },
    {
      "cell_type": "markdown",
      "source": [
        "Realizando a transformação do dataset para realizar o treino e validação do modelo de meta-redes"
      ],
      "metadata": {
        "id": "M5sBlbSKgne2"
      }
    },
    {
      "cell_type": "code",
      "source": [
        "df2 = data2\n",
        "cols = [[c for c in df2.columns if not(str.isdigit(c[-1])) or (str.isdigit(c[-1]) and int(c[-1])==n)] for n in range(1,5)]\n",
        "\n",
        "dt2 = [df2[col] for col in cols]\n",
        "for c, df2 in enumerate(dt2):\n",
        "    df2.columns = [name if not str.isdigit(name[-1]) else name[:-1] for name in df2.columns]\n",
        "    df2['car'] = c+1\n",
        "\n",
        "dt2 = pd.concat(dt2)\n",
        "dt2.reset_index(level=0, inplace=True)\n",
        "dt2['train'] = dt2.pop('index')\n",
        "dt2.T[7]"
      ],
      "metadata": {
        "id": "ReeP4XOZgwG0",
        "colab": {
          "base_uri": "https://localhost:8080/"
        },
        "outputId": "d76acc49-1158-42da-cc32-9cbb53d90731"
      },
      "execution_count": null,
      "outputs": [
        {
          "output_type": "execute_result",
          "data": {
            "text/plain": [
              "Number_of_cars                 3.0\n",
              "Number_of_different_loads      2.0\n",
              "num_jagged_top                 0.0\n",
              "num_cars_dif                   2.0\n",
              "num_wheels                     3.0\n",
              "length                         1.0\n",
              "shape                          0.0\n",
              "num_loads                      1.0\n",
              "load_shape                     2.0\n",
              "roof_car                       1.0\n",
              "Rectangle_next_to_rectangle    0.0\n",
              "Rectangle_next_to_triangle     0.0\n",
              "Rectangle_next_to_hexagon      0.0\n",
              "Rectangle_next_to_circle       1.0\n",
              "Triangle_next_to_triangle      0.0\n",
              "Triangle_next_to_hexagon       0.0\n",
              "Triangle_next_to_circle        0.0\n",
              "Hexagon_next_to_hexagon        0.0\n",
              "Hexagon_next_to_circle         0.0\n",
              "Circle_next_to_circle          0.0\n",
              "Class_attribute                0.0\n",
              "car                            1.0\n",
              "train                          7.0\n",
              "Name: 7, dtype: float64"
            ]
          },
          "metadata": {},
          "execution_count": 27
        }
      ]
    },
    {
      "cell_type": "code",
      "source": [
        "def get_att2(X):\n",
        "    \n",
        "    t = X['train'].T\n",
        "    c = X['car'].T\n",
        "    w = X['num_wheels'].T\n",
        "    l = X['length'].T\n",
        "    s = X['shape'].T\n",
        "    nc = X['Number_of_cars'].T\n",
        "    ls = X['load_shape'].T\n",
        "    nl = X['Number_of_different_loads'].T\n",
        "    ncl = X['num_loads'].T\n",
        "    njt = X['num_jagged_top'].T\n",
        "    ncd = X['num_cars_dif'].T\n",
        "    rc = X['roof_car'].T\n",
        "\n",
        "    x_crc = np.sum(X[[col for col in X if col.endswith('circle')]], axis=1).T\n",
        "    x_hex = np.sum(X[[col for col in X if col.endswith('hexagon')]], axis=1).T\n",
        "    x_rec = np.sum(X[[col for col in X if col.endswith('rectangle')]], axis=1).T\n",
        "    x_tri = np.sum(X[[col for col in X if col.endswith('triangle')]], axis=1).T\n",
        "    return [t, c, w, l, s, nc, ls, nl, ncl, njt, ncd, rc, x_crc, x_hex, x_rec, x_tri]"
      ],
      "metadata": {
        "id": "3tpDH714ig6Z"
      },
      "execution_count": null,
      "outputs": []
    },
    {
      "cell_type": "code",
      "source": [
        "def split2(data, val_train):\n",
        "    x_train = data.query(f'train != {val_train}')\n",
        "    x_test = data.query(f'train == {val_train}')\n",
        "    y_train = np.array(x_train.pop('Class_attribute'))\n",
        "    y_test = np.array(x_test.pop('Class_attribute'))\n",
        "    x_train = get_att2(x_train)\n",
        "    x_test = get_att2(x_test)\n",
        "    return x_train, x_test, np.array(y_train), np.array(y_test)"
      ],
      "metadata": {
        "id": "t0yIH2EGkvSq"
      },
      "execution_count": null,
      "outputs": []
    },
    {
      "cell_type": "markdown",
      "source": [
        "## Conjunto de dados com novos trens e predicados originais"
      ],
      "metadata": {
        "id": "ICV3vJOmk47s"
      }
    },
    {
      "cell_type": "code",
      "source": [
        "!gdown https://drive.google.com/uc?id=1V5yffZzAN3eS0sPlSOXmggzxRQ0l6LSe"
      ],
      "metadata": {
        "colab": {
          "base_uri": "https://localhost:8080/"
        },
        "id": "xptVPVRlk-W8",
        "outputId": "330cae47-5919-4f48-f856-e65948be1c94"
      },
      "execution_count": null,
      "outputs": [
        {
          "output_type": "stream",
          "name": "stdout",
          "text": [
            "Downloading...\r\n",
            "From: https://drive.google.com/uc?id=1V5yffZzAN3eS0sPlSOXmggzxRQ0l6LSe\r\n",
            "To: /home/impactlab1/trains-transformed-extend.csv\r\n",
            "\r  0%|                                               | 0.00/3.09k [00:00<?, ?B/s]\r100%|██████████████████████████████████████| 3.09k/3.09k [00:00<00:00, 4.81MB/s]\r\n"
          ]
        }
      ]
    },
    {
      "cell_type": "code",
      "source": [
        "data_ext = pd.read_csv(\"trains-transformed-extend.csv\")\n",
        "data_ext.columns"
      ],
      "metadata": {
        "colab": {
          "base_uri": "https://localhost:8080/"
        },
        "id": "ejxAxOOVlIcM",
        "outputId": "a7b352d4-44d0-4b9c-f288-a6b00ba661fc"
      },
      "execution_count": null,
      "outputs": [
        {
          "output_type": "execute_result",
          "data": {
            "text/plain": [
              "Index(['Number_of_cars', 'Number_of_different_loads', 'num_wheels1', 'length1',\n",
              "       'shape1', 'num_loads1', 'load_shape1', 'num_wheels2', 'length2',\n",
              "       'shape2', 'num_loads2', 'load_shape2', 'num_wheels3', 'length3',\n",
              "       'shape3', 'num_loads3', 'load_shape3', 'num_wheels4', 'length4',\n",
              "       'shape4', 'num_loads4', 'load_shape4', 'Rectangle_next_to_rectangle',\n",
              "       'Rectangle_next_to_triangle', 'Rectangle_next_to_hexagon',\n",
              "       'Rectangle_next_to_circle', 'Triangle_next_to_triangle',\n",
              "       'Triangle_next_to_hexagon', 'Triangle_next_to_circle',\n",
              "       'Hexagon_next_to_hexagon', 'Hexagon_next_to_circle',\n",
              "       'Circle_next_to_circle', 'Class_attribute'],\n",
              "      dtype='object')"
            ]
          },
          "metadata": {},
          "execution_count": 57
        }
      ]
    },
    {
      "cell_type": "code",
      "source": [
        "def encode_to_int(field,top):\n",
        "  data_ext[field].replace(top,[float(i) for i in range(len(top)-1)] + [-1] ,inplace=True)"
      ],
      "metadata": {
        "id": "kCWwv6zQl15x"
      },
      "execution_count": null,
      "outputs": []
    },
    {
      "cell_type": "code",
      "source": [
        "length = ['short', 'long','None']\n",
        "roof_car = ['open','close','None']\n",
        "shape = ['closedrect', 'dblopnrect', 'ellipse', 'engine', 'hexagon','jaggedtop', 'openrect', 'opentrap', 'slopetop', 'ushaped','None']\n",
        "load_shape = ['circlelod', 'hexagonlod', 'rectanglod', 'trianglod','None']\n",
        "Class_attribute = ['west','east']\n",
        "\n",
        "for f in ['length1','length2','length3','length4']:\n",
        "  encode_to_int(f,length)\n",
        "\n",
        "for f in ['shape1','shape2','shape3','shape4']:\n",
        "  encode_to_int(f,shape)\n",
        "\n",
        "for f in ['load_shape1','load_shape2','load_shape3','load_shape4']:\n",
        "  encode_to_int(f,load_shape)\n",
        "\n",
        "for f in ['num_loads1','num_loads2','num_loads3','num_loads4']:\n",
        "  encode_to_int(f,['None'])\n",
        "\n",
        "for f in ['num_wheels1','num_wheels2','num_wheels3','num_wheels4']:\n",
        "  encode_to_int(f,['None'])\n",
        "\n",
        "\n",
        "data_ext['Class_attribute'].replace(Class_attribute,[0,1],inplace=True)"
      ],
      "metadata": {
        "id": "WPOrlhz7l3ZF"
      },
      "execution_count": null,
      "outputs": []
    },
    {
      "cell_type": "code",
      "source": [
        "data_ext = data_ext.astype(float)\n",
        "print(data_ext.dtypes)"
      ],
      "metadata": {
        "colab": {
          "base_uri": "https://localhost:8080/"
        },
        "id": "s-0ZmMZotKf0",
        "outputId": "505efd02-1489-407f-e328-f40b6795a910"
      },
      "execution_count": null,
      "outputs": [
        {
          "output_type": "stream",
          "name": "stdout",
          "text": [
            "Number_of_cars                 float64\n",
            "Number_of_different_loads      float64\n",
            "num_wheels1                    float64\n",
            "length1                        float64\n",
            "shape1                         float64\n",
            "num_loads1                     float64\n",
            "load_shape1                    float64\n",
            "num_wheels2                    float64\n",
            "length2                        float64\n",
            "shape2                         float64\n",
            "num_loads2                     float64\n",
            "load_shape2                    float64\n",
            "num_wheels3                    float64\n",
            "length3                        float64\n",
            "shape3                         float64\n",
            "num_loads3                     float64\n",
            "load_shape3                    float64\n",
            "num_wheels4                    float64\n",
            "length4                        float64\n",
            "shape4                         float64\n",
            "num_loads4                     float64\n",
            "load_shape4                    float64\n",
            "Rectangle_next_to_rectangle    float64\n",
            "Rectangle_next_to_triangle     float64\n",
            "Rectangle_next_to_hexagon      float64\n",
            "Rectangle_next_to_circle       float64\n",
            "Triangle_next_to_triangle      float64\n",
            "Triangle_next_to_hexagon       float64\n",
            "Triangle_next_to_circle        float64\n",
            "Hexagon_next_to_hexagon        float64\n",
            "Hexagon_next_to_circle         float64\n",
            "Circle_next_to_circle          float64\n",
            "Class_attribute                float64\n",
            "dtype: object\n"
          ]
        }
      ]
    },
    {
      "cell_type": "code",
      "source": [
        "df_ext = data_ext\n",
        "cols = [[c for c in df_ext.columns if not(str.isdigit(c[-1])) or (str.isdigit(c[-1]) and int(c[-1])==n)] for n in range(1,5)]\n",
        "\n",
        "dt_ext = [df_ext[col] for col in cols]\n",
        "for c, df_ext in enumerate(dt_ext):\n",
        "    df_ext.columns = [name if not str.isdigit(name[-1]) else name[:-1] for name in df_ext.columns]\n",
        "    df_ext['car'] = c+1\n",
        "\n",
        "dt_ext = pd.concat(dt_ext)\n",
        "dt_ext.reset_index(level=0, inplace=True)\n",
        "dt_ext['train'] = dt_ext.pop('index')\n",
        "dt_ext.T[7]"
      ],
      "metadata": {
        "colab": {
          "base_uri": "https://localhost:8080/"
        },
        "id": "mvArkbvKmApa",
        "outputId": "b0e8463f-5b71-4586-9533-f944de37403a"
      },
      "execution_count": null,
      "outputs": [
        {
          "output_type": "execute_result",
          "data": {
            "text/plain": [
              "Number_of_cars                 3.0\n",
              "Number_of_different_loads      2.0\n",
              "num_wheels                     3.0\n",
              "length                         1.0\n",
              "shape                          0.0\n",
              "num_loads                      1.0\n",
              "load_shape                     2.0\n",
              "Rectangle_next_to_rectangle    0.0\n",
              "Rectangle_next_to_triangle     0.0\n",
              "Rectangle_next_to_hexagon      0.0\n",
              "Rectangle_next_to_circle       1.0\n",
              "Triangle_next_to_triangle      0.0\n",
              "Triangle_next_to_hexagon       0.0\n",
              "Triangle_next_to_circle        0.0\n",
              "Hexagon_next_to_hexagon        0.0\n",
              "Hexagon_next_to_circle         0.0\n",
              "Circle_next_to_circle          0.0\n",
              "Class_attribute                0.0\n",
              "car                            1.0\n",
              "train                          7.0\n",
              "Name: 7, dtype: float64"
            ]
          },
          "metadata": {},
          "execution_count": 70
        }
      ]
    },
    {
      "cell_type": "code",
      "source": [
        "dt_ext.head(100)"
      ],
      "metadata": {
        "colab": {
          "base_uri": "https://localhost:8080/",
          "height": 444
        },
        "id": "iSVfgj8bsXqM",
        "outputId": "1f1232c6-8374-4c03-c584-fe5ad8e807a7"
      },
      "execution_count": null,
      "outputs": [
        {
          "output_type": "execute_result",
          "data": {
            "text/plain": [
              "    Number_of_cars  Number_of_different_loads  num_wheels  length  shape  \\\n",
              "0              5.0                        4.0         2.0     1.0    6.0   \n",
              "1              4.0                        3.0         2.0     0.0    9.0   \n",
              "2              4.0                        2.0         2.0     0.0    6.0   \n",
              "3              5.0                        2.0         2.0     0.0    7.0   \n",
              "4              4.0                        3.0         2.0     0.0    1.0   \n",
              "..             ...                        ...         ...     ...    ...   \n",
              "67             5.0                        4.0         2.0     1.0    6.0   \n",
              "68             3.0                        2.0        -1.0    -1.0   -1.0   \n",
              "69             5.0                        3.0         2.0     1.0    6.0   \n",
              "70             3.0                        2.0        -1.0    -1.0   -1.0   \n",
              "71             5.0                        2.0         3.0     1.0    0.0   \n",
              "\n",
              "    num_loads  load_shape  Rectangle_next_to_rectangle  \\\n",
              "0         3.0         2.0                          0.0   \n",
              "1         1.0         3.0                          0.0   \n",
              "2         1.0         0.0                          0.0   \n",
              "3         1.0         3.0                          1.0   \n",
              "4         1.0         3.0                          0.0   \n",
              "..        ...         ...                          ...   \n",
              "67        3.0         2.0                          0.0   \n",
              "68       -1.0        -1.0                          0.0   \n",
              "69        1.0         1.0                          0.0   \n",
              "70       -1.0        -1.0                          0.0   \n",
              "71        3.0         2.0                          1.0   \n",
              "\n",
              "    Rectangle_next_to_triangle  Rectangle_next_to_hexagon  \\\n",
              "0                          1.0                        0.0   \n",
              "1                          1.0                        0.0   \n",
              "2                          0.0                        0.0   \n",
              "3                          1.0                        0.0   \n",
              "4                          1.0                        0.0   \n",
              "..                         ...                        ...   \n",
              "67                         0.0                        0.0   \n",
              "68                         1.0                        1.0   \n",
              "69                         0.0                        0.0   \n",
              "70                         1.0                        1.0   \n",
              "71                         0.0                        0.0   \n",
              "\n",
              "    Rectangle_next_to_circle  Triangle_next_to_triangle  \\\n",
              "0                        0.0                        0.0   \n",
              "1                        1.0                        0.0   \n",
              "2                        0.0                        1.0   \n",
              "3                        0.0                        1.0   \n",
              "4                        1.0                        0.0   \n",
              "..                       ...                        ...   \n",
              "67                       1.0                        0.0   \n",
              "68                       0.0                        0.0   \n",
              "69                       1.0                        0.0   \n",
              "70                       0.0                        0.0   \n",
              "71                       0.0                        0.0   \n",
              "\n",
              "    Triangle_next_to_hexagon  Triangle_next_to_circle  \\\n",
              "0                        1.0                      0.0   \n",
              "1                        0.0                      0.0   \n",
              "2                        0.0                      1.0   \n",
              "3                        0.0                      0.0   \n",
              "4                        0.0                      0.0   \n",
              "..                       ...                      ...   \n",
              "67                       1.0                      0.0   \n",
              "68                       0.0                      0.0   \n",
              "69                       0.0                      0.0   \n",
              "70                       0.0                      0.0   \n",
              "71                       0.0                      0.0   \n",
              "\n",
              "    Hexagon_next_to_hexagon  Hexagon_next_to_circle  Circle_next_to_circle  \\\n",
              "0                       0.0                     1.0                    0.0   \n",
              "1                       0.0                     0.0                    0.0   \n",
              "2                       0.0                     0.0                    0.0   \n",
              "3                       0.0                     0.0                    0.0   \n",
              "4                       0.0                     0.0                    0.0   \n",
              "..                      ...                     ...                    ...   \n",
              "67                      0.0                     1.0                    0.0   \n",
              "68                      0.0                     0.0                    0.0   \n",
              "69                      0.0                     1.0                    1.0   \n",
              "70                      0.0                     0.0                    0.0   \n",
              "71                      0.0                     0.0                    0.0   \n",
              "\n",
              "    Class_attribute  car  train  \n",
              "0               1.0    1      0  \n",
              "1               1.0    1      1  \n",
              "2               1.0    1      2  \n",
              "3               1.0    1      3  \n",
              "4               1.0    1      4  \n",
              "..              ...  ...    ...  \n",
              "67              1.0    4     13  \n",
              "68              0.0    4     14  \n",
              "69              0.0    4     15  \n",
              "70              0.0    4     16  \n",
              "71              0.0    4     17  \n",
              "\n",
              "[72 rows x 20 columns]"
            ],
            "text/html": [
              "<div>\n",
              "<style scoped>\n",
              "    .dataframe tbody tr th:only-of-type {\n",
              "        vertical-align: middle;\n",
              "    }\n",
              "\n",
              "    .dataframe tbody tr th {\n",
              "        vertical-align: top;\n",
              "    }\n",
              "\n",
              "    .dataframe thead th {\n",
              "        text-align: right;\n",
              "    }\n",
              "</style>\n",
              "<table border=\"1\" class=\"dataframe\">\n",
              "  <thead>\n",
              "    <tr style=\"text-align: right;\">\n",
              "      <th></th>\n",
              "      <th>Number_of_cars</th>\n",
              "      <th>Number_of_different_loads</th>\n",
              "      <th>num_wheels</th>\n",
              "      <th>length</th>\n",
              "      <th>shape</th>\n",
              "      <th>num_loads</th>\n",
              "      <th>load_shape</th>\n",
              "      <th>Rectangle_next_to_rectangle</th>\n",
              "      <th>Rectangle_next_to_triangle</th>\n",
              "      <th>Rectangle_next_to_hexagon</th>\n",
              "      <th>Rectangle_next_to_circle</th>\n",
              "      <th>Triangle_next_to_triangle</th>\n",
              "      <th>Triangle_next_to_hexagon</th>\n",
              "      <th>Triangle_next_to_circle</th>\n",
              "      <th>Hexagon_next_to_hexagon</th>\n",
              "      <th>Hexagon_next_to_circle</th>\n",
              "      <th>Circle_next_to_circle</th>\n",
              "      <th>Class_attribute</th>\n",
              "      <th>car</th>\n",
              "      <th>train</th>\n",
              "    </tr>\n",
              "  </thead>\n",
              "  <tbody>\n",
              "    <tr>\n",
              "      <th>0</th>\n",
              "      <td>5.0</td>\n",
              "      <td>4.0</td>\n",
              "      <td>2.0</td>\n",
              "      <td>1.0</td>\n",
              "      <td>6.0</td>\n",
              "      <td>3.0</td>\n",
              "      <td>2.0</td>\n",
              "      <td>0.0</td>\n",
              "      <td>1.0</td>\n",
              "      <td>0.0</td>\n",
              "      <td>0.0</td>\n",
              "      <td>0.0</td>\n",
              "      <td>1.0</td>\n",
              "      <td>0.0</td>\n",
              "      <td>0.0</td>\n",
              "      <td>1.0</td>\n",
              "      <td>0.0</td>\n",
              "      <td>1.0</td>\n",
              "      <td>1</td>\n",
              "      <td>0</td>\n",
              "    </tr>\n",
              "    <tr>\n",
              "      <th>1</th>\n",
              "      <td>4.0</td>\n",
              "      <td>3.0</td>\n",
              "      <td>2.0</td>\n",
              "      <td>0.0</td>\n",
              "      <td>9.0</td>\n",
              "      <td>1.0</td>\n",
              "      <td>3.0</td>\n",
              "      <td>0.0</td>\n",
              "      <td>1.0</td>\n",
              "      <td>0.0</td>\n",
              "      <td>1.0</td>\n",
              "      <td>0.0</td>\n",
              "      <td>0.0</td>\n",
              "      <td>0.0</td>\n",
              "      <td>0.0</td>\n",
              "      <td>0.0</td>\n",
              "      <td>0.0</td>\n",
              "      <td>1.0</td>\n",
              "      <td>1</td>\n",
              "      <td>1</td>\n",
              "    </tr>\n",
              "    <tr>\n",
              "      <th>2</th>\n",
              "      <td>4.0</td>\n",
              "      <td>2.0</td>\n",
              "      <td>2.0</td>\n",
              "      <td>0.0</td>\n",
              "      <td>6.0</td>\n",
              "      <td>1.0</td>\n",
              "      <td>0.0</td>\n",
              "      <td>0.0</td>\n",
              "      <td>0.0</td>\n",
              "      <td>0.0</td>\n",
              "      <td>0.0</td>\n",
              "      <td>1.0</td>\n",
              "      <td>0.0</td>\n",
              "      <td>1.0</td>\n",
              "      <td>0.0</td>\n",
              "      <td>0.0</td>\n",
              "      <td>0.0</td>\n",
              "      <td>1.0</td>\n",
              "      <td>1</td>\n",
              "      <td>2</td>\n",
              "    </tr>\n",
              "    <tr>\n",
              "      <th>3</th>\n",
              "      <td>5.0</td>\n",
              "      <td>2.0</td>\n",
              "      <td>2.0</td>\n",
              "      <td>0.0</td>\n",
              "      <td>7.0</td>\n",
              "      <td>1.0</td>\n",
              "      <td>3.0</td>\n",
              "      <td>1.0</td>\n",
              "      <td>1.0</td>\n",
              "      <td>0.0</td>\n",
              "      <td>0.0</td>\n",
              "      <td>1.0</td>\n",
              "      <td>0.0</td>\n",
              "      <td>0.0</td>\n",
              "      <td>0.0</td>\n",
              "      <td>0.0</td>\n",
              "      <td>0.0</td>\n",
              "      <td>1.0</td>\n",
              "      <td>1</td>\n",
              "      <td>3</td>\n",
              "    </tr>\n",
              "    <tr>\n",
              "      <th>4</th>\n",
              "      <td>4.0</td>\n",
              "      <td>3.0</td>\n",
              "      <td>2.0</td>\n",
              "      <td>0.0</td>\n",
              "      <td>1.0</td>\n",
              "      <td>1.0</td>\n",
              "      <td>3.0</td>\n",
              "      <td>0.0</td>\n",
              "      <td>1.0</td>\n",
              "      <td>0.0</td>\n",
              "      <td>1.0</td>\n",
              "      <td>0.0</td>\n",
              "      <td>0.0</td>\n",
              "      <td>0.0</td>\n",
              "      <td>0.0</td>\n",
              "      <td>0.0</td>\n",
              "      <td>0.0</td>\n",
              "      <td>1.0</td>\n",
              "      <td>1</td>\n",
              "      <td>4</td>\n",
              "    </tr>\n",
              "    <tr>\n",
              "      <th>...</th>\n",
              "      <td>...</td>\n",
              "      <td>...</td>\n",
              "      <td>...</td>\n",
              "      <td>...</td>\n",
              "      <td>...</td>\n",
              "      <td>...</td>\n",
              "      <td>...</td>\n",
              "      <td>...</td>\n",
              "      <td>...</td>\n",
              "      <td>...</td>\n",
              "      <td>...</td>\n",
              "      <td>...</td>\n",
              "      <td>...</td>\n",
              "      <td>...</td>\n",
              "      <td>...</td>\n",
              "      <td>...</td>\n",
              "      <td>...</td>\n",
              "      <td>...</td>\n",
              "      <td>...</td>\n",
              "      <td>...</td>\n",
              "    </tr>\n",
              "    <tr>\n",
              "      <th>67</th>\n",
              "      <td>5.0</td>\n",
              "      <td>4.0</td>\n",
              "      <td>2.0</td>\n",
              "      <td>1.0</td>\n",
              "      <td>6.0</td>\n",
              "      <td>3.0</td>\n",
              "      <td>2.0</td>\n",
              "      <td>0.0</td>\n",
              "      <td>0.0</td>\n",
              "      <td>0.0</td>\n",
              "      <td>1.0</td>\n",
              "      <td>0.0</td>\n",
              "      <td>1.0</td>\n",
              "      <td>0.0</td>\n",
              "      <td>0.0</td>\n",
              "      <td>1.0</td>\n",
              "      <td>0.0</td>\n",
              "      <td>1.0</td>\n",
              "      <td>4</td>\n",
              "      <td>13</td>\n",
              "    </tr>\n",
              "    <tr>\n",
              "      <th>68</th>\n",
              "      <td>3.0</td>\n",
              "      <td>2.0</td>\n",
              "      <td>-1.0</td>\n",
              "      <td>-1.0</td>\n",
              "      <td>-1.0</td>\n",
              "      <td>-1.0</td>\n",
              "      <td>-1.0</td>\n",
              "      <td>0.0</td>\n",
              "      <td>1.0</td>\n",
              "      <td>1.0</td>\n",
              "      <td>0.0</td>\n",
              "      <td>0.0</td>\n",
              "      <td>0.0</td>\n",
              "      <td>0.0</td>\n",
              "      <td>0.0</td>\n",
              "      <td>0.0</td>\n",
              "      <td>0.0</td>\n",
              "      <td>0.0</td>\n",
              "      <td>4</td>\n",
              "      <td>14</td>\n",
              "    </tr>\n",
              "    <tr>\n",
              "      <th>69</th>\n",
              "      <td>5.0</td>\n",
              "      <td>3.0</td>\n",
              "      <td>2.0</td>\n",
              "      <td>1.0</td>\n",
              "      <td>6.0</td>\n",
              "      <td>1.0</td>\n",
              "      <td>1.0</td>\n",
              "      <td>0.0</td>\n",
              "      <td>0.0</td>\n",
              "      <td>0.0</td>\n",
              "      <td>1.0</td>\n",
              "      <td>0.0</td>\n",
              "      <td>0.0</td>\n",
              "      <td>0.0</td>\n",
              "      <td>0.0</td>\n",
              "      <td>1.0</td>\n",
              "      <td>1.0</td>\n",
              "      <td>0.0</td>\n",
              "      <td>4</td>\n",
              "      <td>15</td>\n",
              "    </tr>\n",
              "    <tr>\n",
              "      <th>70</th>\n",
              "      <td>3.0</td>\n",
              "      <td>2.0</td>\n",
              "      <td>-1.0</td>\n",
              "      <td>-1.0</td>\n",
              "      <td>-1.0</td>\n",
              "      <td>-1.0</td>\n",
              "      <td>-1.0</td>\n",
              "      <td>0.0</td>\n",
              "      <td>1.0</td>\n",
              "      <td>1.0</td>\n",
              "      <td>0.0</td>\n",
              "      <td>0.0</td>\n",
              "      <td>0.0</td>\n",
              "      <td>0.0</td>\n",
              "      <td>0.0</td>\n",
              "      <td>0.0</td>\n",
              "      <td>0.0</td>\n",
              "      <td>0.0</td>\n",
              "      <td>4</td>\n",
              "      <td>16</td>\n",
              "    </tr>\n",
              "    <tr>\n",
              "      <th>71</th>\n",
              "      <td>5.0</td>\n",
              "      <td>2.0</td>\n",
              "      <td>3.0</td>\n",
              "      <td>1.0</td>\n",
              "      <td>0.0</td>\n",
              "      <td>3.0</td>\n",
              "      <td>2.0</td>\n",
              "      <td>1.0</td>\n",
              "      <td>0.0</td>\n",
              "      <td>0.0</td>\n",
              "      <td>0.0</td>\n",
              "      <td>0.0</td>\n",
              "      <td>0.0</td>\n",
              "      <td>0.0</td>\n",
              "      <td>0.0</td>\n",
              "      <td>0.0</td>\n",
              "      <td>0.0</td>\n",
              "      <td>0.0</td>\n",
              "      <td>4</td>\n",
              "      <td>17</td>\n",
              "    </tr>\n",
              "  </tbody>\n",
              "</table>\n",
              "<p>72 rows × 20 columns</p>\n",
              "</div>"
            ]
          },
          "metadata": {},
          "execution_count": 71
        }
      ]
    },
    {
      "cell_type": "markdown",
      "source": [
        "## Implementação da Meta-Rede"
      ],
      "metadata": {
        "id": "Hx1TD0EwmJMh"
      }
    },
    {
      "cell_type": "code",
      "source": [
        "def  metarede2():\n",
        "    t   = Input(shape=(1,), name='t')\n",
        "    c   = Input(shape=(1,), name='c') \n",
        "    w   = Input(shape=(1,), name='w')\n",
        "    l   = Input(shape=(1,), name='l')\n",
        "    s   = Input(shape=(1,), name='s')\n",
        "    nc  = Input(shape=(1,), name='nc')\n",
        "    ls  = Input(shape=(1,), name='ls')\n",
        "    nl  = Input(shape=(1,), name='nl')\n",
        "    ncl = Input(shape=(1,), name='ncl')\n",
        "    \n",
        "    x_crc = Input(shape=(1,), name='x_crc')\n",
        "    x_hex = Input(shape=(1,), name='x_hex')\n",
        "    x_rec = Input(shape=(1,), name='x_rec')\n",
        "    x_tri = Input(shape=(1,), name='x_tri')\n",
        "    \n",
        "\n",
        "    # novos predicados\n",
        "    \n",
        "    njt = Input(shape=(1,), name='njt')\n",
        "    ncd = Input(shape=(1,), name='ncd')\n",
        "    rc  = Input(shape=(1,), name='rc')    \n",
        "\n",
        "    \n",
        "    # 1. num_cars(t, nc), em que t ∊ [1..8] e nc ∊ [3..5].\n",
        "    num_cars_ = concatenate([t,nc])\n",
        "    num_cars_ = Dense(20, activation='relu')(num_cars_)\n",
        "    num_cars = Dense(1, activation='sigmoid', name='num_cars')(num_cars_)\n",
        "    num_cars = Model(inputs=[t,nc], outputs=num_cars)\n",
        "    \n",
        "    #2. num\\_loads(t, nl) em que t ∊ [1..18] e nl ∊ [1..4].\n",
        "    num_loads_ = concatenate([t,nl])\n",
        "    num_loads_ = Dense(20, activation='relu')(num_loads_)\n",
        "    num_loads = Dense(1, activation='sigmoid', name='num_loads')(num_loads_)\n",
        "    num_loads = Model(inputs=[t,nl], outputs=num_loads)\n",
        "    \n",
        "    #3. num_wheels(t, c, w) em que t ∊ [1..18] e c ∊ [1..4] e w ∊ [2..3].\n",
        "    num_wheels_ = concatenate([t,c,w])\n",
        "    num_wheels_ = Dense(20, activation='relu')(num_wheels_)\n",
        "    num_wheels = Dense(1, activation='sigmoid', name='num_wheels')(num_wheels_)\n",
        "    num_wheels = Model(inputs=[t,c,w], outputs=num_wheels)\n",
        "    \n",
        "   #4. length(t, c, l) em que t ∊ [1..18] e c ∊ [1..4] e l ∊ [-1..1](-1 denota curto e 1 longo)\n",
        "    length_ = concatenate([t,c,l])\n",
        "    length_ = Dense(20, activation='relu')(length_)\n",
        "    length = Dense(1, activation='sigmoid', name='length')(length_)\n",
        "    length = Model(inputs=[t,c,l], outputs=length)\n",
        "    \n",
        "    #5.shape(t, c, s) em que t ∊ [1..18] e c ∊ [1..4] e s ∊ [1..10](um número para cada forma).\n",
        "    shape_ = concatenate([t,c,s])\n",
        "    shape_ = Dense(20, activation='relu')(shape_)\n",
        "    shape = Dense(1, activation='sigmoid', name='shape')(shape_)\n",
        "    shape = Model(inputs=[t,c,s], outputs=shape)\n",
        "    \n",
        "    #6. num_cars_loads(t, c, ncl) em que t ∊ [1..18] e c ∊ [1..4] e ncl ∊ [0..3].\n",
        "    num_car_loads_ = concatenate([t,c,ncl])\n",
        "    num_car_loads_ = Dense(20, activation='relu')(num_car_loads_)\n",
        "    num_car_loads = Dense(1, activation='sigmoid', name='num_car_loads')(num_car_loads_)\n",
        "    num_car_loads = Model(inputs=[t,c,ncl], outputs=num_car_loads)\n",
        "    \n",
        "    #7. load_shape(t, c, ls) em que t ∊ [1..18] e c ∊ [1..4] e ls ∊ [1..4].\n",
        "    load_shape_ = concatenate([t,c,ls])\n",
        "    load_shape_ = Dense(20, activation='relu')(load_shape_)\n",
        "    load_shape = Dense(1, activation='sigmoid', name='load_shape')(load_shape_)\n",
        "    load_shape = Model(inputs=[t,c,ls], outputs=load_shape)\n",
        "    \n",
        "    #8. next_crc(t, c, x) em que t ∊ [1..18] e c ∊ [1..4] e x ∊ [-1..1], em que o vagão c do trem t tem um vagão adjacente com cargas em círculo.\n",
        "    next_crc_ = concatenate([t,c,x_crc])\n",
        "    next_crc_ = Dense(20, activation='relu')(next_crc_)\n",
        "    next_crc = Dense(1, activation='sigmoid', name='next_crc')(next_crc_)\n",
        "    next_crc = Model(inputs=[t,c,x_crc], outputs=next_crc)\n",
        "    \n",
        "    #9. next_hex(t, c, x) em que t ∊ [1..18] e c ∊ [1..4] e x ∊ [-1..1], em que o vagão c do trem t tem um vagão adjacente com cargas em hexágono.\n",
        "    next_hex_ = concatenate([t,c,x_hex])\n",
        "    next_hex_ = Dense(20, activation='relu')(next_hex_)\n",
        "    next_hex = Dense(1, activation='sigmoid', name='next_hex')(next_hex_)\n",
        "    next_hex = Model(inputs=[t,c,x_hex], outputs=next_hex)\n",
        "    \n",
        "    #10. next_rec(t, c, x) em que t ∊ [1..18] e c ∊ [1..4] e x ∊ [-1..1], em que o vagão c do trem t tem um vagão adjacente com cargas em retângulo.\n",
        "    next_rec_ = concatenate([t,c,x_rec])\n",
        "    next_rec_ = Dense(20, activation='relu')(next_rec_)\n",
        "    next_rec = Dense(1, activation='sigmoid', name='next_rec')(next_rec_)\n",
        "    next_rec = Model(inputs=[t,c,x_rec], outputs=next_rec)\n",
        "    \n",
        "    #11.next_tri(t, c, x) em que t ∊ [1..18] e c ∊ [1..4] e x ∊ [-1..1], em que o vagão c do trem t tem um vagão adjacente com cargas em triângulo\n",
        "    next_tri_ = concatenate([t,c,x_tri])\n",
        "    next_tri_ = Dense(20, activation='relu')(next_tri_)\n",
        "    next_tri = Dense(1, activation='sigmoid', name='next_tri')(next_tri_)\n",
        "    next_tri = Model(inputs=[t,c,x_tri], outputs=next_tri)\n",
        "    \n",
        "    \n",
        "    \n",
        "    #12. num_jagged_top(t, njt),  em que t ∊ [1..18] e njt ∊ [0..4] em que no trem t ele possui njt vagões com telha irregular\n",
        "    num_jagged_top_ = concatenate([t,njt])\n",
        "    num_jagged_top_ = Dense(20, activation='relu')(num_jagged_top_)\n",
        "    num_jagged_top = Dense(1, activation='sigmoid', name='num_jagged_top')(num_jagged_top_)\n",
        "    num_jagged_top = Model(inputs=[t,njt], outputs=num_jagged_top)\n",
        "    \n",
        "    #13.num_cars_dif(t,ncd)  em que t ∊ [1..18] e njt ∊ [0..4] em que no trem t ele possui njt vagãos diferentes\n",
        "    num_cars_dif_ = concatenate([t,ncd]) \n",
        "    num_cars_dif_ = Dense(20, activation='relu')(num_cars_dif_)\n",
        "    num_cars_dif = Dense(1, activation='sigmoid', name='num_cars_dif')(num_cars_dif_)\n",
        "    num_cars_dif = Model(inputs=[t,ncd], outputs=num_cars_dif)\n",
        "\n",
        "    #14. roof_car(t,c,rc)  em que t ∊ [1..18], c ∊ [1..4] e rc [-1 1] em que o vagão c do trem t tem ou não a telha fechada\n",
        "    roof_car_ = concatenate([t,c,rc]) \n",
        "    roof_car_ = Dense(20, activation='relu')(roof_car_)\n",
        "    roof_car = Dense(1, activation='sigmoid', name='roof_car')(roof_car_)\n",
        "    roof_car = Model(inputs=[t,c,rc], outputs=roof_car)\n",
        "\n",
        "\n",
        "    east = concatenate([ num_cars_, num_loads_, num_wheels_,length_,shape_, num_car_loads_, load_shape_, num_jagged_top_, num_cars_dif_, roof_car_ , next_crc_, next_hex_, next_rec_,next_tri_])\n",
        "    east = Dense(3, activation='relu')(east)\n",
        "    east =  Dense(1, activation='sigmoid', name='east')(east)\n",
        "    east = Model(inputs=[t, c, w, l, s, nc, ls, nl, ncl, njt, ncd, rc, x_crc, x_hex, x_rec, x_tri], outputs=east)\n",
        "\n",
        "    # metanet\n",
        "    metanet = Model(inputs=east.inputs, \n",
        "                outputs=[num_cars.output, num_loads.output, num_wheels.output, length.output,\n",
        "                         shape.output, num_car_loads.output, load_shape.output, num_jagged_top.output, num_cars_dif.output, roof_car.output  ,next_crc.output,\n",
        "                         next_hex.output, next_rec.output, next_tri.output, east.output])\n",
        "    \n",
        "    rules = { 'num_cars': num_cars, 'num_loads': num_loads, 'num_wheels': num_wheels, \n",
        "          'length': length, 'shape': shape, 'num_car_loads': num_car_loads,\n",
        "          'load_shape': load_shape, 'num_jagged_top': num_jagged_top, 'num_cars_dif':num_cars_dif, 'roof_car': roof_car, 'next_crc': next_crc, 'next_hex': next_hex,\n",
        "          'next_rec': next_rec, 'next_tri': next_tri,}\n",
        "    \n",
        "    # newmeta = concatenate([t, c, rc, njt, ncd])\n",
        "    # newmeta = Dense(1, activation='sigmoid', name='newmeta')(newmeta)\n",
        "    # newmeta = Model(inputs=concatenate([num_jagged_top_, num_cars_dif_, roof_car_]), outputs=newmeta)\n",
        "    # return metanet, east, rules, newmeta\n",
        "    return metanet, east, rules\n",
        "# metanet, east, rules, newmeta =  metarede2()\n",
        "\n",
        "metanet, east, rules =  metarede2()\n"
      ],
      "metadata": {
        "id": "MwsmMfiMmQKV"
      },
      "execution_count": null,
      "outputs": []
    },
    {
      "cell_type": "code",
      "source": [
        "metanet.summary()"
      ],
      "metadata": {
        "id": "3lle5AHRyVX_",
        "colab": {
          "base_uri": "https://localhost:8080/"
        },
        "outputId": "dbaa0c9d-16f5-4e5a-9b6c-39f2aa81d7ba"
      },
      "execution_count": null,
      "outputs": [
        {
          "output_type": "stream",
          "name": "stdout",
          "text": [
            "Model: \"model_387\"\n",
            "__________________________________________________________________________________________________\n",
            " Layer (type)                   Output Shape         Param #     Connected to                     \n",
            "==================================================================================================\n",
            " t (InputLayer)                 [(None, 1)]          0           []                               \n",
            "                                                                                                  \n",
            " nc (InputLayer)                [(None, 1)]          0           []                               \n",
            "                                                                                                  \n",
            " nl (InputLayer)                [(None, 1)]          0           []                               \n",
            "                                                                                                  \n",
            " c (InputLayer)                 [(None, 1)]          0           []                               \n",
            "                                                                                                  \n",
            " w (InputLayer)                 [(None, 1)]          0           []                               \n",
            "                                                                                                  \n",
            " l (InputLayer)                 [(None, 1)]          0           []                               \n",
            "                                                                                                  \n",
            " s (InputLayer)                 [(None, 1)]          0           []                               \n",
            "                                                                                                  \n",
            " ncl (InputLayer)               [(None, 1)]          0           []                               \n",
            "                                                                                                  \n",
            " ls (InputLayer)                [(None, 1)]          0           []                               \n",
            "                                                                                                  \n",
            " njt (InputLayer)               [(None, 1)]          0           []                               \n",
            "                                                                                                  \n",
            " ncd (InputLayer)               [(None, 1)]          0           []                               \n",
            "                                                                                                  \n",
            " rc (InputLayer)                [(None, 1)]          0           []                               \n",
            "                                                                                                  \n",
            " x_crc (InputLayer)             [(None, 1)]          0           []                               \n",
            "                                                                                                  \n",
            " x_hex (InputLayer)             [(None, 1)]          0           []                               \n",
            "                                                                                                  \n",
            " x_rec (InputLayer)             [(None, 1)]          0           []                               \n",
            "                                                                                                  \n",
            " x_tri (InputLayer)             [(None, 1)]          0           []                               \n",
            "                                                                                                  \n",
            " concatenate_348 (Concatenate)  (None, 2)            0           ['t[0][0]',                      \n",
            "                                                                  'nc[0][0]']                     \n",
            "                                                                                                  \n",
            " concatenate_349 (Concatenate)  (None, 2)            0           ['t[0][0]',                      \n",
            "                                                                  'nl[0][0]']                     \n",
            "                                                                                                  \n",
            " concatenate_350 (Concatenate)  (None, 3)            0           ['t[0][0]',                      \n",
            "                                                                  'c[0][0]',                      \n",
            "                                                                  'w[0][0]']                      \n",
            "                                                                                                  \n",
            " concatenate_351 (Concatenate)  (None, 3)            0           ['t[0][0]',                      \n",
            "                                                                  'c[0][0]',                      \n",
            "                                                                  'l[0][0]']                      \n",
            "                                                                                                  \n",
            " concatenate_352 (Concatenate)  (None, 3)            0           ['t[0][0]',                      \n",
            "                                                                  'c[0][0]',                      \n",
            "                                                                  's[0][0]']                      \n",
            "                                                                                                  \n",
            " concatenate_353 (Concatenate)  (None, 3)            0           ['t[0][0]',                      \n",
            "                                                                  'c[0][0]',                      \n",
            "                                                                  'ncl[0][0]']                    \n",
            "                                                                                                  \n",
            " concatenate_354 (Concatenate)  (None, 3)            0           ['t[0][0]',                      \n",
            "                                                                  'c[0][0]',                      \n",
            "                                                                  'ls[0][0]']                     \n",
            "                                                                                                  \n",
            " concatenate_359 (Concatenate)  (None, 2)            0           ['t[0][0]',                      \n",
            "                                                                  'njt[0][0]']                    \n",
            "                                                                                                  \n",
            " concatenate_360 (Concatenate)  (None, 2)            0           ['t[0][0]',                      \n",
            "                                                                  'ncd[0][0]']                    \n",
            "                                                                                                  \n",
            " concatenate_361 (Concatenate)  (None, 3)            0           ['t[0][0]',                      \n",
            "                                                                  'c[0][0]',                      \n",
            "                                                                  'rc[0][0]']                     \n",
            "                                                                                                  \n",
            " concatenate_355 (Concatenate)  (None, 3)            0           ['t[0][0]',                      \n",
            "                                                                  'c[0][0]',                      \n",
            "                                                                  'x_crc[0][0]']                  \n",
            "                                                                                                  \n",
            " concatenate_356 (Concatenate)  (None, 3)            0           ['t[0][0]',                      \n",
            "                                                                  'c[0][0]',                      \n",
            "                                                                  'x_hex[0][0]']                  \n",
            "                                                                                                  \n",
            " concatenate_357 (Concatenate)  (None, 3)            0           ['t[0][0]',                      \n",
            "                                                                  'c[0][0]',                      \n",
            "                                                                  'x_rec[0][0]']                  \n",
            "                                                                                                  \n",
            " concatenate_358 (Concatenate)  (None, 3)            0           ['t[0][0]',                      \n",
            "                                                                  'c[0][0]',                      \n",
            "                                                                  'x_tri[0][0]']                  \n",
            "                                                                                                  \n",
            " dense_348 (Dense)              (None, 20)           60          ['concatenate_348[0][0]']        \n",
            "                                                                                                  \n",
            " dense_349 (Dense)              (None, 20)           60          ['concatenate_349[0][0]']        \n",
            "                                                                                                  \n",
            " dense_350 (Dense)              (None, 20)           80          ['concatenate_350[0][0]']        \n",
            "                                                                                                  \n",
            " dense_351 (Dense)              (None, 20)           80          ['concatenate_351[0][0]']        \n",
            "                                                                                                  \n",
            " dense_352 (Dense)              (None, 20)           80          ['concatenate_352[0][0]']        \n",
            "                                                                                                  \n",
            " dense_353 (Dense)              (None, 20)           80          ['concatenate_353[0][0]']        \n",
            "                                                                                                  \n",
            " dense_354 (Dense)              (None, 20)           80          ['concatenate_354[0][0]']        \n",
            "                                                                                                  \n",
            " dense_359 (Dense)              (None, 20)           60          ['concatenate_359[0][0]']        \n",
            "                                                                                                  \n",
            " dense_360 (Dense)              (None, 20)           60          ['concatenate_360[0][0]']        \n",
            "                                                                                                  \n",
            " dense_361 (Dense)              (None, 20)           80          ['concatenate_361[0][0]']        \n",
            "                                                                                                  \n",
            " dense_355 (Dense)              (None, 20)           80          ['concatenate_355[0][0]']        \n",
            "                                                                                                  \n",
            " dense_356 (Dense)              (None, 20)           80          ['concatenate_356[0][0]']        \n",
            "                                                                                                  \n",
            " dense_357 (Dense)              (None, 20)           80          ['concatenate_357[0][0]']        \n",
            "                                                                                                  \n",
            " dense_358 (Dense)              (None, 20)           80          ['concatenate_358[0][0]']        \n",
            "                                                                                                  \n",
            " concatenate_362 (Concatenate)  (None, 280)          0           ['dense_348[0][0]',              \n",
            "                                                                  'dense_349[0][0]',              \n",
            "                                                                  'dense_350[0][0]',              \n",
            "                                                                  'dense_351[0][0]',              \n",
            "                                                                  'dense_352[0][0]',              \n",
            "                                                                  'dense_353[0][0]',              \n",
            "                                                                  'dense_354[0][0]',              \n",
            "                                                                  'dense_359[0][0]',              \n",
            "                                                                  'dense_360[0][0]',              \n",
            "                                                                  'dense_361[0][0]',              \n",
            "                                                                  'dense_355[0][0]',              \n",
            "                                                                  'dense_356[0][0]',              \n",
            "                                                                  'dense_357[0][0]',              \n",
            "                                                                  'dense_358[0][0]']              \n",
            "                                                                                                  \n",
            " dense_362 (Dense)              (None, 3)            843         ['concatenate_362[0][0]']        \n",
            "                                                                                                  \n",
            " num_cars (Dense)               (None, 1)            21          ['dense_348[0][0]']              \n",
            "                                                                                                  \n",
            " num_loads (Dense)              (None, 1)            21          ['dense_349[0][0]']              \n",
            "                                                                                                  \n",
            " num_wheels (Dense)             (None, 1)            21          ['dense_350[0][0]']              \n",
            "                                                                                                  \n",
            " length (Dense)                 (None, 1)            21          ['dense_351[0][0]']              \n",
            "                                                                                                  \n",
            " shape (Dense)                  (None, 1)            21          ['dense_352[0][0]']              \n",
            "                                                                                                  \n",
            " num_car_loads (Dense)          (None, 1)            21          ['dense_353[0][0]']              \n",
            "                                                                                                  \n",
            " load_shape (Dense)             (None, 1)            21          ['dense_354[0][0]']              \n",
            "                                                                                                  \n",
            " num_jagged_top (Dense)         (None, 1)            21          ['dense_359[0][0]']              \n",
            "                                                                                                  \n",
            " num_cars_dif (Dense)           (None, 1)            21          ['dense_360[0][0]']              \n",
            "                                                                                                  \n",
            " roof_car (Dense)               (None, 1)            21          ['dense_361[0][0]']              \n",
            "                                                                                                  \n",
            " next_crc (Dense)               (None, 1)            21          ['dense_355[0][0]']              \n",
            "                                                                                                  \n",
            " next_hex (Dense)               (None, 1)            21          ['dense_356[0][0]']              \n",
            "                                                                                                  \n",
            " next_rec (Dense)               (None, 1)            21          ['dense_357[0][0]']              \n",
            "                                                                                                  \n",
            " next_tri (Dense)               (None, 1)            21          ['dense_358[0][0]']              \n",
            "                                                                                                  \n",
            " east (Dense)                   (None, 1)            4           ['dense_362[0][0]']              \n",
            "                                                                                                  \n",
            "==================================================================================================\n",
            "Total params: 2,181\n",
            "Trainable params: 2,181\n",
            "Non-trainable params: 0\n",
            "__________________________________________________________________________________________________\n"
          ]
        }
      ]
    },
    {
      "cell_type": "code",
      "source": [
        "plot_model(metanet, show_shapes=False, show_layer_names=True)"
      ],
      "metadata": {
        "id": "0D-2Lb-0yiyD",
        "colab": {
          "base_uri": "https://localhost:8080/",
          "height": 54
        },
        "outputId": "1a078d6a-506f-45c1-e2eb-42ac2e717611"
      },
      "execution_count": null,
      "outputs": [
        {
          "output_type": "execute_result",
          "data": {
            "image/png": "[encoded data removed]",
            "text/plain": [
              "<IPython.core.display.Image object>"
            ]
          },
          "metadata": {},
          "execution_count": 74
        }
      ]
    },
    {
      "cell_type": "markdown",
      "source": [
        "## Treino do Modelo 2 (com novos trens e novos predicados)"
      ],
      "metadata": {
        "id": "B94R1zIOvhj1"
      }
    },
    {
      "cell_type": "code",
      "source": [
        "kf = KFold(n_splits=18, shuffle=False)\n",
        "hists = dict()\n",
        "q2_names =  [\n",
        "  'Train',\n",
        "  'Cars Accuracy',\n",
        "  'Output of flat network', \n",
        "  'Desired output', \n",
        "  'Class'\n",
        "]\n",
        "\n",
        "easts = [] # lista para retirar regras posteriormente\n",
        "\n",
        "q2 = {name: [] for name in q2_names}\n",
        "\n",
        "for val_train in tqdm(range(0,18)):\n",
        "    x_train, x_test, y_train, y_test = split2(dt2, val_train)\n",
        "    metanet, east, rules = metarede2()\n",
        "\n",
        "    east.compile(\n",
        "      loss = binary_crossentropy, \n",
        "      optimizer =tf.keras.optimizers.Adam(learning_rate=1e-2),\n",
        "      metrics = ['mse', 'binary_accuracy'])\n",
        "    hist = east.fit(\n",
        "      x_train,\n",
        "      y_train,\n",
        "      validation_data=[x_test, y_test],\n",
        "      epochs=1000,\n",
        "      verbose=0,\n",
        "      )\n",
        "    hists[val_train] = hist\n",
        "    easts.append(east)\n",
        "\n",
        "    q2['Train'].append(val_train)\n",
        "    q2['Output of flat network'].append(east.predict(x_test)[0][0])\n",
        "    q2['Desired output'].append(y_test[0])\n",
        "    q2['Class'].append(Class_attribute[int(y_test[0])])"
      ],
      "metadata": {
        "id": "Fe9Ou0bwvmDz",
        "colab": {
          "base_uri": "https://localhost:8080/"
        },
        "outputId": "6c250d90-8692-44b2-d01f-5741c6de663f"
      },
      "execution_count": null,
      "outputs": [
        {
          "output_type": "stream",
          "name": "stderr",
          "text": [
            "\r  0%|                                                                                            | 0/18 [00:00<?, ?it/s]"
          ]
        },
        {
          "output_type": "stream",
          "name": "stdout",
          "text": [
            "1/1 [==============================] - 0s 120ms/step\n"
          ]
        },
        {
          "output_type": "stream",
          "name": "stderr",
          "text": [
            "\r  6%|████▋                                                                               | 1/18 [00:59<16:45, 59.14s/it]"
          ]
        },
        {
          "output_type": "stream",
          "name": "stdout",
          "text": [
            "1/1 [==============================] - 0s 108ms/step\n"
          ]
        },
        {
          "output_type": "stream",
          "name": "stderr",
          "text": [
            "\r 11%|█████████▎                                                                          | 2/18 [01:56<15:29, 58.11s/it]"
          ]
        },
        {
          "output_type": "stream",
          "name": "stdout",
          "text": [
            "1/1 [==============================] - 0s 105ms/step\n"
          ]
        },
        {
          "output_type": "stream",
          "name": "stderr",
          "text": [
            "\r 17%|██████████████                                                                      | 3/18 [02:55<14:35, 58.39s/it]"
          ]
        },
        {
          "output_type": "stream",
          "name": "stdout",
          "text": [
            "1/1 [==============================] - 0s 107ms/step\n"
          ]
        },
        {
          "output_type": "stream",
          "name": "stderr",
          "text": [
            "\r 22%|██████████████████▋                                                                 | 4/18 [03:53<13:35, 58.25s/it]"
          ]
        },
        {
          "output_type": "stream",
          "name": "stdout",
          "text": [
            "WARNING:tensorflow:5 out of the last 5 calls to <function Model.make_predict_function.<locals>.predict_function at 0x7f20381cc5e0> triggered tf.function retracing. Tracing is expensive and the excessive number of tracings could be due to (1) creating @tf.function repeatedly in a loop, (2) passing tensors with different shapes, (3) passing Python objects instead of tensors. For (1), please define your @tf.function outside of the loop. For (2), @tf.function has reduce_retracing=True option that can avoid unnecessary retracing. For (3), please refer to https://www.tensorflow.org/guide/function#controlling_retracing and https://www.tensorflow.org/api_docs/python/tf/function for  more details.\n",
            "1/1 [==============================] - 0s 103ms/step\n"
          ]
        },
        {
          "output_type": "stream",
          "name": "stderr",
          "text": [
            "\r 28%|███████████████████████▎                                                            | 5/18 [04:50<12:33, 57.94s/it]"
          ]
        },
        {
          "output_type": "stream",
          "name": "stdout",
          "text": [
            "WARNING:tensorflow:6 out of the last 6 calls to <function Model.make_predict_function.<locals>.predict_function at 0x7f20286f1dc0> triggered tf.function retracing. Tracing is expensive and the excessive number of tracings could be due to (1) creating @tf.function repeatedly in a loop, (2) passing tensors with different shapes, (3) passing Python objects instead of tensors. For (1), please define your @tf.function outside of the loop. For (2), @tf.function has reduce_retracing=True option that can avoid unnecessary retracing. For (3), please refer to https://www.tensorflow.org/guide/function#controlling_retracing and https://www.tensorflow.org/api_docs/python/tf/function for  more details.\n",
            "1/1 [==============================] - 0s 281ms/step\n"
          ]
        },
        {
          "output_type": "stream",
          "name": "stderr",
          "text": [
            "\r 33%|████████████████████████████                                                        | 6/18 [05:48<11:33, 57.82s/it]"
          ]
        },
        {
          "output_type": "stream",
          "name": "stdout",
          "text": [
            "1/1 [==============================] - 0s 104ms/step\n"
          ]
        },
        {
          "output_type": "stream",
          "name": "stderr",
          "text": [
            "\r 39%|████████████████████████████████▋                                                   | 7/18 [06:47<10:39, 58.14s/it]"
          ]
        },
        {
          "output_type": "stream",
          "name": "stdout",
          "text": [
            "1/1 [==============================] - 0s 111ms/step\n"
          ]
        },
        {
          "output_type": "stream",
          "name": "stderr",
          "text": [
            "\r 44%|█████████████████████████████████████▎                                              | 8/18 [07:44<09:40, 58.01s/it]"
          ]
        },
        {
          "output_type": "stream",
          "name": "stdout",
          "text": [
            "1/1 [==============================] - 0s 108ms/step\n"
          ]
        },
        {
          "output_type": "stream",
          "name": "stderr",
          "text": [
            "\r 50%|██████████████████████████████████████████                                          | 9/18 [08:43<08:44, 58.23s/it]"
          ]
        },
        {
          "output_type": "stream",
          "name": "stdout",
          "text": [
            "1/1 [==============================] - 0s 107ms/step\n"
          ]
        },
        {
          "output_type": "stream",
          "name": "stderr",
          "text": [
            "\r 56%|██████████████████████████████████████████████                                     | 10/18 [09:40<07:44, 58.00s/it]"
          ]
        },
        {
          "output_type": "stream",
          "name": "stdout",
          "text": [
            "1/1 [==============================] - 0s 320ms/step\n"
          ]
        },
        {
          "output_type": "stream",
          "name": "stderr",
          "text": [
            "\r 61%|██████████████████████████████████████████████████▋                                | 11/18 [10:39<06:47, 58.25s/it]"
          ]
        },
        {
          "output_type": "stream",
          "name": "stdout",
          "text": [
            "1/1 [==============================] - 0s 105ms/step\n"
          ]
        },
        {
          "output_type": "stream",
          "name": "stderr",
          "text": [
            "\r 67%|███████████████████████████████████████████████████████▎                           | 12/18 [11:37<05:48, 58.08s/it]"
          ]
        },
        {
          "output_type": "stream",
          "name": "stdout",
          "text": [
            "1/1 [==============================] - 0s 104ms/step\n"
          ]
        },
        {
          "output_type": "stream",
          "name": "stderr",
          "text": [
            "\r 72%|███████████████████████████████████████████████████████████▉                       | 13/18 [12:34<04:49, 57.84s/it]"
          ]
        },
        {
          "output_type": "stream",
          "name": "stdout",
          "text": [
            "1/1 [==============================] - 0s 103ms/step\n"
          ]
        },
        {
          "output_type": "stream",
          "name": "stderr",
          "text": [
            "\r 78%|████████████████████████████████████████████████████████████████▌                  | 14/18 [13:32<03:51, 57.94s/it]"
          ]
        },
        {
          "output_type": "stream",
          "name": "stdout",
          "text": [
            "1/1 [==============================] - 0s 105ms/step\n"
          ]
        },
        {
          "output_type": "stream",
          "name": "stderr",
          "text": [
            "\r 83%|█████████████████████████████████████████████████████████████████████▏             | 15/18 [14:31<02:54, 58.12s/it]"
          ]
        },
        {
          "output_type": "stream",
          "name": "stdout",
          "text": [
            "1/1 [==============================] - 0s 106ms/step\n"
          ]
        },
        {
          "output_type": "stream",
          "name": "stderr",
          "text": [
            "\r 89%|█████████████████████████████████████████████████████████████████████████▊         | 16/18 [15:29<01:56, 58.05s/it]"
          ]
        },
        {
          "output_type": "stream",
          "name": "stdout",
          "text": [
            "1/1 [==============================] - 0s 107ms/step\n"
          ]
        },
        {
          "output_type": "stream",
          "name": "stderr",
          "text": [
            "\r 94%|██████████████████████████████████████████████████████████████████████████████▍    | 17/18 [16:29<00:58, 58.64s/it]"
          ]
        },
        {
          "output_type": "stream",
          "name": "stdout",
          "text": [
            "1/1 [==============================] - 0s 109ms/step\n"
          ]
        },
        {
          "output_type": "stream",
          "name": "stderr",
          "text": [
            "100%|███████████████████████████████████████████████████████████████████████████████████| 18/18 [17:27<00:00, 58.20s/it]\n"
          ]
        }
      ]
    },
    {
      "cell_type": "markdown",
      "source": [
        "### Resultados"
      ],
      "metadata": {
        "id": "eXi68VDL1N28"
      }
    },
    {
      "cell_type": "code",
      "source": [
        "for i,history in enumerate(hists.values()):\n",
        "    plt.plot(history.history['binary_accuracy'], c='tab:blue')\n",
        "    plt.plot(history.history['val_binary_accuracy'], c='tab:orange')\n",
        "\n",
        "plt.title('Model Binary Accuracy')\n",
        "plt.ylabel('MSE')\n",
        "plt.xlabel('epoch')\n",
        "plt.legend(['train', 'val'], loc='upper left')\n",
        "plt.show()"
      ],
      "metadata": {
        "id": "DWv-O1DpwbcN",
        "colab": {
          "base_uri": "https://localhost:8080/",
          "height": 470
        },
        "outputId": "35bc8079-a7ec-40b7-bc4b-4bfd8764c296"
      },
      "execution_count": null,
      "outputs": [
        {
          "output_type": "display_data",
          "data": {
            "text/plain": [
              "<Figure size 640x480 with 1 Axes>"
            ],
            "image/png": "[encoded data removed]"
          },
          "metadata": {}
        }
      ]
    },
    {
      "cell_type": "code",
      "source": [
        "q2['Cars Accuracy'] = [hists[i].history['binary_accuracy'][-1] for i in range(0,18)]\n",
        "\n",
        "t2 = pd.DataFrame.from_dict(q2).round(2)\n",
        "t2['Cars Accuracy'] = [hists[i].history['binary_accuracy'][-1] for i in range(0,18)]\n",
        "t2 = t2.reindex(columns=['Train', 'Cars Accuracy', 'Output of flat network', 'Desired output', 'Class'])\n",
        "t2"
      ],
      "metadata": {
        "id": "hcb-5pyF1U7d",
        "colab": {
          "base_uri": "https://localhost:8080/",
          "height": 614
        },
        "outputId": "b66d29a9-d34b-42bf-d559-5ff6b485fa9e"
      },
      "execution_count": null,
      "outputs": [
        {
          "output_type": "execute_result",
          "data": {
            "text/plain": [
              "    Train  Cars Accuracy  Output of flat network  Desired output Class\n",
              "0       0       0.529412                    0.49             1.0  east\n",
              "1       1       0.529412                    0.41             1.0  east\n",
              "2       2       0.764706                    1.00             1.0  east\n",
              "3       3       0.764706                    1.00             1.0  east\n",
              "4       4       0.764706                    0.33             1.0  east\n",
              "5       5       0.764706                    0.35             0.0  west\n",
              "6       6       0.764706                    0.35             0.0  west\n",
              "7       7       0.764706                    0.35             0.0  west\n",
              "8       8       0.529412                    0.53             0.0  west\n",
              "9       9       0.529412                    0.53             0.0  west\n",
              "10     10       0.529412                    0.48             1.0  east\n",
              "11     11       0.529412                    0.48             1.0  east\n",
              "12     12       0.823529                    0.27             1.0  east\n",
              "13     13       0.529412                    0.48             1.0  east\n",
              "14     14       0.764706                    0.35             0.0  west\n",
              "15     15       1.000000                    0.06             0.0  west\n",
              "16     16       0.764706                    0.35             0.0  west\n",
              "17     17       1.000000                    0.00             0.0  west"
            ],
            "text/html": [
              "<div>\n",
              "<style scoped>\n",
              "    .dataframe tbody tr th:only-of-type {\n",
              "        vertical-align: middle;\n",
              "    }\n",
              "\n",
              "    .dataframe tbody tr th {\n",
              "        vertical-align: top;\n",
              "    }\n",
              "\n",
              "    .dataframe thead th {\n",
              "        text-align: right;\n",
              "    }\n",
              "</style>\n",
              "<table border=\"1\" class=\"dataframe\">\n",
              "  <thead>\n",
              "    <tr style=\"text-align: right;\">\n",
              "      <th></th>\n",
              "      <th>Train</th>\n",
              "      <th>Cars Accuracy</th>\n",
              "      <th>Output of flat network</th>\n",
              "      <th>Desired output</th>\n",
              "      <th>Class</th>\n",
              "    </tr>\n",
              "  </thead>\n",
              "  <tbody>\n",
              "    <tr>\n",
              "      <th>0</th>\n",
              "      <td>0</td>\n",
              "      <td>0.529412</td>\n",
              "      <td>0.49</td>\n",
              "      <td>1.0</td>\n",
              "      <td>east</td>\n",
              "    </tr>\n",
              "    <tr>\n",
              "      <th>1</th>\n",
              "      <td>1</td>\n",
              "      <td>0.529412</td>\n",
              "      <td>0.41</td>\n",
              "      <td>1.0</td>\n",
              "      <td>east</td>\n",
              "    </tr>\n",
              "    <tr>\n",
              "      <th>2</th>\n",
              "      <td>2</td>\n",
              "      <td>0.764706</td>\n",
              "      <td>1.00</td>\n",
              "      <td>1.0</td>\n",
              "      <td>east</td>\n",
              "    </tr>\n",
              "    <tr>\n",
              "      <th>3</th>\n",
              "      <td>3</td>\n",
              "      <td>0.764706</td>\n",
              "      <td>1.00</td>\n",
              "      <td>1.0</td>\n",
              "      <td>east</td>\n",
              "    </tr>\n",
              "    <tr>\n",
              "      <th>4</th>\n",
              "      <td>4</td>\n",
              "      <td>0.764706</td>\n",
              "      <td>0.33</td>\n",
              "      <td>1.0</td>\n",
              "      <td>east</td>\n",
              "    </tr>\n",
              "    <tr>\n",
              "      <th>5</th>\n",
              "      <td>5</td>\n",
              "      <td>0.764706</td>\n",
              "      <td>0.35</td>\n",
              "      <td>0.0</td>\n",
              "      <td>west</td>\n",
              "    </tr>\n",
              "    <tr>\n",
              "      <th>6</th>\n",
              "      <td>6</td>\n",
              "      <td>0.764706</td>\n",
              "      <td>0.35</td>\n",
              "      <td>0.0</td>\n",
              "      <td>west</td>\n",
              "    </tr>\n",
              "    <tr>\n",
              "      <th>7</th>\n",
              "      <td>7</td>\n",
              "      <td>0.764706</td>\n",
              "      <td>0.35</td>\n",
              "      <td>0.0</td>\n",
              "      <td>west</td>\n",
              "    </tr>\n",
              "    <tr>\n",
              "      <th>8</th>\n",
              "      <td>8</td>\n",
              "      <td>0.529412</td>\n",
              "      <td>0.53</td>\n",
              "      <td>0.0</td>\n",
              "      <td>west</td>\n",
              "    </tr>\n",
              "    <tr>\n",
              "      <th>9</th>\n",
              "      <td>9</td>\n",
              "      <td>0.529412</td>\n",
              "      <td>0.53</td>\n",
              "      <td>0.0</td>\n",
              "      <td>west</td>\n",
              "    </tr>\n",
              "    <tr>\n",
              "      <th>10</th>\n",
              "      <td>10</td>\n",
              "      <td>0.529412</td>\n",
              "      <td>0.48</td>\n",
              "      <td>1.0</td>\n",
              "      <td>east</td>\n",
              "    </tr>\n",
              "    <tr>\n",
              "      <th>11</th>\n",
              "      <td>11</td>\n",
              "      <td>0.529412</td>\n",
              "      <td>0.48</td>\n",
              "      <td>1.0</td>\n",
              "      <td>east</td>\n",
              "    </tr>\n",
              "    <tr>\n",
              "      <th>12</th>\n",
              "      <td>12</td>\n",
              "      <td>0.823529</td>\n",
              "      <td>0.27</td>\n",
              "      <td>1.0</td>\n",
              "      <td>east</td>\n",
              "    </tr>\n",
              "    <tr>\n",
              "      <th>13</th>\n",
              "      <td>13</td>\n",
              "      <td>0.529412</td>\n",
              "      <td>0.48</td>\n",
              "      <td>1.0</td>\n",
              "      <td>east</td>\n",
              "    </tr>\n",
              "    <tr>\n",
              "      <th>14</th>\n",
              "      <td>14</td>\n",
              "      <td>0.764706</td>\n",
              "      <td>0.35</td>\n",
              "      <td>0.0</td>\n",
              "      <td>west</td>\n",
              "    </tr>\n",
              "    <tr>\n",
              "      <th>15</th>\n",
              "      <td>15</td>\n",
              "      <td>1.000000</td>\n",
              "      <td>0.06</td>\n",
              "      <td>0.0</td>\n",
              "      <td>west</td>\n",
              "    </tr>\n",
              "    <tr>\n",
              "      <th>16</th>\n",
              "      <td>16</td>\n",
              "      <td>0.764706</td>\n",
              "      <td>0.35</td>\n",
              "      <td>0.0</td>\n",
              "      <td>west</td>\n",
              "    </tr>\n",
              "    <tr>\n",
              "      <th>17</th>\n",
              "      <td>17</td>\n",
              "      <td>1.000000</td>\n",
              "      <td>0.00</td>\n",
              "      <td>0.0</td>\n",
              "      <td>west</td>\n",
              "    </tr>\n",
              "  </tbody>\n",
              "</table>\n",
              "</div>"
            ]
          },
          "metadata": {},
          "execution_count": 35
        }
      ]
    },
    {
      "cell_type": "markdown",
      "source": [
        "## Treino do Modelo 2 com os novos trens isolados"
      ],
      "metadata": {
        "id": "fxtLagq23Mlx"
      }
    },
    {
      "cell_type": "code",
      "source": [
        "kf = KFold(n_splits=8, shuffle=False)\n",
        "hists = dict()\n",
        "q2_names =  [\n",
        "  'Train',\n",
        "  'Cars Accuracy',\n",
        "  'Output of flat network', \n",
        "  'Desired output', \n",
        "  'Class'\n",
        "]\n",
        "q2 = {name: [] for name in q2_names}\n",
        "\n",
        "for val_train in tqdm(range(10,18)):\n",
        "    x_train, x_test, y_train, y_test = split2(dt2, val_train)\n",
        "    metanet, east, rules = metarede2()\n",
        "\n",
        "    east.compile(\n",
        "      loss = binary_crossentropy, \n",
        "      optimizer =tf.keras.optimizers.Adam(learning_rate=1e-2),\n",
        "      metrics = ['mse', 'binary_accuracy'])\n",
        "    hist = east.fit(\n",
        "      x_train,\n",
        "      y_train,\n",
        "      validation_data=[x_test, y_test],\n",
        "      epochs=1000,\n",
        "      verbose=0,\n",
        "      )\n",
        "    hists[val_train] = hist\n",
        "\n",
        "    q2['Train'].append(val_train)\n",
        "    q2['Output of flat network'].append(east.predict(x_test)[0][0])\n",
        "    q2['Desired output'].append(y_test[0])\n",
        "    q2['Class'].append(Class_attribute[int(y_test[0])])"
      ],
      "metadata": {
        "colab": {
          "base_uri": "https://localhost:8080/"
        },
        "id": "iZ2UIUYQ3cNX",
        "outputId": "944ba43f-aafe-4b9d-ed6a-b36ff1d8dacc"
      },
      "execution_count": null,
      "outputs": [
        {
          "output_type": "stream",
          "name": "stderr",
          "text": [
            "\r  0%|                                                                                             | 0/8 [00:00<?, ?it/s]"
          ]
        },
        {
          "output_type": "stream",
          "name": "stdout",
          "text": [
            "1/1 [==============================] - 0s 215ms/step\n"
          ]
        },
        {
          "output_type": "stream",
          "name": "stderr",
          "text": [
            "\r 12%|██████████▋                                                                          | 1/8 [01:16<08:55, 76.57s/it]"
          ]
        },
        {
          "output_type": "stream",
          "name": "stdout",
          "text": [
            "1/1 [==============================] - 0s 233ms/step\n"
          ]
        },
        {
          "output_type": "stream",
          "name": "stderr",
          "text": [
            "\r 25%|█████████████████████▎                                                               | 2/8 [02:35<07:48, 78.16s/it]"
          ]
        },
        {
          "output_type": "stream",
          "name": "stdout",
          "text": [
            "1/1 [==============================] - 0s 173ms/step\n"
          ]
        },
        {
          "output_type": "stream",
          "name": "stderr",
          "text": [
            "\r 38%|███████████████████████████████▉                                                     | 3/8 [03:57<06:39, 79.83s/it]"
          ]
        },
        {
          "output_type": "stream",
          "name": "stdout",
          "text": [
            "1/1 [==============================] - 0s 207ms/step\n"
          ]
        },
        {
          "output_type": "stream",
          "name": "stderr",
          "text": [
            "\r 50%|██████████████████████████████████████████▌                                          | 4/8 [05:18<05:20, 80.14s/it]"
          ]
        },
        {
          "output_type": "stream",
          "name": "stdout",
          "text": [
            "1/1 [==============================] - 0s 248ms/step\n"
          ]
        },
        {
          "output_type": "stream",
          "name": "stderr",
          "text": [
            "\r 62%|█████████████████████████████████████████████████████▏                               | 5/8 [06:45<04:08, 82.74s/it]"
          ]
        },
        {
          "output_type": "stream",
          "name": "stdout",
          "text": [
            "1/1 [==============================] - 0s 223ms/step\n"
          ]
        },
        {
          "output_type": "stream",
          "name": "stderr",
          "text": [
            "\r 75%|███████████████████████████████████████████████████████████████▊                     | 6/8 [08:07<02:44, 82.31s/it]"
          ]
        },
        {
          "output_type": "stream",
          "name": "stdout",
          "text": [
            "1/1 [==============================] - 0s 185ms/step\n"
          ]
        },
        {
          "output_type": "stream",
          "name": "stderr",
          "text": [
            "\r 88%|██████████████████████████████████████████████████████████████████████████▍          | 7/8 [09:31<01:23, 83.08s/it]"
          ]
        },
        {
          "output_type": "stream",
          "name": "stdout",
          "text": [
            "1/1 [==============================] - 0s 197ms/step\n"
          ]
        },
        {
          "output_type": "stream",
          "name": "stderr",
          "text": [
            "100%|█████████████████████████████████████████████████████████████████████████████████████| 8/8 [10:49<00:00, 81.20s/it]\n"
          ]
        }
      ]
    },
    {
      "cell_type": "markdown",
      "source": [
        "### Resultados "
      ],
      "metadata": {
        "id": "g1t1vJNw3qWc"
      }
    },
    {
      "cell_type": "code",
      "source": [
        "for i,history in enumerate(hists.values()):\n",
        "    plt.plot(history.history['binary_accuracy'], c='tab:blue')\n",
        "    plt.plot(history.history['val_binary_accuracy'], c='tab:orange')\n",
        "\n",
        "plt.title('Model Binary Accuracy')\n",
        "plt.ylabel('MSE')\n",
        "plt.xlabel('epoch')\n",
        "plt.legend(['train', 'val'], loc='upper left')\n",
        "plt.show()"
      ],
      "metadata": {
        "colab": {
          "base_uri": "https://localhost:8080/",
          "height": 470
        },
        "id": "7ZMZH5Kh3575",
        "outputId": "8fd4c4f4-ff06-48b5-83a2-2b9052d097b9"
      },
      "execution_count": null,
      "outputs": [
        {
          "output_type": "display_data",
          "data": {
            "text/plain": [
              "<Figure size 640x480 with 1 Axes>"
            ],
            "image/png": "[encoded data removed]"
          },
          "metadata": {}
        }
      ]
    },
    {
      "cell_type": "code",
      "source": [
        "q2['Cars Accuracy'] = [hists[i].history['binary_accuracy'][-1] for i in range(10,18)]\n",
        "\n",
        "t2 = pd.DataFrame.from_dict(q2).round(2)\n",
        "t2['Cars Accuracy'] = [hists[i].history['binary_accuracy'][-1] for i in range(10,18)]\n",
        "t2 = t2.reindex(columns=['Train', 'Cars Accuracy', 'Output of flat network', 'Desired output', 'Class'])\n",
        "t2"
      ],
      "metadata": {
        "colab": {
          "base_uri": "https://localhost:8080/",
          "height": 300
        },
        "id": "5nZtFNaB4A_j",
        "outputId": "ca58e993-089c-4d86-bdc4-005b11e3b41d"
      },
      "execution_count": null,
      "outputs": [
        {
          "output_type": "execute_result",
          "data": {
            "text/plain": [
              "   Train  Cars Accuracy  Output of flat network  Desired output Class\n",
              "0     10       0.823529                    0.27             1.0  east\n",
              "1     11       0.529412                    0.48             1.0  east\n",
              "2     12       0.529412                    0.48             1.0  east\n",
              "3     13       0.529412                    0.48             1.0  east\n",
              "4     14       0.529412                    0.53             0.0  west\n",
              "5     15       0.705882                    0.40             0.0  west\n",
              "6     16       0.764706                    0.35             0.0  west\n",
              "7     17       0.529412                    0.53             0.0  west"
            ],
            "text/html": [
              "<div>\n",
              "<style scoped>\n",
              "    .dataframe tbody tr th:only-of-type {\n",
              "        vertical-align: middle;\n",
              "    }\n",
              "\n",
              "    .dataframe tbody tr th {\n",
              "        vertical-align: top;\n",
              "    }\n",
              "\n",
              "    .dataframe thead th {\n",
              "        text-align: right;\n",
              "    }\n",
              "</style>\n",
              "<table border=\"1\" class=\"dataframe\">\n",
              "  <thead>\n",
              "    <tr style=\"text-align: right;\">\n",
              "      <th></th>\n",
              "      <th>Train</th>\n",
              "      <th>Cars Accuracy</th>\n",
              "      <th>Output of flat network</th>\n",
              "      <th>Desired output</th>\n",
              "      <th>Class</th>\n",
              "    </tr>\n",
              "  </thead>\n",
              "  <tbody>\n",
              "    <tr>\n",
              "      <th>0</th>\n",
              "      <td>10</td>\n",
              "      <td>0.823529</td>\n",
              "      <td>0.27</td>\n",
              "      <td>1.0</td>\n",
              "      <td>east</td>\n",
              "    </tr>\n",
              "    <tr>\n",
              "      <th>1</th>\n",
              "      <td>11</td>\n",
              "      <td>0.529412</td>\n",
              "      <td>0.48</td>\n",
              "      <td>1.0</td>\n",
              "      <td>east</td>\n",
              "    </tr>\n",
              "    <tr>\n",
              "      <th>2</th>\n",
              "      <td>12</td>\n",
              "      <td>0.529412</td>\n",
              "      <td>0.48</td>\n",
              "      <td>1.0</td>\n",
              "      <td>east</td>\n",
              "    </tr>\n",
              "    <tr>\n",
              "      <th>3</th>\n",
              "      <td>13</td>\n",
              "      <td>0.529412</td>\n",
              "      <td>0.48</td>\n",
              "      <td>1.0</td>\n",
              "      <td>east</td>\n",
              "    </tr>\n",
              "    <tr>\n",
              "      <th>4</th>\n",
              "      <td>14</td>\n",
              "      <td>0.529412</td>\n",
              "      <td>0.53</td>\n",
              "      <td>0.0</td>\n",
              "      <td>west</td>\n",
              "    </tr>\n",
              "    <tr>\n",
              "      <th>5</th>\n",
              "      <td>15</td>\n",
              "      <td>0.705882</td>\n",
              "      <td>0.40</td>\n",
              "      <td>0.0</td>\n",
              "      <td>west</td>\n",
              "    </tr>\n",
              "    <tr>\n",
              "      <th>6</th>\n",
              "      <td>16</td>\n",
              "      <td>0.764706</td>\n",
              "      <td>0.35</td>\n",
              "      <td>0.0</td>\n",
              "      <td>west</td>\n",
              "    </tr>\n",
              "    <tr>\n",
              "      <th>7</th>\n",
              "      <td>17</td>\n",
              "      <td>0.529412</td>\n",
              "      <td>0.53</td>\n",
              "      <td>0.0</td>\n",
              "      <td>west</td>\n",
              "    </tr>\n",
              "  </tbody>\n",
              "</table>\n",
              "</div>"
            ]
          },
          "metadata": {},
          "execution_count": 203
        }
      ]
    },
    {
      "cell_type": "markdown",
      "source": [
        "## Treino do Modelo 2 com os dados originais para comparação (com os novos predicados)"
      ],
      "metadata": {
        "id": "G9CIbLf4gZxI"
      }
    },
    {
      "cell_type": "code",
      "source": [
        "df2_np = df2[0:10]\n",
        "cols = [[c for c in df2_np.columns if not(str.isdigit(c[-1])) or (str.isdigit(c[-1]) and int(c[-1])==n)] for n in range(1,5)]\n",
        "\n",
        "dt2_np = [df2_np[col] for col in cols]\n",
        "for c, df2_np in enumerate(dt2_np):\n",
        "    df2_np.columns = [name if not str.isdigit(name[-1]) else name[:-1] for name in df2_np.columns]\n",
        "    df2_np['car'] = c+1\n",
        "\n",
        "dt2_np = pd.concat(dt2_np)\n",
        "dt2_np.reset_index(level=0, inplace=True)\n",
        "dt2_np['train'] = dt2_np.pop('index')\n",
        "dt2_np.T[7]"
      ],
      "metadata": {
        "colab": {
          "base_uri": "https://localhost:8080/"
        },
        "id": "NCA4HCxKyzt1",
        "outputId": "2debc806-1d95-4102-f4f3-54d4ecfb9df1"
      },
      "execution_count": null,
      "outputs": [
        {
          "output_type": "execute_result",
          "data": {
            "text/plain": [
              "Number_of_cars                 3.0\n",
              "Number_of_different_loads      2.0\n",
              "num_jagged_top                 0.0\n",
              "num_cars_dif                   2.0\n",
              "num_wheels                    -1.0\n",
              "length                        -1.0\n",
              "shape                         -1.0\n",
              "num_loads                     -1.0\n",
              "load_shape                    -1.0\n",
              "roof_car                      -1.0\n",
              "Rectangle_next_to_rectangle    0.0\n",
              "Rectangle_next_to_triangle     0.0\n",
              "Rectangle_next_to_hexagon      0.0\n",
              "Rectangle_next_to_circle       1.0\n",
              "Triangle_next_to_triangle      0.0\n",
              "Triangle_next_to_hexagon       0.0\n",
              "Triangle_next_to_circle        0.0\n",
              "Hexagon_next_to_hexagon        0.0\n",
              "Hexagon_next_to_circle         0.0\n",
              "Circle_next_to_circle          0.0\n",
              "Class_attribute                0.0\n",
              "car                            1.0\n",
              "train                          7.0\n",
              "Name: 7, dtype: float64"
            ]
          },
          "metadata": {},
          "execution_count": 90
        }
      ]
    },
    {
      "cell_type": "code",
      "source": [
        "dt2_np.head(20)"
      ],
      "metadata": {
        "colab": {
          "base_uri": "https://localhost:8080/",
          "height": 726
        },
        "id": "U_EdVBT1zszm",
        "outputId": "62b618de-d84c-4224-b00a-6ed0f7739ecd"
      },
      "execution_count": null,
      "outputs": [
        {
          "output_type": "execute_result",
          "data": {
            "text/plain": [
              "    Number_of_cars  Number_of_different_loads  num_jagged_top  num_cars_dif  \\\n",
              "0              5.0                        4.0             0.0           2.0   \n",
              "1              4.0                        3.0             0.0           3.0   \n",
              "2              4.0                        2.0             0.0           3.0   \n",
              "3              5.0                        2.0             0.0           4.0   \n",
              "4              4.0                        3.0             0.0           2.0   \n",
              "5              3.0                        2.0             0.0           2.0   \n",
              "6              4.0                        2.0             1.0           3.0   \n",
              "7              3.0                        2.0             0.0           2.0   \n",
              "8              5.0                        2.0             1.0           3.0   \n",
              "9              3.0                        1.0             0.0           2.0   \n",
              "10             5.0                        4.0             0.0           2.0   \n",
              "11             4.0                        3.0             0.0           3.0   \n",
              "12             4.0                        2.0             0.0           3.0   \n",
              "13             5.0                        2.0             0.0           4.0   \n",
              "14             4.0                        3.0             0.0           2.0   \n",
              "15             3.0                        2.0             0.0           2.0   \n",
              "16             4.0                        2.0             1.0           3.0   \n",
              "17             3.0                        2.0             0.0           2.0   \n",
              "18             5.0                        2.0             1.0           3.0   \n",
              "19             3.0                        1.0             0.0           2.0   \n",
              "\n",
              "    num_wheels  length  shape  num_loads  load_shape  roof_car  ...  \\\n",
              "0          2.0     0.0    6.0        1.0         0.0       0.0  ...   \n",
              "1         -1.0    -1.0   -1.0       -1.0        -1.0      -1.0  ...   \n",
              "2         -1.0    -1.0   -1.0       -1.0        -1.0      -1.0  ...   \n",
              "3          2.0     0.0    6.0        1.0         2.0       0.0  ...   \n",
              "4         -1.0    -1.0   -1.0       -1.0        -1.0      -1.0  ...   \n",
              "5         -1.0    -1.0   -1.0       -1.0        -1.0      -1.0  ...   \n",
              "6         -1.0    -1.0   -1.0       -1.0        -1.0      -1.0  ...   \n",
              "7         -1.0    -1.0   -1.0       -1.0        -1.0      -1.0  ...   \n",
              "8          2.0     0.0    7.0        1.0         0.0       0.0  ...   \n",
              "9         -1.0    -1.0   -1.0       -1.0        -1.0      -1.0  ...   \n",
              "10         2.0     0.0    6.0        1.0         0.0       0.0  ...   \n",
              "11        -1.0    -1.0   -1.0       -1.0        -1.0      -1.0  ...   \n",
              "12        -1.0    -1.0   -1.0       -1.0        -1.0      -1.0  ...   \n",
              "13         2.0     0.0    6.0        1.0         2.0       0.0  ...   \n",
              "14        -1.0    -1.0   -1.0       -1.0        -1.0      -1.0  ...   \n",
              "15        -1.0    -1.0   -1.0       -1.0        -1.0      -1.0  ...   \n",
              "16        -1.0    -1.0   -1.0       -1.0        -1.0      -1.0  ...   \n",
              "17        -1.0    -1.0   -1.0       -1.0        -1.0      -1.0  ...   \n",
              "18         2.0     0.0    7.0        1.0         0.0       0.0  ...   \n",
              "19        -1.0    -1.0   -1.0       -1.0        -1.0      -1.0  ...   \n",
              "\n",
              "    Rectangle_next_to_circle  Triangle_next_to_triangle  \\\n",
              "0                        0.0                        0.0   \n",
              "1                        1.0                        0.0   \n",
              "2                        0.0                        1.0   \n",
              "3                        0.0                        1.0   \n",
              "4                        1.0                        0.0   \n",
              "5                        0.0                        0.0   \n",
              "6                        0.0                        0.0   \n",
              "7                        1.0                        0.0   \n",
              "8                        1.0                        0.0   \n",
              "9                        0.0                        0.0   \n",
              "10                       0.0                        0.0   \n",
              "11                       1.0                        0.0   \n",
              "12                       0.0                        1.0   \n",
              "13                       0.0                        1.0   \n",
              "14                       1.0                        0.0   \n",
              "15                       0.0                        0.0   \n",
              "16                       0.0                        0.0   \n",
              "17                       1.0                        0.0   \n",
              "18                       1.0                        0.0   \n",
              "19                       0.0                        0.0   \n",
              "\n",
              "    Triangle_next_to_hexagon  Triangle_next_to_circle  \\\n",
              "0                        1.0                      0.0   \n",
              "1                        0.0                      0.0   \n",
              "2                        0.0                      1.0   \n",
              "3                        0.0                      0.0   \n",
              "4                        0.0                      0.0   \n",
              "5                        0.0                      1.0   \n",
              "6                        0.0                      1.0   \n",
              "7                        0.0                      0.0   \n",
              "8                        0.0                      0.0   \n",
              "9                        0.0                      0.0   \n",
              "10                       1.0                      0.0   \n",
              "11                       0.0                      0.0   \n",
              "12                       0.0                      1.0   \n",
              "13                       0.0                      0.0   \n",
              "14                       0.0                      0.0   \n",
              "15                       0.0                      1.0   \n",
              "16                       0.0                      1.0   \n",
              "17                       0.0                      0.0   \n",
              "18                       0.0                      0.0   \n",
              "19                       0.0                      0.0   \n",
              "\n",
              "    Hexagon_next_to_hexagon  Hexagon_next_to_circle  Circle_next_to_circle  \\\n",
              "0                       0.0                     1.0                    0.0   \n",
              "1                       0.0                     0.0                    0.0   \n",
              "2                       0.0                     0.0                    0.0   \n",
              "3                       0.0                     0.0                    0.0   \n",
              "4                       0.0                     0.0                    0.0   \n",
              "5                       0.0                     0.0                    0.0   \n",
              "6                       0.0                     0.0                    0.0   \n",
              "7                       0.0                     0.0                    0.0   \n",
              "8                       0.0                     0.0                    0.0   \n",
              "9                       0.0                     0.0                    0.0   \n",
              "10                      0.0                     1.0                    0.0   \n",
              "11                      0.0                     0.0                    0.0   \n",
              "12                      0.0                     0.0                    0.0   \n",
              "13                      0.0                     0.0                    0.0   \n",
              "14                      0.0                     0.0                    0.0   \n",
              "15                      0.0                     0.0                    0.0   \n",
              "16                      0.0                     0.0                    0.0   \n",
              "17                      0.0                     0.0                    0.0   \n",
              "18                      0.0                     0.0                    0.0   \n",
              "19                      0.0                     0.0                    0.0   \n",
              "\n",
              "    Class_attribute  car  train  \n",
              "0               1.0    1      0  \n",
              "1               1.0    1      1  \n",
              "2               1.0    1      2  \n",
              "3               1.0    1      3  \n",
              "4               1.0    1      4  \n",
              "5               0.0    1      5  \n",
              "6               0.0    1      6  \n",
              "7               0.0    1      7  \n",
              "8               0.0    1      8  \n",
              "9               0.0    1      9  \n",
              "10              1.0    2      0  \n",
              "11              1.0    2      1  \n",
              "12              1.0    2      2  \n",
              "13              1.0    2      3  \n",
              "14              1.0    2      4  \n",
              "15              0.0    2      5  \n",
              "16              0.0    2      6  \n",
              "17              0.0    2      7  \n",
              "18              0.0    2      8  \n",
              "19              0.0    2      9  \n",
              "\n",
              "[20 rows x 23 columns]"
            ],
            "text/html": [
              "<div>\n",
              "<style scoped>\n",
              "    .dataframe tbody tr th:only-of-type {\n",
              "        vertical-align: middle;\n",
              "    }\n",
              "\n",
              "    .dataframe tbody tr th {\n",
              "        vertical-align: top;\n",
              "    }\n",
              "\n",
              "    .dataframe thead th {\n",
              "        text-align: right;\n",
              "    }\n",
              "</style>\n",
              "<table border=\"1\" class=\"dataframe\">\n",
              "  <thead>\n",
              "    <tr style=\"text-align: right;\">\n",
              "      <th></th>\n",
              "      <th>Number_of_cars</th>\n",
              "      <th>Number_of_different_loads</th>\n",
              "      <th>num_jagged_top</th>\n",
              "      <th>num_cars_dif</th>\n",
              "      <th>num_wheels</th>\n",
              "      <th>length</th>\n",
              "      <th>shape</th>\n",
              "      <th>num_loads</th>\n",
              "      <th>load_shape</th>\n",
              "      <th>roof_car</th>\n",
              "      <th>...</th>\n",
              "      <th>Rectangle_next_to_circle</th>\n",
              "      <th>Triangle_next_to_triangle</th>\n",
              "      <th>Triangle_next_to_hexagon</th>\n",
              "      <th>Triangle_next_to_circle</th>\n",
              "      <th>Hexagon_next_to_hexagon</th>\n",
              "      <th>Hexagon_next_to_circle</th>\n",
              "      <th>Circle_next_to_circle</th>\n",
              "      <th>Class_attribute</th>\n",
              "      <th>car</th>\n",
              "      <th>train</th>\n",
              "    </tr>\n",
              "  </thead>\n",
              "  <tbody>\n",
              "    <tr>\n",
              "      <th>0</th>\n",
              "      <td>5.0</td>\n",
              "      <td>4.0</td>\n",
              "      <td>0.0</td>\n",
              "      <td>2.0</td>\n",
              "      <td>2.0</td>\n",
              "      <td>0.0</td>\n",
              "      <td>6.0</td>\n",
              "      <td>1.0</td>\n",
              "      <td>0.0</td>\n",
              "      <td>0.0</td>\n",
              "      <td>...</td>\n",
              "      <td>0.0</td>\n",
              "      <td>0.0</td>\n",
              "      <td>1.0</td>\n",
              "      <td>0.0</td>\n",
              "      <td>0.0</td>\n",
              "      <td>1.0</td>\n",
              "      <td>0.0</td>\n",
              "      <td>1.0</td>\n",
              "      <td>1</td>\n",
              "      <td>0</td>\n",
              "    </tr>\n",
              "    <tr>\n",
              "      <th>1</th>\n",
              "      <td>4.0</td>\n",
              "      <td>3.0</td>\n",
              "      <td>0.0</td>\n",
              "      <td>3.0</td>\n",
              "      <td>-1.0</td>\n",
              "      <td>-1.0</td>\n",
              "      <td>-1.0</td>\n",
              "      <td>-1.0</td>\n",
              "      <td>-1.0</td>\n",
              "      <td>-1.0</td>\n",
              "      <td>...</td>\n",
              "      <td>1.0</td>\n",
              "      <td>0.0</td>\n",
              "      <td>0.0</td>\n",
              "      <td>0.0</td>\n",
              "      <td>0.0</td>\n",
              "      <td>0.0</td>\n",
              "      <td>0.0</td>\n",
              "      <td>1.0</td>\n",
              "      <td>1</td>\n",
              "      <td>1</td>\n",
              "    </tr>\n",
              "    <tr>\n",
              "      <th>2</th>\n",
              "      <td>4.0</td>\n",
              "      <td>2.0</td>\n",
              "      <td>0.0</td>\n",
              "      <td>3.0</td>\n",
              "      <td>-1.0</td>\n",
              "      <td>-1.0</td>\n",
              "      <td>-1.0</td>\n",
              "      <td>-1.0</td>\n",
              "      <td>-1.0</td>\n",
              "      <td>-1.0</td>\n",
              "      <td>...</td>\n",
              "      <td>0.0</td>\n",
              "      <td>1.0</td>\n",
              "      <td>0.0</td>\n",
              "      <td>1.0</td>\n",
              "      <td>0.0</td>\n",
              "      <td>0.0</td>\n",
              "      <td>0.0</td>\n",
              "      <td>1.0</td>\n",
              "      <td>1</td>\n",
              "      <td>2</td>\n",
              "    </tr>\n",
              "    <tr>\n",
              "      <th>3</th>\n",
              "      <td>5.0</td>\n",
              "      <td>2.0</td>\n",
              "      <td>0.0</td>\n",
              "      <td>4.0</td>\n",
              "      <td>2.0</td>\n",
              "      <td>0.0</td>\n",
              "      <td>6.0</td>\n",
              "      <td>1.0</td>\n",
              "      <td>2.0</td>\n",
              "      <td>0.0</td>\n",
              "      <td>...</td>\n",
              "      <td>0.0</td>\n",
              "      <td>1.0</td>\n",
              "      <td>0.0</td>\n",
              "      <td>0.0</td>\n",
              "      <td>0.0</td>\n",
              "      <td>0.0</td>\n",
              "      <td>0.0</td>\n",
              "      <td>1.0</td>\n",
              "      <td>1</td>\n",
              "      <td>3</td>\n",
              "    </tr>\n",
              "    <tr>\n",
              "      <th>4</th>\n",
              "      <td>4.0</td>\n",
              "      <td>3.0</td>\n",
              "      <td>0.0</td>\n",
              "      <td>2.0</td>\n",
              "      <td>-1.0</td>\n",
              "      <td>-1.0</td>\n",
              "      <td>-1.0</td>\n",
              "      <td>-1.0</td>\n",
              "      <td>-1.0</td>\n",
              "      <td>-1.0</td>\n",
              "      <td>...</td>\n",
              "      <td>1.0</td>\n",
              "      <td>0.0</td>\n",
              "      <td>0.0</td>\n",
              "      <td>0.0</td>\n",
              "      <td>0.0</td>\n",
              "      <td>0.0</td>\n",
              "      <td>0.0</td>\n",
              "      <td>1.0</td>\n",
              "      <td>1</td>\n",
              "      <td>4</td>\n",
              "    </tr>\n",
              "    <tr>\n",
              "      <th>5</th>\n",
              "      <td>3.0</td>\n",
              "      <td>2.0</td>\n",
              "      <td>0.0</td>\n",
              "      <td>2.0</td>\n",
              "      <td>-1.0</td>\n",
              "      <td>-1.0</td>\n",
              "      <td>-1.0</td>\n",
              "      <td>-1.0</td>\n",
              "      <td>-1.0</td>\n",
              "      <td>-1.0</td>\n",
              "      <td>...</td>\n",
              "      <td>0.0</td>\n",
              "      <td>0.0</td>\n",
              "      <td>0.0</td>\n",
              "      <td>1.0</td>\n",
              "      <td>0.0</td>\n",
              "      <td>0.0</td>\n",
              "      <td>0.0</td>\n",
              "      <td>0.0</td>\n",
              "      <td>1</td>\n",
              "      <td>5</td>\n",
              "    </tr>\n",
              "    <tr>\n",
              "      <th>6</th>\n",
              "      <td>4.0</td>\n",
              "      <td>2.0</td>\n",
              "      <td>1.0</td>\n",
              "      <td>3.0</td>\n",
              "      <td>-1.0</td>\n",
              "      <td>-1.0</td>\n",
              "      <td>-1.0</td>\n",
              "      <td>-1.0</td>\n",
              "      <td>-1.0</td>\n",
              "      <td>-1.0</td>\n",
              "      <td>...</td>\n",
              "      <td>0.0</td>\n",
              "      <td>0.0</td>\n",
              "      <td>0.0</td>\n",
              "      <td>1.0</td>\n",
              "      <td>0.0</td>\n",
              "      <td>0.0</td>\n",
              "      <td>0.0</td>\n",
              "      <td>0.0</td>\n",
              "      <td>1</td>\n",
              "      <td>6</td>\n",
              "    </tr>\n",
              "    <tr>\n",
              "      <th>7</th>\n",
              "      <td>3.0</td>\n",
              "      <td>2.0</td>\n",
              "      <td>0.0</td>\n",
              "      <td>2.0</td>\n",
              "      <td>-1.0</td>\n",
              "      <td>-1.0</td>\n",
              "      <td>-1.0</td>\n",
              "      <td>-1.0</td>\n",
              "      <td>-1.0</td>\n",
              "      <td>-1.0</td>\n",
              "      <td>...</td>\n",
              "      <td>1.0</td>\n",
              "      <td>0.0</td>\n",
              "      <td>0.0</td>\n",
              "      <td>0.0</td>\n",
              "      <td>0.0</td>\n",
              "      <td>0.0</td>\n",
              "      <td>0.0</td>\n",
              "      <td>0.0</td>\n",
              "      <td>1</td>\n",
              "      <td>7</td>\n",
              "    </tr>\n",
              "    <tr>\n",
              "      <th>8</th>\n",
              "      <td>5.0</td>\n",
              "      <td>2.0</td>\n",
              "      <td>1.0</td>\n",
              "      <td>3.0</td>\n",
              "      <td>2.0</td>\n",
              "      <td>0.0</td>\n",
              "      <td>7.0</td>\n",
              "      <td>1.0</td>\n",
              "      <td>0.0</td>\n",
              "      <td>0.0</td>\n",
              "      <td>...</td>\n",
              "      <td>1.0</td>\n",
              "      <td>0.0</td>\n",
              "      <td>0.0</td>\n",
              "      <td>0.0</td>\n",
              "      <td>0.0</td>\n",
              "      <td>0.0</td>\n",
              "      <td>0.0</td>\n",
              "      <td>0.0</td>\n",
              "      <td>1</td>\n",
              "      <td>8</td>\n",
              "    </tr>\n",
              "    <tr>\n",
              "      <th>9</th>\n",
              "      <td>3.0</td>\n",
              "      <td>1.0</td>\n",
              "      <td>0.0</td>\n",
              "      <td>2.0</td>\n",
              "      <td>-1.0</td>\n",
              "      <td>-1.0</td>\n",
              "      <td>-1.0</td>\n",
              "      <td>-1.0</td>\n",
              "      <td>-1.0</td>\n",
              "      <td>-1.0</td>\n",
              "      <td>...</td>\n",
              "      <td>0.0</td>\n",
              "      <td>0.0</td>\n",
              "      <td>0.0</td>\n",
              "      <td>0.0</td>\n",
              "      <td>0.0</td>\n",
              "      <td>0.0</td>\n",
              "      <td>0.0</td>\n",
              "      <td>0.0</td>\n",
              "      <td>1</td>\n",
              "      <td>9</td>\n",
              "    </tr>\n",
              "    <tr>\n",
              "      <th>10</th>\n",
              "      <td>5.0</td>\n",
              "      <td>4.0</td>\n",
              "      <td>0.0</td>\n",
              "      <td>2.0</td>\n",
              "      <td>2.0</td>\n",
              "      <td>0.0</td>\n",
              "      <td>6.0</td>\n",
              "      <td>1.0</td>\n",
              "      <td>0.0</td>\n",
              "      <td>0.0</td>\n",
              "      <td>...</td>\n",
              "      <td>0.0</td>\n",
              "      <td>0.0</td>\n",
              "      <td>1.0</td>\n",
              "      <td>0.0</td>\n",
              "      <td>0.0</td>\n",
              "      <td>1.0</td>\n",
              "      <td>0.0</td>\n",
              "      <td>1.0</td>\n",
              "      <td>2</td>\n",
              "      <td>0</td>\n",
              "    </tr>\n",
              "    <tr>\n",
              "      <th>11</th>\n",
              "      <td>4.0</td>\n",
              "      <td>3.0</td>\n",
              "      <td>0.0</td>\n",
              "      <td>3.0</td>\n",
              "      <td>-1.0</td>\n",
              "      <td>-1.0</td>\n",
              "      <td>-1.0</td>\n",
              "      <td>-1.0</td>\n",
              "      <td>-1.0</td>\n",
              "      <td>-1.0</td>\n",
              "      <td>...</td>\n",
              "      <td>1.0</td>\n",
              "      <td>0.0</td>\n",
              "      <td>0.0</td>\n",
              "      <td>0.0</td>\n",
              "      <td>0.0</td>\n",
              "      <td>0.0</td>\n",
              "      <td>0.0</td>\n",
              "      <td>1.0</td>\n",
              "      <td>2</td>\n",
              "      <td>1</td>\n",
              "    </tr>\n",
              "    <tr>\n",
              "      <th>12</th>\n",
              "      <td>4.0</td>\n",
              "      <td>2.0</td>\n",
              "      <td>0.0</td>\n",
              "      <td>3.0</td>\n",
              "      <td>-1.0</td>\n",
              "      <td>-1.0</td>\n",
              "      <td>-1.0</td>\n",
              "      <td>-1.0</td>\n",
              "      <td>-1.0</td>\n",
              "      <td>-1.0</td>\n",
              "      <td>...</td>\n",
              "      <td>0.0</td>\n",
              "      <td>1.0</td>\n",
              "      <td>0.0</td>\n",
              "      <td>1.0</td>\n",
              "      <td>0.0</td>\n",
              "      <td>0.0</td>\n",
              "      <td>0.0</td>\n",
              "      <td>1.0</td>\n",
              "      <td>2</td>\n",
              "      <td>2</td>\n",
              "    </tr>\n",
              "    <tr>\n",
              "      <th>13</th>\n",
              "      <td>5.0</td>\n",
              "      <td>2.0</td>\n",
              "      <td>0.0</td>\n",
              "      <td>4.0</td>\n",
              "      <td>2.0</td>\n",
              "      <td>0.0</td>\n",
              "      <td>6.0</td>\n",
              "      <td>1.0</td>\n",
              "      <td>2.0</td>\n",
              "      <td>0.0</td>\n",
              "      <td>...</td>\n",
              "      <td>0.0</td>\n",
              "      <td>1.0</td>\n",
              "      <td>0.0</td>\n",
              "      <td>0.0</td>\n",
              "      <td>0.0</td>\n",
              "      <td>0.0</td>\n",
              "      <td>0.0</td>\n",
              "      <td>1.0</td>\n",
              "      <td>2</td>\n",
              "      <td>3</td>\n",
              "    </tr>\n",
              "    <tr>\n",
              "      <th>14</th>\n",
              "      <td>4.0</td>\n",
              "      <td>3.0</td>\n",
              "      <td>0.0</td>\n",
              "      <td>2.0</td>\n",
              "      <td>-1.0</td>\n",
              "      <td>-1.0</td>\n",
              "      <td>-1.0</td>\n",
              "      <td>-1.0</td>\n",
              "      <td>-1.0</td>\n",
              "      <td>-1.0</td>\n",
              "      <td>...</td>\n",
              "      <td>1.0</td>\n",
              "      <td>0.0</td>\n",
              "      <td>0.0</td>\n",
              "      <td>0.0</td>\n",
              "      <td>0.0</td>\n",
              "      <td>0.0</td>\n",
              "      <td>0.0</td>\n",
              "      <td>1.0</td>\n",
              "      <td>2</td>\n",
              "      <td>4</td>\n",
              "    </tr>\n",
              "    <tr>\n",
              "      <th>15</th>\n",
              "      <td>3.0</td>\n",
              "      <td>2.0</td>\n",
              "      <td>0.0</td>\n",
              "      <td>2.0</td>\n",
              "      <td>-1.0</td>\n",
              "      <td>-1.0</td>\n",
              "      <td>-1.0</td>\n",
              "      <td>-1.0</td>\n",
              "      <td>-1.0</td>\n",
              "      <td>-1.0</td>\n",
              "      <td>...</td>\n",
              "      <td>0.0</td>\n",
              "      <td>0.0</td>\n",
              "      <td>0.0</td>\n",
              "      <td>1.0</td>\n",
              "      <td>0.0</td>\n",
              "      <td>0.0</td>\n",
              "      <td>0.0</td>\n",
              "      <td>0.0</td>\n",
              "      <td>2</td>\n",
              "      <td>5</td>\n",
              "    </tr>\n",
              "    <tr>\n",
              "      <th>16</th>\n",
              "      <td>4.0</td>\n",
              "      <td>2.0</td>\n",
              "      <td>1.0</td>\n",
              "      <td>3.0</td>\n",
              "      <td>-1.0</td>\n",
              "      <td>-1.0</td>\n",
              "      <td>-1.0</td>\n",
              "      <td>-1.0</td>\n",
              "      <td>-1.0</td>\n",
              "      <td>-1.0</td>\n",
              "      <td>...</td>\n",
              "      <td>0.0</td>\n",
              "      <td>0.0</td>\n",
              "      <td>0.0</td>\n",
              "      <td>1.0</td>\n",
              "      <td>0.0</td>\n",
              "      <td>0.0</td>\n",
              "      <td>0.0</td>\n",
              "      <td>0.0</td>\n",
              "      <td>2</td>\n",
              "      <td>6</td>\n",
              "    </tr>\n",
              "    <tr>\n",
              "      <th>17</th>\n",
              "      <td>3.0</td>\n",
              "      <td>2.0</td>\n",
              "      <td>0.0</td>\n",
              "      <td>2.0</td>\n",
              "      <td>-1.0</td>\n",
              "      <td>-1.0</td>\n",
              "      <td>-1.0</td>\n",
              "      <td>-1.0</td>\n",
              "      <td>-1.0</td>\n",
              "      <td>-1.0</td>\n",
              "      <td>...</td>\n",
              "      <td>1.0</td>\n",
              "      <td>0.0</td>\n",
              "      <td>0.0</td>\n",
              "      <td>0.0</td>\n",
              "      <td>0.0</td>\n",
              "      <td>0.0</td>\n",
              "      <td>0.0</td>\n",
              "      <td>0.0</td>\n",
              "      <td>2</td>\n",
              "      <td>7</td>\n",
              "    </tr>\n",
              "    <tr>\n",
              "      <th>18</th>\n",
              "      <td>5.0</td>\n",
              "      <td>2.0</td>\n",
              "      <td>1.0</td>\n",
              "      <td>3.0</td>\n",
              "      <td>2.0</td>\n",
              "      <td>0.0</td>\n",
              "      <td>7.0</td>\n",
              "      <td>1.0</td>\n",
              "      <td>0.0</td>\n",
              "      <td>0.0</td>\n",
              "      <td>...</td>\n",
              "      <td>1.0</td>\n",
              "      <td>0.0</td>\n",
              "      <td>0.0</td>\n",
              "      <td>0.0</td>\n",
              "      <td>0.0</td>\n",
              "      <td>0.0</td>\n",
              "      <td>0.0</td>\n",
              "      <td>0.0</td>\n",
              "      <td>2</td>\n",
              "      <td>8</td>\n",
              "    </tr>\n",
              "    <tr>\n",
              "      <th>19</th>\n",
              "      <td>3.0</td>\n",
              "      <td>1.0</td>\n",
              "      <td>0.0</td>\n",
              "      <td>2.0</td>\n",
              "      <td>-1.0</td>\n",
              "      <td>-1.0</td>\n",
              "      <td>-1.0</td>\n",
              "      <td>-1.0</td>\n",
              "      <td>-1.0</td>\n",
              "      <td>-1.0</td>\n",
              "      <td>...</td>\n",
              "      <td>0.0</td>\n",
              "      <td>0.0</td>\n",
              "      <td>0.0</td>\n",
              "      <td>0.0</td>\n",
              "      <td>0.0</td>\n",
              "      <td>0.0</td>\n",
              "      <td>0.0</td>\n",
              "      <td>0.0</td>\n",
              "      <td>2</td>\n",
              "      <td>9</td>\n",
              "    </tr>\n",
              "  </tbody>\n",
              "</table>\n",
              "<p>20 rows × 23 columns</p>\n",
              "</div>"
            ]
          },
          "metadata": {},
          "execution_count": 91
        }
      ]
    },
    {
      "cell_type": "code",
      "source": [
        "kf = KFold(n_splits=10, shuffle=False)\n",
        "hists = dict()\n",
        "q2_names =  [\n",
        "  'Train',\n",
        "  'Cars Accuracy',\n",
        "  'Output of flat network', \n",
        "  'Desired output', \n",
        "  'Class'\n",
        "]\n",
        "q2 = {name: [] for name in q2_names}\n",
        "\n",
        "for val_train in tqdm(range(0,10)):\n",
        "    x_train, x_test, y_train, y_test = split2(dt2_np, val_train)\n",
        "    metanet, east, rules = metarede2()\n",
        "\n",
        "    east.compile(\n",
        "      loss = binary_crossentropy, \n",
        "      optimizer =tf.keras.optimizers.Adam(learning_rate=1e-2),\n",
        "      metrics = ['mse', 'binary_accuracy'])\n",
        "    hist = east.fit(\n",
        "      x_train,\n",
        "      y_train,\n",
        "      validation_data=[x_test, y_test],\n",
        "      epochs=1000,\n",
        "      verbose=0,\n",
        "      )\n",
        "    hists[val_train] = hist\n",
        "\n",
        "    q2['Train'].append(val_train)\n",
        "    q2['Output of flat network'].append(east.predict(x_test)[0][0])\n",
        "    q2['Desired output'].append(y_test[0])\n",
        "    q2['Class'].append(Class_attribute[int(y_test[0])])"
      ],
      "metadata": {
        "colab": {
          "base_uri": "https://localhost:8080/"
        },
        "id": "exHaW5Xpghsm",
        "outputId": "c70648e6-f158-4bc4-e633-d8500b6ebda6"
      },
      "execution_count": null,
      "outputs": [
        {
          "output_type": "stream",
          "name": "stderr",
          "text": [
            "\r  0%|                                                                                            | 0/10 [00:00<?, ?it/s]"
          ]
        },
        {
          "output_type": "stream",
          "name": "stdout",
          "text": [
            "1/1 [==============================] - 0s 103ms/step\n"
          ]
        },
        {
          "output_type": "stream",
          "name": "stderr",
          "text": [
            "\r 10%|████████▍                                                                           | 1/10 [00:49<07:27, 49.78s/it]"
          ]
        },
        {
          "output_type": "stream",
          "name": "stdout",
          "text": [
            "1/1 [==============================] - 0s 106ms/step\n"
          ]
        },
        {
          "output_type": "stream",
          "name": "stderr",
          "text": [
            "\r 20%|████████████████▊                                                                   | 2/10 [01:40<06:42, 50.36s/it]"
          ]
        },
        {
          "output_type": "stream",
          "name": "stdout",
          "text": [
            "1/1 [==============================] - 0s 103ms/step\n"
          ]
        },
        {
          "output_type": "stream",
          "name": "stderr",
          "text": [
            "\r 30%|█████████████████████████▏                                                          | 3/10 [02:30<05:51, 50.27s/it]"
          ]
        },
        {
          "output_type": "stream",
          "name": "stdout",
          "text": [
            "1/1 [==============================] - 0s 101ms/step\n"
          ]
        },
        {
          "output_type": "stream",
          "name": "stderr",
          "text": [
            "\r 40%|█████████████████████████████████▌                                                  | 4/10 [03:20<04:59, 49.94s/it]"
          ]
        },
        {
          "output_type": "stream",
          "name": "stdout",
          "text": [
            "1/1 [==============================] - 0s 103ms/step\n"
          ]
        },
        {
          "output_type": "stream",
          "name": "stderr",
          "text": [
            "\r 50%|██████████████████████████████████████████                                          | 5/10 [04:09<04:08, 49.69s/it]"
          ]
        },
        {
          "output_type": "stream",
          "name": "stdout",
          "text": [
            "1/1 [==============================] - 0s 103ms/step\n"
          ]
        },
        {
          "output_type": "stream",
          "name": "stderr",
          "text": [
            "\r 60%|██████████████████████████████████████████████████▍                                 | 6/10 [04:58<03:18, 49.52s/it]"
          ]
        },
        {
          "output_type": "stream",
          "name": "stdout",
          "text": [
            "1/1 [==============================] - 0s 104ms/step\n"
          ]
        },
        {
          "output_type": "stream",
          "name": "stderr",
          "text": [
            "\r 70%|██████████████████████████████████████████████████████████▊                         | 7/10 [05:50<02:31, 50.46s/it]"
          ]
        },
        {
          "output_type": "stream",
          "name": "stdout",
          "text": [
            "1/1 [==============================] - 0s 103ms/step\n"
          ]
        },
        {
          "output_type": "stream",
          "name": "stderr",
          "text": [
            "\r 80%|███████████████████████████████████████████████████████████████████▏                | 8/10 [06:41<01:41, 50.59s/it]"
          ]
        },
        {
          "output_type": "stream",
          "name": "stdout",
          "text": [
            "1/1 [==============================] - 0s 103ms/step\n"
          ]
        },
        {
          "output_type": "stream",
          "name": "stderr",
          "text": [
            "\r 90%|███████████████████████████████████████████████████████████████████████████▌        | 9/10 [07:31<00:50, 50.24s/it]"
          ]
        },
        {
          "output_type": "stream",
          "name": "stdout",
          "text": [
            "1/1 [==============================] - 0s 105ms/step\n"
          ]
        },
        {
          "output_type": "stream",
          "name": "stderr",
          "text": [
            "100%|███████████████████████████████████████████████████████████████████████████████████| 10/10 [08:21<00:00, 50.11s/it]\n"
          ]
        }
      ]
    },
    {
      "cell_type": "markdown",
      "source": [
        "### Resultados"
      ],
      "metadata": {
        "id": "LSt7MPml00SI"
      }
    },
    {
      "cell_type": "code",
      "source": [
        "for i,history in enumerate(hists.values()):\n",
        "    plt.plot(history.history['binary_accuracy'], c='tab:blue')\n",
        "    plt.plot(history.history['val_binary_accuracy'], c='tab:orange')\n",
        "\n",
        "plt.title('Model Binary Accuracy')\n",
        "plt.ylabel('MSE')\n",
        "plt.xlabel('epoch')\n",
        "plt.legend(['train', 'val'], loc='upper left')\n",
        "plt.show()"
      ],
      "metadata": {
        "colab": {
          "base_uri": "https://localhost:8080/",
          "height": 470
        },
        "id": "2g7Jyecr3SrG",
        "outputId": "c959d8d7-fbb4-4d2a-9673-41007f481308"
      },
      "execution_count": null,
      "outputs": [
        {
          "output_type": "display_data",
          "data": {
            "text/plain": [
              "<Figure size 640x480 with 1 Axes>"
            ],
            "image/png": "[encoded data removed]"
          },
          "metadata": {}
        }
      ]
    },
    {
      "cell_type": "code",
      "source": [
        "q2['Cars Accuracy'] = [hists[i].history['binary_accuracy'][-1] for i in range(0,10)]\n",
        "\n",
        "t2 = pd.DataFrame.from_dict(q2).round(2)\n",
        "t2['Cars Accuracy'] = [hists[i].history['binary_accuracy'][-1] for i in range(0,10)]\n",
        "t2 = t2.reindex(columns=['Train', 'Cars Accuracy', 'Output of flat network', 'Desired output', 'Class'])\n",
        "t2"
      ],
      "metadata": {
        "colab": {
          "base_uri": "https://localhost:8080/",
          "height": 363
        },
        "id": "zkATKwTrg_g-",
        "outputId": "5a58f0aa-122a-4289-9869-022b54594d36"
      },
      "execution_count": null,
      "outputs": [
        {
          "output_type": "execute_result",
          "data": {
            "text/plain": [
              "   Train  Cars Accuracy  Output of flat network  Desired output Class\n",
              "0      0       1.000000                    0.99             1.0  east\n",
              "1      1       1.000000                    0.99             1.0  east\n",
              "2      2       1.000000                    1.00             1.0  east\n",
              "3      3       1.000000                    1.00             1.0  east\n",
              "4      4       1.000000                    0.01             1.0  east\n",
              "5      5       1.000000                    0.11             0.0  west\n",
              "6      6       1.000000                    0.01             0.0  west\n",
              "7      7       0.555556                    0.56             0.0  west\n",
              "8      8       1.000000                    0.01             0.0  west\n",
              "9      9       1.000000                    0.01             0.0  west"
            ],
            "text/html": [
              "<div>\n",
              "<style scoped>\n",
              "    .dataframe tbody tr th:only-of-type {\n",
              "        vertical-align: middle;\n",
              "    }\n",
              "\n",
              "    .dataframe tbody tr th {\n",
              "        vertical-align: top;\n",
              "    }\n",
              "\n",
              "    .dataframe thead th {\n",
              "        text-align: right;\n",
              "    }\n",
              "</style>\n",
              "<table border=\"1\" class=\"dataframe\">\n",
              "  <thead>\n",
              "    <tr style=\"text-align: right;\">\n",
              "      <th></th>\n",
              "      <th>Train</th>\n",
              "      <th>Cars Accuracy</th>\n",
              "      <th>Output of flat network</th>\n",
              "      <th>Desired output</th>\n",
              "      <th>Class</th>\n",
              "    </tr>\n",
              "  </thead>\n",
              "  <tbody>\n",
              "    <tr>\n",
              "      <th>0</th>\n",
              "      <td>0</td>\n",
              "      <td>1.000000</td>\n",
              "      <td>0.99</td>\n",
              "      <td>1.0</td>\n",
              "      <td>east</td>\n",
              "    </tr>\n",
              "    <tr>\n",
              "      <th>1</th>\n",
              "      <td>1</td>\n",
              "      <td>1.000000</td>\n",
              "      <td>0.99</td>\n",
              "      <td>1.0</td>\n",
              "      <td>east</td>\n",
              "    </tr>\n",
              "    <tr>\n",
              "      <th>2</th>\n",
              "      <td>2</td>\n",
              "      <td>1.000000</td>\n",
              "      <td>1.00</td>\n",
              "      <td>1.0</td>\n",
              "      <td>east</td>\n",
              "    </tr>\n",
              "    <tr>\n",
              "      <th>3</th>\n",
              "      <td>3</td>\n",
              "      <td>1.000000</td>\n",
              "      <td>1.00</td>\n",
              "      <td>1.0</td>\n",
              "      <td>east</td>\n",
              "    </tr>\n",
              "    <tr>\n",
              "      <th>4</th>\n",
              "      <td>4</td>\n",
              "      <td>1.000000</td>\n",
              "      <td>0.01</td>\n",
              "      <td>1.0</td>\n",
              "      <td>east</td>\n",
              "    </tr>\n",
              "    <tr>\n",
              "      <th>5</th>\n",
              "      <td>5</td>\n",
              "      <td>1.000000</td>\n",
              "      <td>0.11</td>\n",
              "      <td>0.0</td>\n",
              "      <td>west</td>\n",
              "    </tr>\n",
              "    <tr>\n",
              "      <th>6</th>\n",
              "      <td>6</td>\n",
              "      <td>1.000000</td>\n",
              "      <td>0.01</td>\n",
              "      <td>0.0</td>\n",
              "      <td>west</td>\n",
              "    </tr>\n",
              "    <tr>\n",
              "      <th>7</th>\n",
              "      <td>7</td>\n",
              "      <td>0.555556</td>\n",
              "      <td>0.56</td>\n",
              "      <td>0.0</td>\n",
              "      <td>west</td>\n",
              "    </tr>\n",
              "    <tr>\n",
              "      <th>8</th>\n",
              "      <td>8</td>\n",
              "      <td>1.000000</td>\n",
              "      <td>0.01</td>\n",
              "      <td>0.0</td>\n",
              "      <td>west</td>\n",
              "    </tr>\n",
              "    <tr>\n",
              "      <th>9</th>\n",
              "      <td>9</td>\n",
              "      <td>1.000000</td>\n",
              "      <td>0.01</td>\n",
              "      <td>0.0</td>\n",
              "      <td>west</td>\n",
              "    </tr>\n",
              "  </tbody>\n",
              "</table>\n",
              "</div>"
            ]
          },
          "metadata": {},
          "execution_count": 93
        }
      ]
    },
    {
      "cell_type": "markdown",
      "source": [
        "## Treino do Modelo 1 com novos trens para comparação do desempenho (considerando os predicados originais)  "
      ],
      "metadata": {
        "id": "8bSoSrorjk_h"
      }
    },
    {
      "cell_type": "code",
      "source": [
        "kf = KFold(n_splits=18, shuffle=False)\n",
        "hists = dict()\n",
        "q2_names =  [\n",
        "  'Train',\n",
        "  'Cars Accuracy',\n",
        "  'Output of flat network', \n",
        "  'Desired output', \n",
        "  'Class'\n",
        "]\n",
        "q2 = {name: [] for name in q2_names}\n",
        "\n",
        "for val_train in tqdm(range(0,18)):\n",
        "    x_train, x_test, y_train, y_test = split1(dt_ext, val_train)\n",
        "    metanet, east, rules = metarede()\n",
        "\n",
        "    east.compile(\n",
        "      loss = binary_crossentropy, \n",
        "      optimizer =tf.keras.optimizers.Adam(learning_rate=1e-2),\n",
        "      metrics = ['mse', 'binary_accuracy'])\n",
        "    hist = east.fit(\n",
        "      x_train,\n",
        "      y_train,\n",
        "      validation_data=[x_test, y_test],\n",
        "      epochs=1000,\n",
        "      verbose=0,\n",
        "      )\n",
        "    hists[val_train] = hist\n",
        "\n",
        "    q2['Train'].append(val_train)\n",
        "    q2['Output of flat network'].append(east.predict(x_test)[0][0])\n",
        "    q2['Desired output'].append(y_test[0])\n",
        "    q2['Class'].append(Class_attribute[int(y_test[0])])"
      ],
      "metadata": {
        "colab": {
          "base_uri": "https://localhost:8080/"
        },
        "id": "vusJqRMKjkLM",
        "outputId": "08a02bec-91a6-4e38-80d1-f7e14a8c6c82"
      },
      "execution_count": null,
      "outputs": [
        {
          "output_type": "stream",
          "name": "stderr",
          "text": [
            "\r  0%|                                                                                            | 0/18 [00:00<?, ?it/s]"
          ]
        },
        {
          "output_type": "stream",
          "name": "stdout",
          "text": [
            "1/1 [==============================] - 0s 88ms/step\n"
          ]
        },
        {
          "output_type": "stream",
          "name": "stderr",
          "text": [
            "\r  6%|████▋                                                                               | 1/18 [00:53<15:06, 53.35s/it]"
          ]
        },
        {
          "output_type": "stream",
          "name": "stdout",
          "text": [
            "1/1 [==============================] - 0s 87ms/step\n"
          ]
        },
        {
          "output_type": "stream",
          "name": "stderr",
          "text": [
            "\r 11%|█████████▎                                                                          | 2/18 [01:46<14:12, 53.29s/it]"
          ]
        },
        {
          "output_type": "stream",
          "name": "stdout",
          "text": [
            "1/1 [==============================] - 0s 87ms/step\n"
          ]
        },
        {
          "output_type": "stream",
          "name": "stderr",
          "text": [
            "\r 17%|██████████████                                                                      | 3/18 [02:39<13:15, 53.04s/it]"
          ]
        },
        {
          "output_type": "stream",
          "name": "stdout",
          "text": [
            "1/1 [==============================] - 0s 90ms/step\n"
          ]
        },
        {
          "output_type": "stream",
          "name": "stderr",
          "text": [
            "\r 22%|██████████████████▋                                                                 | 4/18 [03:31<12:19, 52.85s/it]"
          ]
        },
        {
          "output_type": "stream",
          "name": "stdout",
          "text": [
            "1/1 [==============================] - 0s 88ms/step\n"
          ]
        },
        {
          "output_type": "stream",
          "name": "stderr",
          "text": [
            "\r 28%|███████████████████████▎                                                            | 5/18 [04:24<11:27, 52.85s/it]"
          ]
        },
        {
          "output_type": "stream",
          "name": "stdout",
          "text": [
            "1/1 [==============================] - 0s 95ms/step\n"
          ]
        },
        {
          "output_type": "stream",
          "name": "stderr",
          "text": [
            "\r 33%|████████████████████████████                                                        | 6/18 [05:17<10:33, 52.78s/it]"
          ]
        },
        {
          "output_type": "stream",
          "name": "stdout",
          "text": [
            "1/1 [==============================] - 0s 88ms/step\n"
          ]
        },
        {
          "output_type": "stream",
          "name": "stderr",
          "text": [
            "\r 39%|████████████████████████████████▋                                                   | 7/18 [06:10<09:43, 53.02s/it]"
          ]
        },
        {
          "output_type": "stream",
          "name": "stdout",
          "text": [
            "1/1 [==============================] - 0s 90ms/step\n"
          ]
        },
        {
          "output_type": "stream",
          "name": "stderr",
          "text": [
            "\r 44%|█████████████████████████████████████▎                                              | 8/18 [07:03<08:50, 53.03s/it]"
          ]
        },
        {
          "output_type": "stream",
          "name": "stdout",
          "text": [
            "1/1 [==============================] - 0s 88ms/step\n"
          ]
        },
        {
          "output_type": "stream",
          "name": "stderr",
          "text": [
            "\r 50%|██████████████████████████████████████████                                          | 9/18 [07:56<07:56, 52.97s/it]"
          ]
        },
        {
          "output_type": "stream",
          "name": "stdout",
          "text": [
            "1/1 [==============================] - 0s 89ms/step\n"
          ]
        },
        {
          "output_type": "stream",
          "name": "stderr",
          "text": [
            "\r 56%|██████████████████████████████████████████████                                     | 10/18 [08:49<07:03, 52.90s/it]"
          ]
        },
        {
          "output_type": "stream",
          "name": "stdout",
          "text": [
            "1/1 [==============================] - 0s 125ms/step\n"
          ]
        },
        {
          "output_type": "stream",
          "name": "stderr",
          "text": [
            "\r 61%|██████████████████████████████████████████████████▋                                | 11/18 [09:43<06:12, 53.24s/it]"
          ]
        },
        {
          "output_type": "stream",
          "name": "stdout",
          "text": [
            "1/1 [==============================] - 0s 101ms/step\n"
          ]
        },
        {
          "output_type": "stream",
          "name": "stderr",
          "text": [
            "\r 67%|███████████████████████████████████████████████████████▎                           | 12/18 [10:39<05:24, 54.11s/it]"
          ]
        },
        {
          "output_type": "stream",
          "name": "stdout",
          "text": [
            "1/1 [==============================] - 0s 96ms/step\n"
          ]
        },
        {
          "output_type": "stream",
          "name": "stderr",
          "text": [
            "\r 72%|███████████████████████████████████████████████████████████▉                       | 13/18 [11:35<04:32, 54.56s/it]"
          ]
        },
        {
          "output_type": "stream",
          "name": "stdout",
          "text": [
            "1/1 [==============================] - 0s 91ms/step\n"
          ]
        },
        {
          "output_type": "stream",
          "name": "stderr",
          "text": [
            "\r 78%|████████████████████████████████████████████████████████████████▌                  | 14/18 [12:29<03:38, 54.52s/it]"
          ]
        },
        {
          "output_type": "stream",
          "name": "stdout",
          "text": [
            "1/1 [==============================] - 0s 97ms/step\n"
          ]
        },
        {
          "output_type": "stream",
          "name": "stderr",
          "text": [
            "\r 83%|█████████████████████████████████████████████████████████████████████▏             | 15/18 [13:23<02:42, 54.29s/it]"
          ]
        },
        {
          "output_type": "stream",
          "name": "stdout",
          "text": [
            "1/1 [==============================] - 0s 88ms/step\n"
          ]
        },
        {
          "output_type": "stream",
          "name": "stderr",
          "text": [
            "\r 89%|█████████████████████████████████████████████████████████████████████████▊         | 16/18 [14:16<01:47, 53.99s/it]"
          ]
        },
        {
          "output_type": "stream",
          "name": "stdout",
          "text": [
            "1/1 [==============================] - 0s 90ms/step\n"
          ]
        },
        {
          "output_type": "stream",
          "name": "stderr",
          "text": [
            "\r 94%|██████████████████████████████████████████████████████████████████████████████▍    | 17/18 [15:10<00:53, 53.83s/it]"
          ]
        },
        {
          "output_type": "stream",
          "name": "stdout",
          "text": [
            "1/1 [==============================] - 0s 89ms/step\n"
          ]
        },
        {
          "output_type": "stream",
          "name": "stderr",
          "text": [
            "100%|███████████████████████████████████████████████████████████████████████████████████| 18/18 [16:03<00:00, 53.53s/it]\n"
          ]
        }
      ]
    },
    {
      "cell_type": "markdown",
      "source": [
        "### Resultados"
      ],
      "metadata": {
        "id": "GhodAWa_02f8"
      }
    },
    {
      "cell_type": "code",
      "source": [
        "for i,history in enumerate(hists.values()):\n",
        "    plt.plot(history.history['binary_accuracy'], c='tab:blue')\n",
        "    plt.plot(history.history['val_binary_accuracy'], c='tab:orange')\n",
        "\n",
        "plt.title('Model Binary Accuracy')\n",
        "plt.ylabel('MSE')\n",
        "plt.xlabel('epoch')\n",
        "plt.legend(['train', 'val'], loc='upper left')\n",
        "plt.show()"
      ],
      "metadata": {
        "colab": {
          "base_uri": "https://localhost:8080/",
          "height": 470
        },
        "id": "4mdf0iwm0Zvn",
        "outputId": "5305cd33-f0d3-4be8-b11a-7d2173c5a3e0"
      },
      "execution_count": null,
      "outputs": [
        {
          "output_type": "display_data",
          "data": {
            "text/plain": [
              "<Figure size 640x480 with 1 Axes>"
            ],
            "image/png": "[encoded data removed]"
          },
          "metadata": {}
        }
      ]
    },
    {
      "cell_type": "code",
      "source": [
        "q2['Cars Accuracy'] = [hists[i].history['binary_accuracy'][-1] for i in range(0,18)]\n",
        "\n",
        "t2 = pd.DataFrame.from_dict(q2).round(2)\n",
        "t2['Cars Accuracy'] = [hists[i].history['binary_accuracy'][-1] for i in range(0,18)]\n",
        "t2 = t2.reindex(columns=['Train', 'Cars Accuracy', 'Output of flat network', 'Desired output', 'Class'])\n",
        "t2"
      ],
      "metadata": {
        "colab": {
          "base_uri": "https://localhost:8080/",
          "height": 614
        },
        "id": "ibazmOhmx5Ue",
        "outputId": "da09de3d-a746-406e-808e-28426b34ca85"
      },
      "execution_count": null,
      "outputs": [
        {
          "output_type": "execute_result",
          "data": {
            "text/plain": [
              "    Train  Cars Accuracy  Output of flat network  Desired output Class\n",
              "0       0       0.529412                    0.48             1.0  east\n",
              "1       1       1.000000                    0.99             1.0  east\n",
              "2       2       0.764706                    1.00             1.0  east\n",
              "3       3       0.529412                    0.48             1.0  east\n",
              "4       4       1.000000                    1.00             1.0  east\n",
              "5       5       0.764706                    0.56             0.0  west\n",
              "6       6       0.764706                    0.35             0.0  west\n",
              "7       7       0.764706                    0.36             0.0  west\n",
              "8       8       0.764706                    0.35             0.0  west\n",
              "9       9       0.529412                    0.53             0.0  west\n",
              "10     10       0.823529                    0.27             1.0  east\n",
              "11     11       0.823529                    0.27             1.0  east\n",
              "12     12       0.823529                    0.27             1.0  east\n",
              "13     13       0.529412                    0.48             1.0  east\n",
              "14     14       1.000000                    0.00             0.0  west\n",
              "15     15       0.764706                    0.35             0.0  west\n",
              "16     16       0.764706                    0.35             0.0  west\n",
              "17     17       1.000000                    0.00             0.0  west"
            ],
            "text/html": [
              "<div>\n",
              "<style scoped>\n",
              "    .dataframe tbody tr th:only-of-type {\n",
              "        vertical-align: middle;\n",
              "    }\n",
              "\n",
              "    .dataframe tbody tr th {\n",
              "        vertical-align: top;\n",
              "    }\n",
              "\n",
              "    .dataframe thead th {\n",
              "        text-align: right;\n",
              "    }\n",
              "</style>\n",
              "<table border=\"1\" class=\"dataframe\">\n",
              "  <thead>\n",
              "    <tr style=\"text-align: right;\">\n",
              "      <th></th>\n",
              "      <th>Train</th>\n",
              "      <th>Cars Accuracy</th>\n",
              "      <th>Output of flat network</th>\n",
              "      <th>Desired output</th>\n",
              "      <th>Class</th>\n",
              "    </tr>\n",
              "  </thead>\n",
              "  <tbody>\n",
              "    <tr>\n",
              "      <th>0</th>\n",
              "      <td>0</td>\n",
              "      <td>0.529412</td>\n",
              "      <td>0.48</td>\n",
              "      <td>1.0</td>\n",
              "      <td>east</td>\n",
              "    </tr>\n",
              "    <tr>\n",
              "      <th>1</th>\n",
              "      <td>1</td>\n",
              "      <td>1.000000</td>\n",
              "      <td>0.99</td>\n",
              "      <td>1.0</td>\n",
              "      <td>east</td>\n",
              "    </tr>\n",
              "    <tr>\n",
              "      <th>2</th>\n",
              "      <td>2</td>\n",
              "      <td>0.764706</td>\n",
              "      <td>1.00</td>\n",
              "      <td>1.0</td>\n",
              "      <td>east</td>\n",
              "    </tr>\n",
              "    <tr>\n",
              "      <th>3</th>\n",
              "      <td>3</td>\n",
              "      <td>0.529412</td>\n",
              "      <td>0.48</td>\n",
              "      <td>1.0</td>\n",
              "      <td>east</td>\n",
              "    </tr>\n",
              "    <tr>\n",
              "      <th>4</th>\n",
              "      <td>4</td>\n",
              "      <td>1.000000</td>\n",
              "      <td>1.00</td>\n",
              "      <td>1.0</td>\n",
              "      <td>east</td>\n",
              "    </tr>\n",
              "    <tr>\n",
              "      <th>5</th>\n",
              "      <td>5</td>\n",
              "      <td>0.764706</td>\n",
              "      <td>0.56</td>\n",
              "      <td>0.0</td>\n",
              "      <td>west</td>\n",
              "    </tr>\n",
              "    <tr>\n",
              "      <th>6</th>\n",
              "      <td>6</td>\n",
              "      <td>0.764706</td>\n",
              "      <td>0.35</td>\n",
              "      <td>0.0</td>\n",
              "      <td>west</td>\n",
              "    </tr>\n",
              "    <tr>\n",
              "      <th>7</th>\n",
              "      <td>7</td>\n",
              "      <td>0.764706</td>\n",
              "      <td>0.36</td>\n",
              "      <td>0.0</td>\n",
              "      <td>west</td>\n",
              "    </tr>\n",
              "    <tr>\n",
              "      <th>8</th>\n",
              "      <td>8</td>\n",
              "      <td>0.764706</td>\n",
              "      <td>0.35</td>\n",
              "      <td>0.0</td>\n",
              "      <td>west</td>\n",
              "    </tr>\n",
              "    <tr>\n",
              "      <th>9</th>\n",
              "      <td>9</td>\n",
              "      <td>0.529412</td>\n",
              "      <td>0.53</td>\n",
              "      <td>0.0</td>\n",
              "      <td>west</td>\n",
              "    </tr>\n",
              "    <tr>\n",
              "      <th>10</th>\n",
              "      <td>10</td>\n",
              "      <td>0.823529</td>\n",
              "      <td>0.27</td>\n",
              "      <td>1.0</td>\n",
              "      <td>east</td>\n",
              "    </tr>\n",
              "    <tr>\n",
              "      <th>11</th>\n",
              "      <td>11</td>\n",
              "      <td>0.823529</td>\n",
              "      <td>0.27</td>\n",
              "      <td>1.0</td>\n",
              "      <td>east</td>\n",
              "    </tr>\n",
              "    <tr>\n",
              "      <th>12</th>\n",
              "      <td>12</td>\n",
              "      <td>0.823529</td>\n",
              "      <td>0.27</td>\n",
              "      <td>1.0</td>\n",
              "      <td>east</td>\n",
              "    </tr>\n",
              "    <tr>\n",
              "      <th>13</th>\n",
              "      <td>13</td>\n",
              "      <td>0.529412</td>\n",
              "      <td>0.48</td>\n",
              "      <td>1.0</td>\n",
              "      <td>east</td>\n",
              "    </tr>\n",
              "    <tr>\n",
              "      <th>14</th>\n",
              "      <td>14</td>\n",
              "      <td>1.000000</td>\n",
              "      <td>0.00</td>\n",
              "      <td>0.0</td>\n",
              "      <td>west</td>\n",
              "    </tr>\n",
              "    <tr>\n",
              "      <th>15</th>\n",
              "      <td>15</td>\n",
              "      <td>0.764706</td>\n",
              "      <td>0.35</td>\n",
              "      <td>0.0</td>\n",
              "      <td>west</td>\n",
              "    </tr>\n",
              "    <tr>\n",
              "      <th>16</th>\n",
              "      <td>16</td>\n",
              "      <td>0.764706</td>\n",
              "      <td>0.35</td>\n",
              "      <td>0.0</td>\n",
              "      <td>west</td>\n",
              "    </tr>\n",
              "    <tr>\n",
              "      <th>17</th>\n",
              "      <td>17</td>\n",
              "      <td>1.000000</td>\n",
              "      <td>0.00</td>\n",
              "      <td>0.0</td>\n",
              "      <td>west</td>\n",
              "    </tr>\n",
              "  </tbody>\n",
              "</table>\n",
              "</div>"
            ]
          },
          "metadata": {},
          "execution_count": 98
        }
      ]
    },
    {
      "cell_type": "markdown",
      "source": [
        "# Questão 3\n",
        "credits to https://github.com/abarthakur/trepan_python"
      ],
      "metadata": {
        "id": "znQgm0nGYGlA"
      }
    },
    {
      "cell_type": "code",
      "source": [
        "import numpy as np\n",
        "from scipy import stats\n",
        "import queue"
      ],
      "metadata": {
        "id": "czBDqZbxD-5X"
      },
      "execution_count": null,
      "outputs": []
    },
    {
      "cell_type": "markdown",
      "source": [
        "## Trepan Class"
      ],
      "metadata": {
        "id": "GA9a0L6Tohzg"
      }
    },
    {
      "cell_type": "code",
      "source": [
        "class Trepan:\n",
        "    '''\n",
        "    Wrapper class for tree building algorithm TREPAN as described in \n",
        "    \"Extracting tree-structured representations of trained networks\" : Craven,Shavlik 1993\n",
        "    Differences/Unimplemented/Implemented differently:\n",
        "    1. Not using m-of-n splits in decision tree nodes, instead a simple C4.5 split (Quinlan,1993) is used.\n",
        "    2. Input features must be numeric.\n",
        "    3. Stopping criterion is only num_nodes < MAX_NODES . Other criterion described in the paper [TODO:Description?] is unimplemented.\n",
        "    '''\n",
        "\n",
        "    @staticmethod\n",
        "    def build_tree(MIN_EXAMPLES_PER_NODE,MAX_NODES,trainX,oracle):\n",
        "        '''\t\t\t\n",
        "            Parameters\n",
        "            ----------\n",
        "            MIN_EXAMPLES_PER_NODE : int \n",
        "                                    corresponds to S_min in the original paper.\n",
        "            MAX_NODES \t: int\n",
        "            trainX\t\t: numpy array \n",
        "                        : training examples of dimension (num_examples,num_dimensions) \n",
        "            oracle \t\t: \tOracle object, used to generate samples given constraints of linear inequalities on the input space,\n",
        "                            It also wraps the NN model to imitate, which it uses to label the instances. \n",
        "            Returns\n",
        "            --------\n",
        "            root : the root node of the built tree. Call root.classify(single_example) to get the prediction of the imitating tree. \n",
        "                single_example must have dimension (num_examples,num_dimensions)\n",
        "        '''\n",
        "\n",
        "        total_num_examples = trainX.shape[0]\n",
        "        num_dimensions = trainX.shape[1]\n",
        "        #generate labels from oracle\n",
        "        labels = np.zeros((trainX.shape[0]))\n",
        "        print(len(labels))\n",
        "        for i in range(0,trainX.shape[0]):\n",
        "            labels[i]=oracle.get_oracle_label(trainX[i,:])\n",
        "\n",
        "        all_examples=(trainX,labels)\n",
        "        all_examples_dict={\"trainX\":trainX,\"labels\":labels}\n",
        "\n",
        "        #initialize queue with root\n",
        "        sortedQueue = queue.PriorityQueue()\n",
        "        root = Node(all_examples_dict,total_num_examples)\n",
        "        sortedQueue.put((root.priority,0,root,all_examples,Constraints(num_dimensions)))\n",
        "\n",
        "        num_nodes=1\n",
        "        while not sortedQueue.empty():\n",
        "            (p, tiebreaker, node, examples, constraints)=sortedQueue.get()\n",
        "            num_examples=examples[0].shape[0]\n",
        "            assert(node.leaf)\n",
        "            assert(num_examples>0)\n",
        "\n",
        "            print(\"############PROCESSING \"+str(num_examples)+\" #############\")\n",
        "\n",
        "            if num_examples<MIN_EXAMPLES_PER_NODE:\n",
        "                print(\"NEED EXTRA\")\n",
        "                (trainX,labels)= examples\n",
        "                num_required = MIN_EXAMPLES_PER_NODE - num_examples\n",
        "                (trainX_oracle,labels_oracle) = oracle.generate_constrained_examples_with_labels(constraints,num_required)\n",
        "                trainX_aug = np.concatenate([trainX,trainX_oracle],axis=0)\n",
        "                labels_aug = np.concatenate([labels,labels_oracle],axis=0)\n",
        "                examples_aug=(trainX_aug,labels_aug)\t\t\n",
        "            else :\n",
        "                print(\"ALL OK\")\n",
        "                examples_aug = examples\n",
        "\n",
        "            srule = SplitFinder.find_best_m_of_n_split(examples_aug)\n",
        "            #a good split was not found, so keep as leaf\n",
        "            if not srule:\n",
        "                continue\n",
        "            examples_l,examples_r = partition(examples,srule)\n",
        "\n",
        "            #even though the trivial splits are avoided with examples_aug, \n",
        "            #the splitrule may still split the examples trivially\n",
        "            #trivial split, so keep as leaf\n",
        "            if len(examples_l[0])==0 or len(examples_r[0])==0:\n",
        "                continue\n",
        "\n",
        "            #TODO: Add stop criterion thresholding the proportion of dominant class, similar to \n",
        "            \n",
        "            #number of nodes will exceed MAX_NODES if we make the split, so keep as leaf\n",
        "            if (MAX_NODES - num_nodes<2):\n",
        "                continue\n",
        "\n",
        "            #split the node, and make as internal\n",
        "            examples_l_dict={\"trainX\":examples_l[0],\"labels\":examples_l[1]}\n",
        "            examples_r_dict={\"trainX\":examples_r[0],\"labels\":examples_r[1]}\n",
        "            left_child= Node(examples_l_dict,total_num_examples)\n",
        "            right_child= Node(examples_r_dict,total_num_examples)\n",
        "            node.left_child = left_child\n",
        "            node.right_child = right_child\n",
        "            node.splitrule=srule\n",
        "            node.leaf=False\n",
        "\n",
        "            #add child nodes\n",
        "            constraints_left = constraints.copy()\n",
        "            constraints_left.addRule(srule)\n",
        "            priority = left_child.priority\n",
        "            sortedQueue.put((priority,num_nodes,left_child,examples_l,constraints_left))\n",
        "            num_nodes+=1\n",
        "            \n",
        "            constraints_right = constraints.copy()\n",
        "            constraints_right .addRule(srule.invert())\n",
        "            priority = right_child.priority\n",
        "            sortedQueue.put((priority,num_nodes,right_child,examples_r,constraints_right))\n",
        "            num_nodes+=1\n",
        "        \n",
        "        return root"
      ],
      "metadata": {
        "id": "2HYNuVnElMOs"
      },
      "execution_count": null,
      "outputs": []
    },
    {
      "cell_type": "markdown",
      "source": [
        " ## SplitFinder classes"
      ],
      "metadata": {
        "id": "qnLZA0jSmVP8"
      }
    },
    {
      "cell_type": "code",
      "source": [
        "class SplitFinder:\n",
        "    '''\n",
        "    Wrapper class containing algorithm to find splits, and utility functions to calculate certain mathematical formulae.\n",
        "    '''\n",
        "\n",
        "\n",
        "    @staticmethod\n",
        "    def entropy(class_frequencies,num_examples):\n",
        "        '''\n",
        "        Entropy of a data point is the \"surprisal\" value of it. \n",
        "        Less probable points have a higher value of entropy.\n",
        "        Mathematically, entropy defined for a set of categorical data points is,\n",
        "        H(x)= - \\sum_{i=1}^{n} ( P(X=class_i) \\log P(X=class_i) )\n",
        "        Overall for a set of data points, entropy is more for a more uncertain distribution.\n",
        "        So, for a homogenous set of points, the entropy is the lowest.\n",
        "        Entropy is always positive.\n",
        "        '''\n",
        "        entropy=0\n",
        "        for class_i in class_frequencies:\n",
        "            frequency = class_frequencies[class_i]\n",
        "            #lim(x->0) xlogx = 0\n",
        "            if (frequency==0):\t\n",
        "                continue\n",
        "            prob = float(frequency)/num_examples\n",
        "            entropy+= (-1) * prob*np.log2(prob)\n",
        "        return entropy\n",
        "\n",
        "    @staticmethod\n",
        "    def mutual_information(X,y):\n",
        "        '''\n",
        "        Information gain is the difference in entropy between the original state & the new state.\n",
        "        In this case it is \n",
        "        IG(X)\t= H(X) - fraction(X<=split) * H(X|X<=split) - fraction(X>split) * H(X|X>split)\n",
        "                = H_parent - frac_l * H_l - frac_r * H_r\n",
        "        Assuming a \"less than equal to\" split rule.\n",
        "        Parameters\n",
        "        ---------\n",
        "        X : np array of shape (num_examples,)\n",
        "        y : np array of shape (num_examples,) \n",
        "            the category/class labels\n",
        "        Returns:\n",
        "        gains : np array of shape (num_examples,1)\n",
        "                ith value corresponds to taking the ith example as the split point\n",
        "        '''\n",
        "\n",
        "        num_examples=X.shape[0]\n",
        "        assert(y.shape[0]==num_examples)\n",
        "        assert(len(X.shape)==1 and len(y.shape)==1)\n",
        "\n",
        "        #get unique classes and their frequencies\n",
        "        classes, class_frequencies = np.unique(y, return_counts=True)\n",
        "        num_classes=classes.shape[0]\n",
        "\n",
        "        #get sorted indices for X, sorting along axis=0 (only axis here)\n",
        "        sorted_indices=np.argsort(X,axis=0)\n",
        "        \n",
        "        #intialize gains array\n",
        "        gains = np.zeros(num_examples)\n",
        "\n",
        "        #initialize splits with all points in the left partition\n",
        "        left_frequencies={}\n",
        "        right_frequencies={}\n",
        "        for i in range(0,num_classes):\n",
        "            left_frequencies[classes[i]]=class_frequencies[i]\n",
        "            right_frequencies[classes[i]]=0\n",
        "\n",
        "        entropy_parent = SplitFinder.entropy(left_frequencies,num_examples)\n",
        "        prev_idx=None\n",
        "        shifted=0\n",
        "        '''\n",
        "        Note: Since this function calculates the IG values iteratively, we need to consider the case of identical values,\n",
        "        and skip them, since they provide the same split.\n",
        "        Start with the highest value. (This is the trivial split)\n",
        "        While calculating the gain, the split point is always in the left set since \"<=\" rule is use.\n",
        "        At the end, we shift an example from the left child to the right child (except for case of identical values).\n",
        "        '''\n",
        "        for idx in reversed(sorted_indices):\n",
        "            label = y[idx]\n",
        "\n",
        "            #case : identical value\n",
        "            if (prev_idx and X[prev_idx]==X[idx]):\n",
        "                gains[idx]=gains[prev_idx]\n",
        "            else:\n",
        "                frac_right=(float(shifted)/num_examples)\n",
        "                frac_left=1-frac_right\n",
        "                gains[idx]=entropy_parent\n",
        "                gains[idx]-= frac_left* SplitFinder.entropy(left_frequencies,num_examples)\n",
        "                gains[idx]-= frac_right* SplitFinder.entropy(right_frequencies,num_examples)\n",
        "            shifted+=1\n",
        "            right_frequencies[label]+=1\n",
        "            left_frequencies[label]-=1\t\t\n",
        "            prev_idx=idx\n",
        "        return gains\n",
        "\n",
        "    @staticmethod\n",
        "    def find_best_single_feature_split(examples):\n",
        "        '''\n",
        "        Find the best  split along a single axis, according to maximum information gain.\n",
        "        This is the same split as used in the C4.5 algorithm, Quinlan 1993\n",
        "        Returns\n",
        "        -------\n",
        "        srule : SplitRule object \n",
        "        '''\n",
        "        (X,labels)=examples\n",
        "        num_examples=X.shape[0]\n",
        "        num_dimensions=X.shape[1]\n",
        "        print(\"SPLITTING \"+str(num_examples)+\" EXAMPLES\")\n",
        "\n",
        "        #initialize gains \n",
        "        gains = np.zeros((num_examples,num_dimensions))\n",
        "        #calculate gains considering each feature\n",
        "        for i in range(0,num_dimensions):\n",
        "            gains[:,i]= SplitFinder.mutual_information(np.reshape(X[:,i],num_examples),\n",
        "                                                        np.reshape(labels,num_examples))\n",
        "\n",
        "        #low gains = parent purity is not increased by much - so don't split\n",
        "        if (np.max(gains)<1e-6):\n",
        "            return None\n",
        "\n",
        "        #get split point (sample_idx,feature_idx), i.e. the point with max gains\n",
        "        split_point = np.unravel_index(np.argmax(gains),gains.shape)\n",
        "\n",
        "        #build split rule object\n",
        "        feature_to_split=split_point[1]\n",
        "        split_value=X[split_point]\n",
        "\n",
        "        #avoid making a trivial split\n",
        "        if (X[:,feature_to_split] <= split_value).all() or (X[:,feature_to_split] >= split_value).all():\n",
        "            return None\n",
        "\n",
        "        splits=[(feature_to_split,\"lte\",split_value)]\n",
        "        #create a simple split rule, i.e. 1-of-1\n",
        "        srule= SplitRule(splits,1,1)\n",
        "        return srule\n",
        "\n",
        "    @staticmethod\n",
        "    def find_best_m_of_n_split(examples):\n",
        "        '''\n",
        "        Find the best m-of-n split. An m-of-n split, is a splitting function composed of n boolean expressions.\n",
        "        An m-of-n split is satisifed if at least m-of-n expressions is satisfied\n",
        "        TODO: Right now just returns a binary split\n",
        "        '''\n",
        "\n",
        "        seed= SplitFinder.find_best_single_feature_split(examples)\n",
        "        ##TODO find best m-of-n split with hill climbing method, with C4.5 split as \n",
        "        srule=seed\n",
        "        return srule\n",
        "\n",
        "\n",
        "def partition(examples,srule):\n",
        "\t'''\n",
        "\tUtility function to partition an example set by filtering with a SplitRule object.\n",
        "\tReturns\n",
        "\t-------\n",
        "\texamples_l,examples_r : np arrays of shape (*,num_dimensions)\n",
        "\t'''\n",
        "\t(X,y) = examples\n",
        "\tnum_examples = X.shape[0]\n",
        "\tleft_partition,right_partition=[[],[]]\n",
        "\n",
        "\tfor idx in range(0,num_examples):\n",
        "\t\tif srule.satisfied(X[idx,:]):\n",
        "\t\t\tleft_partition.append(idx)\n",
        "\t\telse:\n",
        "\t\t\tright_partition.append(idx)\n",
        "\n",
        "\texamples_l = (X[left_partition,:],y[left_partition])\n",
        "\texamples_r = (X[right_partition,:],y[right_partition])\n",
        "\treturn examples_l,examples_r\n"
      ],
      "metadata": {
        "id": "5gKqEmIJollO"
      },
      "execution_count": null,
      "outputs": []
    },
    {
      "cell_type": "markdown",
      "source": [
        "## Oracle Class"
      ],
      "metadata": {
        "id": "fJ-P2KU3muF8"
      }
    },
    {
      "cell_type": "code",
      "source": [
        "class Oracle:\n",
        "    '''\n",
        "    Wrapper object for the ANN which we wish to imitate. Also contains logic to generate examples from the \n",
        "    constrained distribution of training examples.\n",
        "    '''\n",
        "\n",
        "    def __init__(self,network,num_classes,trainX):\n",
        "        self.network=network\n",
        "        self.num_classes=num_classes\n",
        "        self.dimension=trainX.shape[1]\n",
        "        self.feature_distributions=self.generate_feature_distributions(trainX)\n",
        "\n",
        "    def generate_feature_distributions(self,trainX):\n",
        "        '''\n",
        "        Returns a list of objects modeling the probability distributions of each feature.\n",
        "        For continuous features we use Gaussian Kernel Density Estimation from scipy.stats\n",
        "        '''\n",
        "\n",
        "        feature_distributions =[]\n",
        "        #only consider continuous distributions\n",
        "        for i in range(0,self.dimension):\n",
        "            feature_values = trainX[:,i].reshape(trainX.shape[0])\n",
        "            kernel = stats.gaussian_kde(feature_values,bw_method='silverman')\n",
        "            feature_distributions.append(kernel)\n",
        "        return feature_distributions\n",
        "\n",
        "    def get_oracle_label(self,example):\n",
        "        '''\n",
        "        Returns the label predicated by the oracle network for example\n",
        "        '''\n",
        "        print(f'example type {type(example)}')\n",
        "        print(f'example shape {example.shape}')\n",
        "        onehot =self.network.predict(np.array(example)).reshape(self.num_classes)\n",
        "        # onehot =self.network.predict(np.array([example])).reshape(self.num_classes)\n",
        "        return np.argmax(onehot)\n",
        "\n",
        "    def generate_constrained_examples_with_labels(self,constraints,num_examples):\n",
        "        '''\n",
        "        Returns a tuple of examples,oracle_labels , where examples are drawn from the distribution of the\n",
        "        training examples, after constraints have been applied to it.\n",
        "        '''\n",
        "\n",
        "        examples= np.zeros((num_examples,self.dimension))\n",
        "        oracle_labels = np.zeros(num_examples)\n",
        "        i=0\n",
        "        print(num_examples)\n",
        "        for i in range(0,num_examples):\n",
        "            example=self.generate_constrained_example(constraints)\n",
        "            label=self.get_oracle_label(example)\n",
        "            examples[i,:]=example\n",
        "            oracle_labels[i]=label\n",
        "                                            \n",
        "        return (examples,oracle_labels)\n",
        "\n",
        "    #can be more efficient\n",
        "    def generate_constrained_example(self,constraints):\n",
        "        '''\n",
        "        Returns an example drawn from the distribution of the training examples, after constraints have been applied to it.\n",
        "        '''\n",
        "\n",
        "        example = np.zeros(self.dimension)\n",
        "        #assuming features have independent distributions, sample each feature separately\n",
        "        for i in range(0,self.dimension):\n",
        "            min_val = constraints.min_val(i)\n",
        "            max_val = constraints.max_val(i)\n",
        "            done=False\n",
        "            #generate the ith feature by rejection sampling\n",
        "            while not done :\n",
        "                #sample i^th feature from its distribution\n",
        "                example[i]=self.feature_distributions[i].resample(1)[0]\n",
        "                if example[i] > min_val and example[i] < max_val :\n",
        "                    done=True\n",
        "        return example\n",
        "\n",
        "    def is_valid_example(self,example,constraints):\n",
        "        '''\n",
        "        Returns True if sample satisfies given constraints, else False\n",
        "        '''\n",
        "        \n",
        "        for constraint in constraints:\n",
        "            (satisfied,splitrule)=constraint\n",
        "            if satisfied!=splitrule.satisfied(example):\n",
        "                return False\n",
        "        return True"
      ],
      "metadata": {
        "id": "yBGOiwrsmweK"
      },
      "execution_count": null,
      "outputs": []
    },
    {
      "cell_type": "markdown",
      "source": [
        "## Node Class"
      ],
      "metadata": {
        "id": "6vYu4Tt8m8H3"
      }
    },
    {
      "cell_type": "code",
      "source": [
        "class Node:\n",
        "    '''\n",
        "    Object represents a single node in the decision tree. It's important fields are\n",
        "    leaf : bool, True if node is a leaf node, False if it is an internal node\n",
        "    left_child,right_child : type:Node , children of internal node\n",
        "    splitrule : type:SplitRule object used to route an arriving example to either the left or right node.\n",
        "    The splitrule is chosen to be the \"best\" according to SplitFinder.find_best_m_of_n_split.\n",
        "    priority is calculated as\n",
        "    priority = reach (1- fidelity)\n",
        "    reach \t= fraction of instances that reach n\n",
        "            = num_examples/total_num_examples\n",
        "    fidelity= classification rate (wrt to ANN labels, not ground truth)\n",
        "            = 1 - (misclassified/num_examples)\n",
        "    '''\n",
        "\n",
        "    def __init__(self,labeled_examples,total_num_examples):\n",
        "        self.leaf=True\n",
        "        self.left_child=None\n",
        "        self.right_child=None\n",
        "        self.splitrule=None\n",
        "        self.num_examples= labeled_examples[\"trainX\"].shape[0]\n",
        "\n",
        "        if self.num_examples==0:#when does this happen?\n",
        "            self.priority=0\n",
        "        else:\n",
        "            self.dominant = self.get_dominant_class(labeled_examples)\n",
        "            self.misclassified=self.get_misclassified_count(labeled_examples)\n",
        "            self.fidelity = 1 - (float(self.misclassified)/self.num_examples)\n",
        "            self.reach = float(self.num_examples)/total_num_examples\n",
        "            self.priority = (-1)*self.reach* (1 - self.fidelity)\n",
        "        \n",
        "        print(\"NEW NODE! with priority = \"+ str(self.priority))\n",
        "\n",
        "    def get_dominant_class(self,labeled_examples):\n",
        "        '''\n",
        "        This function returns the \"dominant\" class of this node, i.e., the class with the highest count of the examples in this node.\n",
        "        The dominant class\n",
        "        '''\n",
        "\n",
        "        trainX = labeled_examples[\"trainX\"]\n",
        "        labels = labeled_examples[\"labels\"]\n",
        "        class_counts={}\n",
        "        #get count for all labels\n",
        "        for label in labels:\n",
        "            if label not in class_counts:\n",
        "                #insert in counter\n",
        "                class_counts[label]=0\n",
        "            class_counts[label]+=1\n",
        "\n",
        "        #get the class with the max count\n",
        "        max_count=0\n",
        "        max_class=0\n",
        "        for label in class_counts:\n",
        "            if class_counts[label]>max_count:\n",
        "                max_class=label\n",
        "                max_count=class_counts[label]\n",
        "        return max_class\n",
        "\n",
        "    def get_misclassified_count(self,labeled_examples):\n",
        "        '''\n",
        "        Get the number of training examples misclassified by this node, if it were a leaf.\n",
        "        This is nothing but the number of examples not belonging to the dominant class.\n",
        "        This value is used to calculate the \"priority\" of a node, which determines when to explore/split a node.\n",
        "        '''\n",
        "\n",
        "        labels = labeled_examples[\"labels\"]\n",
        "        num_misclassified=0\n",
        "        for label in labels:\n",
        "            if label != self.dominant:\n",
        "                num_misclassified+=1\n",
        "        return num_misclassified\n",
        "\n",
        "    def classify(self,example):\n",
        "        '''\n",
        "        Returns the predicted class for a given example.\n",
        "        For an internal node, the example is recursively routed to either the left or right child according to the **splitrule**,\n",
        "        till it descends to a leaf.\n",
        "        For a leaf, the dominant (max count) class is returned as the label\n",
        "        '''\n",
        "        \n",
        "        if self.leaf :\n",
        "            return self.dominant\n",
        "        if self.splitrule.satisfied(example):\n",
        "            return self.left_child.classify(example)\n",
        "        else:\n",
        "            return self.right_child.classify(example)\n"
      ],
      "metadata": {
        "id": "2lk2RyE2m91W"
      },
      "execution_count": null,
      "outputs": []
    },
    {
      "cell_type": "markdown",
      "source": [
        "## Constraints Class"
      ],
      "metadata": {
        "id": "Gkx1f2QJnD7c"
      }
    },
    {
      "cell_type": "code",
      "source": [
        "class Constraints :\n",
        "\n",
        "\tdef __init__(self,num_dim):\n",
        "\t\t# self.cons_list=[]\n",
        "\t\tself.num_dim=num_dim\n",
        "\t\tself.max_list = np.zeros(num_dim)\n",
        "\t\tself.min_list = np.zeros(num_dim)\n",
        "\n",
        "\tdef addRule(self,split):\n",
        "\t\tfor i in range(0,self.num_dim):\n",
        "\t\t\tself.max_list[i]=max(self.max_list[i],split.max_val(i))\n",
        "\t\t\tself.min_list[i]=min(self.min_list[i],split.min_val(i))\n",
        "\n",
        "\tdef max_val(self,dim):\n",
        "\t\treturn self.max_list[dim]\n",
        "\n",
        "\tdef min_val(self,dim):\n",
        "\t\treturn self.min_list[dim]\n",
        "\n",
        "\tdef copy(self):\n",
        "\t\tc = Constraints(self.num_dim)\n",
        "\t\tc.max_list=np.copy(self.max_list)\n",
        "\t\tc.min_list=np.copy(self.min_list)\n",
        "\t\treturn c"
      ],
      "metadata": {
        "id": "qwsmfRw3nGAe"
      },
      "execution_count": null,
      "outputs": []
    },
    {
      "cell_type": "markdown",
      "source": [
        "## SplitRule Class"
      ],
      "metadata": {
        "id": "YmSZkynanMpM"
      }
    },
    {
      "cell_type": "code",
      "source": [
        "class SplitRule:\n",
        "\t'''\n",
        "\tClass representing a splitting/partitioning function.\n",
        "\tThe function is particularly an m-of-n expression which is composed of n boolean value expressions,\n",
        "\tand which is satisfied by an example if at least m out of n expressions is satisfied.\n",
        "\tThe boolean expressions are linear inequalities/equalities.\n",
        "\tKeeps a list of upper and lower bounds on each feature. Used by constraints object.\n",
        "\tParameters\n",
        "\t---------\n",
        "\tsplits\t: List[(feature_to_split,operator,split_value)]\n",
        "\tm\t\t: int (minimum number of constraints to satisfy for SplitRule to be satisfied)\n",
        "\tn\t\t: int , number of constraints this splitrule is composed of\n",
        "\t'''\n",
        "\n",
        "\tdef __init__(self,splits,m,n):\n",
        "\t\tself.splits=splits\n",
        "\t\tself.m=m\n",
        "\t\tself.n=n\n",
        "\t\tself.op_dict= {\"gte\":self.gte,\"lte\":self.lte}\n",
        "\t\tself.process_splits()\n",
        "\n",
        "\tdef process_splits(self):\n",
        "\t\tself.max_dict={}\n",
        "\t\tself.min_dict={}\n",
        "\t\tfor (feature_to_split,operator,split_value) in self.splits:\n",
        "\t\t\tif operator in [\"lte\" ,\"lt\"]:\n",
        "\t\t\t\tif feature_to_split not in self.max_dict:\n",
        "\t\t\t\t\tself.max_dict[feature_to_split]=split_value\n",
        "\t\t\t\tself.max_dict[feature_to_split] = max(self.max_dict[feature_to_split],split_value)\n",
        "\t\t\telif operator in [\"gte\",\"gt\"]:\n",
        "\t\t\t\tif feature_to_split not in self.min_dict:\n",
        "\t\t\t\t\tself.min_dict[feature_to_split]=split_value\n",
        "\t\t\t\tself.min_dict[feature_to_split] = min(self.min_dict[feature_to_split],split_value)\n",
        "\n",
        "\t#for building constraints\n",
        "\tdef invert(self):\n",
        "\t\t'''\n",
        "\t\tReturns the \"inverse\" of this SplitRule object. \n",
        "\t\tDoes this by inverting each of the individual constraints.\n",
        "\t\tWhile at each level, only one (left child's) split is evaluated, \n",
        "\t\tWe need to pass the inverse to the right child to add to its list of constraints.\n",
        "\t\tNote: What is the inverse of an m-of-n split? \n",
        "\t\t'''\n",
        "\t\tinverted_splits= []\n",
        "\t\tinverse_map = {\"gte\":\"lt\",\"gt\":\"lte\",\"lte\":\"gt\",\"lt\":\"gte\"}\n",
        "\t\tfor (feature_to_split,operator,val) in self.splits:\n",
        "\t\t\tinverse_operator=inverse_map[operator]\n",
        "\t\t\tinverted_splits.append((feature_to_split,inverse_operator,val))\n",
        "\t\tinvsplit = SplitRule(inverted_splits,self.m,self.n)\n",
        "\t\treturn invsplit\n",
        "\n",
        "\tdef gte(self,arg1, arg2):\n",
        "\t\treturn arg1 >= arg2\n",
        "\n",
        "\tdef lte(self,arg1, arg2):\n",
        "\t\treturn arg1 <= arg2\n",
        "\n",
        "\tdef lt(self,arg1,arg2):\n",
        "\t\treturn arg1 < arg2\n",
        "\n",
        "\tdef gt(self,arg1,arg2):\n",
        "\t\treturn arg1 > arg2\n",
        "\n",
        "\tdef satisfied(self,sample):\n",
        "\t\t'''\n",
        "\t\tEvaluates the splitrule given a sample.\n",
        "\t\t\n",
        "\t\tParameters\n",
        "\t\t----------\n",
        "\t\tsample : np array of shape (num_features)\n",
        "\t\tReturns\n",
        "\t\t---------\n",
        "\t\tTrue if at least m constraints are satisfied\n",
        "\t\tFalse otherwise\n",
        "\t\t'''\n",
        "\t\tnum_satisfied=0\n",
        "\t\tfor split in self.splits:\n",
        "\t\t\t(feature_idx,op_string,val)=split\n",
        "\t\t\top = self.op_dict[op_string]\n",
        "\t\t\tif op(sample[feature_idx],val):\n",
        "\t\t\t\tnum_satisfied+=1\n",
        "\t\tif num_satisfied < self.m:\n",
        "\t\t\treturn False\n",
        "\t\telse:\n",
        "\t\t\treturn True\n",
        "\n",
        "\n",
        "\tdef max_val(self,dim):\n",
        "\t\tif dim in self.max_dict :\n",
        "\t\t\treturn self.max_dict[dim]\n",
        "\t\telse :\n",
        "\t\t\treturn np.inf\n",
        "\n",
        "\tdef min_val(self,dim):\n",
        "\t\tif dim in self.min_dict:\n",
        "\t\t\treturn self.min_dict[dim]\n",
        "\t\telse :\n",
        "\t\t\treturn -np.inf"
      ],
      "metadata": {
        "id": "0_7RnYG9nOwB"
      },
      "execution_count": null,
      "outputs": []
    },
    {
      "cell_type": "markdown",
      "source": [
        "\n",
        "## Trepan : Extraction of a decision tree\n"
      ],
      "metadata": {
        "id": "w4lBYlryAlo3"
      }
    },
    {
      "cell_type": "code",
      "source": [
        "## roots for all \n",
        "roots = []\n",
        "\n",
        "for i in range (0, len(easts)):\n",
        "\n",
        "  oracle = Oracle(east,num_classes,np.array(x_train).T)\n",
        "\n",
        "    #build decision tree with TREPAN\n",
        "  MIN_EXAMPLES_PER_NODE = 10\n",
        "  MAX_NODES=20\n",
        "  print(f'decision tree for element {val_train}')\n",
        "  \n",
        "  root=Trepan.build_tree(MIN_EXAMPLES_PER_NODE,MAX_NODES,np.array(x_train),oracle)\n",
        "  roots.append(root)"
      ],
      "metadata": {
        "id": "pwCRwp3KwTGl"
      },
      "execution_count": null,
      "outputs": []
    },
    {
      "cell_type": "markdown",
      "source": [
        "## Extract rules "
      ],
      "metadata": {
        "id": "KFap-mSlisyN"
      }
    },
    {
      "cell_type": "markdown",
      "source": [
        "### Function definition "
      ],
      "metadata": {
        "id": "UdcanlfwivlR"
      }
    },
    {
      "cell_type": "code",
      "source": [
        "def find_path(node_numb, path, x):\n",
        "        path.append(node_numb)\n",
        "        if node_numb == x:\n",
        "            return True\n",
        "        left = False\n",
        "        right = False\n",
        "        if (children_left[node_numb] !=-1):\n",
        "            left = find_path(children_left[node_numb], path, x)\n",
        "        if (children_right[node_numb] !=-1):\n",
        "            right = find_path(children_right[node_numb], path, x)\n",
        "        if left or right :\n",
        "            return True\n",
        "        path.remove(node_numb)\n",
        "        return False\n",
        "\n",
        "\n",
        "def get_rule(path, column_names):\n",
        "    mask = ''\n",
        "    for index, node in enumerate(path):\n",
        "        #We check if we are not in the leaf\n",
        "        if index!=len(path)-1:\n",
        "            # Do we go under or over the threshold ?\n",
        "            if (children_left[node] == path[index+1]):\n",
        "                mask += \"(df['{}']<= {}) \\t \".format(column_names[feature[node]], threshold[node])\n",
        "            else:\n",
        "                mask += \"(df['{}']> {}) \\t \".format(column_names[feature[node]], threshold[node])\n",
        "    # We insert the & at the right places\n",
        "    mask = mask.replace(\"\\t\", \"&\", mask.count(\"\\t\") - 1)\n",
        "    mask = mask.replace(\"\\t\", \"\")\n",
        "    return mask"
      ],
      "metadata": {
        "id": "2U5Wsi3sisI_"
      },
      "execution_count": null,
      "outputs": []
    },
    {
      "cell_type": "markdown",
      "source": [
        "### Rule Extraction"
      ],
      "metadata": {
        "id": "ZVnF1CcHqb5n"
      }
    },
    {
      "cell_type": "code",
      "source": [
        "for iroot in range(0, len(roots)):\n",
        "  n_nodes = roots[iroot].tree_.node_count\n",
        "  children_left = roots[iroot].tree_.children_left\n",
        "  children_right = roots[iroot].tree_.children_right\n",
        "  feature = roots[iroot].tree_.feature\n",
        "  threshold = roots[iroot].tree_.threshold\n",
        "  # Leaves\n",
        "  leave_id = roots[iroot].apply(X_test)\n",
        "\n",
        "  paths ={}\n",
        "  for leaf in np.unique(leave_id):\n",
        "      path_leaf = []\n",
        "      find_path(0, path_leaf, leaf)\n",
        "      paths[leaf] = np.unique(np.sort(path_leaf))\n",
        "\n",
        "  rules = {}\n",
        "  for key in paths:\n",
        "      rules[key] = get_rule(paths[key], pima.columns)\n",
        "    # Leaves\n",
        "  leave_id = roots[iroot].apply(X_test)\n",
        "\n",
        "  paths ={}\n",
        "  for leaf in np.unique(leave_id):\n",
        "      path_leaf = []\n",
        "      find_path(0, path_leaf, leaf)\n",
        "      paths[leaf] = np.unique(np.sort(path_leaf))\n",
        "\n",
        "  rules = {}\n",
        "  for key in paths:\n",
        "      rules[key] = get_rule(paths[key], pima.columns)\n",
        "  print(f'rules for train {iroot}')\n",
        "  print(rules)"
      ],
      "metadata": {
        "id": "ezOjRwFUoV-B"
      },
      "execution_count": null,
      "outputs": []
    }
  ]
}